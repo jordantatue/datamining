{
 "cells": [
  {
   "cell_type": "markdown",
   "metadata": {},
   "source": [
    "1. Understanding the data:\n",
    "Analyze and prepare the dataset to identify relevant features and define the target variable.\n",
    "Handle missing data, outliers, and transform data to make it usable in algorithms.\n",
    "2. Building predictive models :\n",
    "Train models to meet two main objectives:\n",
    "Classification: Identify target classes using techniques such as KNN, decision trees or SVM.\n",
    "Regression: Predict a continuous variable (e.g., total) using algorithms such as regressive decision trees or Gradient Boosted Trees.\n",
    "3. Performance evaluation:\n",
    "Evaluate models using relevant metrics (precision, recall, F1-score, MSE, R²).\n",
    "Compare the performance of different algorithms to select the best model for your needs.\n",
    "4. Optimization and interpretation :\n",
    "Optimize models (GridSearch, Cross-validation) to improve accuracy and reduce runtime.\n",
    "Interpret results and identify strengths and weaknesses of trained models.\n",
    "\n",
    "Translated with DeepL.com (free version)"
   ]
  },
  {
   "cell_type": "markdown",
   "metadata": {},
   "source": [
    "# Exercise 7 - DT, gradient boosting and random forest for regression"
   ]
  },
  {
   "cell_type": "code",
   "execution_count": 51,
   "metadata": {},
   "outputs": [],
   "source": [
    "import pandas as pd\n",
    "import numpy as np\n",
    "import matplotlib.pyplot as plt\n",
    "from sklearn import preprocessing"
   ]
  },
  {
   "cell_type": "markdown",
   "metadata": {},
   "source": [
    "We use the trip data again. This time we do not want to perform a classification according to high_revenue, but instead directly predict the numerical value turnover (total_sum)."
   ]
  },
  {
   "cell_type": "code",
   "execution_count": 52,
   "metadata": {},
   "outputs": [
    {
     "data": {
      "text/html": [
       "<div>\n",
       "<style scoped>\n",
       "    .dataframe tbody tr th:only-of-type {\n",
       "        vertical-align: middle;\n",
       "    }\n",
       "\n",
       "    .dataframe tbody tr th {\n",
       "        vertical-align: top;\n",
       "    }\n",
       "\n",
       "    .dataframe thead th {\n",
       "        text-align: right;\n",
       "    }\n",
       "</style>\n",
       "<table border=\"1\" class=\"dataframe\">\n",
       "  <thead>\n",
       "    <tr style=\"text-align: right;\">\n",
       "      <th></th>\n",
       "      <th>year</th>\n",
       "      <th>month</th>\n",
       "      <th>startClusterID</th>\n",
       "      <th>endClusterID</th>\n",
       "      <th>isHoliday</th>\n",
       "      <th>weekday</th>\n",
       "      <th>daytime</th>\n",
       "      <th>distance</th>\n",
       "      <th>count</th>\n",
       "      <th>total</th>\n",
       "      <th>categorie_count</th>\n",
       "    </tr>\n",
       "  </thead>\n",
       "  <tbody>\n",
       "    <tr>\n",
       "      <th>0</th>\n",
       "      <td>2021</td>\n",
       "      <td>3</td>\n",
       "      <td>3254026000002</td>\n",
       "      <td>3254026000007</td>\n",
       "      <td>1</td>\n",
       "      <td>0</td>\n",
       "      <td>7</td>\n",
       "      <td>3</td>\n",
       "      <td>15</td>\n",
       "      <td>45</td>\n",
       "      <td>1</td>\n",
       "    </tr>\n",
       "    <tr>\n",
       "      <th>1</th>\n",
       "      <td>2021</td>\n",
       "      <td>3</td>\n",
       "      <td>3241013050002</td>\n",
       "      <td>3241013050008</td>\n",
       "      <td>1</td>\n",
       "      <td>3</td>\n",
       "      <td>17</td>\n",
       "      <td>0</td>\n",
       "      <td>10</td>\n",
       "      <td>0</td>\n",
       "      <td>0</td>\n",
       "    </tr>\n",
       "    <tr>\n",
       "      <th>2</th>\n",
       "      <td>2021</td>\n",
       "      <td>3</td>\n",
       "      <td>3241013050007</td>\n",
       "      <td>3241013030001</td>\n",
       "      <td>1</td>\n",
       "      <td>5</td>\n",
       "      <td>11</td>\n",
       "      <td>3</td>\n",
       "      <td>10</td>\n",
       "      <td>30</td>\n",
       "      <td>0</td>\n",
       "    </tr>\n",
       "    <tr>\n",
       "      <th>3</th>\n",
       "      <td>2021</td>\n",
       "      <td>3</td>\n",
       "      <td>3254028001012</td>\n",
       "      <td>3254028001004</td>\n",
       "      <td>1</td>\n",
       "      <td>2</td>\n",
       "      <td>13</td>\n",
       "      <td>0</td>\n",
       "      <td>15</td>\n",
       "      <td>0</td>\n",
       "      <td>1</td>\n",
       "    </tr>\n",
       "    <tr>\n",
       "      <th>4</th>\n",
       "      <td>2021</td>\n",
       "      <td>3</td>\n",
       "      <td>3254028001003</td>\n",
       "      <td>3241013070001</td>\n",
       "      <td>1</td>\n",
       "      <td>2</td>\n",
       "      <td>18</td>\n",
       "      <td>7</td>\n",
       "      <td>10</td>\n",
       "      <td>70</td>\n",
       "      <td>0</td>\n",
       "    </tr>\n",
       "  </tbody>\n",
       "</table>\n",
       "</div>"
      ],
      "text/plain": [
       "   year  month  startClusterID   endClusterID  isHoliday  weekday  daytime  \\\n",
       "0  2021      3   3254026000002  3254026000007          1        0        7   \n",
       "1  2021      3   3241013050002  3241013050008          1        3       17   \n",
       "2  2021      3   3241013050007  3241013030001          1        5       11   \n",
       "3  2021      3   3254028001012  3254028001004          1        2       13   \n",
       "4  2021      3   3254028001003  3241013070001          1        2       18   \n",
       "\n",
       "   distance  count  total  categorie_count  \n",
       "0         3     15     45                1  \n",
       "1         0     10      0                0  \n",
       "2         3     10     30                0  \n",
       "3         0     15      0                1  \n",
       "4         7     10     70                0  "
      ]
     },
     "execution_count": 52,
     "metadata": {},
     "output_type": "execute_result"
    }
   ],
   "source": [
    "# space\n",
    "df = pd.read_csv('prepared_data2.csv')\n",
    "df.head()"
   ]
  },
  {
   "cell_type": "markdown",
   "metadata": {},
   "source": [
    "## 7.1 Handling missing values\n",
    "First of all, we start with the treatment of missing values."
   ]
  },
  {
   "cell_type": "code",
   "execution_count": 53,
   "metadata": {},
   "outputs": [
    {
     "name": "stdout",
     "output_type": "stream",
     "text": [
      "year               0\n",
      "month              0\n",
      "startClusterID     0\n",
      "endClusterID       0\n",
      "isHoliday          0\n",
      "weekday            0\n",
      "daytime            0\n",
      "distance           0\n",
      "count              0\n",
      "total              0\n",
      "categorie_count    0\n",
      "dtype: int64\n"
     ]
    }
   ],
   "source": [
    "# Vérifier les valeurs manquantes par colonne\n",
    "valeurs_manquantes = df.isnull().sum()\n",
    "print(valeurs_manquantes)\n",
    "dfCopy=df.copy()"
   ]
  },
  {
   "cell_type": "markdown",
   "metadata": {},
   "source": [
    "## 7.2 Coding of relevant attributes\n"
   ]
  },
  {
   "cell_type": "code",
   "execution_count": 80,
   "metadata": {
    "scrolled": true
   },
   "outputs": [
    {
     "data": {
      "text/html": [
       "<div>\n",
       "<style scoped>\n",
       "    .dataframe tbody tr th:only-of-type {\n",
       "        vertical-align: middle;\n",
       "    }\n",
       "\n",
       "    .dataframe tbody tr th {\n",
       "        vertical-align: top;\n",
       "    }\n",
       "\n",
       "    .dataframe thead th {\n",
       "        text-align: right;\n",
       "    }\n",
       "</style>\n",
       "<table border=\"1\" class=\"dataframe\">\n",
       "  <thead>\n",
       "    <tr style=\"text-align: right;\">\n",
       "      <th></th>\n",
       "      <th>year</th>\n",
       "      <th>month</th>\n",
       "      <th>startClusterID</th>\n",
       "      <th>endClusterID</th>\n",
       "      <th>isHoliday</th>\n",
       "      <th>weekday</th>\n",
       "      <th>daytime</th>\n",
       "      <th>distance</th>\n",
       "      <th>count</th>\n",
       "      <th>total</th>\n",
       "      <th>categorie_count</th>\n",
       "    </tr>\n",
       "  </thead>\n",
       "  <tbody>\n",
       "    <tr>\n",
       "      <th>0</th>\n",
       "      <td>1</td>\n",
       "      <td>3</td>\n",
       "      <td>3254026000002</td>\n",
       "      <td>3254026000007</td>\n",
       "      <td>1</td>\n",
       "      <td>0</td>\n",
       "      <td>7</td>\n",
       "      <td>3</td>\n",
       "      <td>15</td>\n",
       "      <td>45</td>\n",
       "      <td>1</td>\n",
       "    </tr>\n",
       "    <tr>\n",
       "      <th>1</th>\n",
       "      <td>1</td>\n",
       "      <td>3</td>\n",
       "      <td>3241013050002</td>\n",
       "      <td>3241013050008</td>\n",
       "      <td>1</td>\n",
       "      <td>3</td>\n",
       "      <td>17</td>\n",
       "      <td>0</td>\n",
       "      <td>10</td>\n",
       "      <td>0</td>\n",
       "      <td>0</td>\n",
       "    </tr>\n",
       "    <tr>\n",
       "      <th>2</th>\n",
       "      <td>1</td>\n",
       "      <td>3</td>\n",
       "      <td>3241013050007</td>\n",
       "      <td>3241013030001</td>\n",
       "      <td>1</td>\n",
       "      <td>5</td>\n",
       "      <td>11</td>\n",
       "      <td>3</td>\n",
       "      <td>10</td>\n",
       "      <td>30</td>\n",
       "      <td>0</td>\n",
       "    </tr>\n",
       "    <tr>\n",
       "      <th>3</th>\n",
       "      <td>1</td>\n",
       "      <td>3</td>\n",
       "      <td>3254028001012</td>\n",
       "      <td>3254028001004</td>\n",
       "      <td>1</td>\n",
       "      <td>2</td>\n",
       "      <td>13</td>\n",
       "      <td>0</td>\n",
       "      <td>15</td>\n",
       "      <td>0</td>\n",
       "      <td>1</td>\n",
       "    </tr>\n",
       "    <tr>\n",
       "      <th>4</th>\n",
       "      <td>1</td>\n",
       "      <td>3</td>\n",
       "      <td>3254028001003</td>\n",
       "      <td>3241013070001</td>\n",
       "      <td>1</td>\n",
       "      <td>2</td>\n",
       "      <td>18</td>\n",
       "      <td>7</td>\n",
       "      <td>10</td>\n",
       "      <td>70</td>\n",
       "      <td>0</td>\n",
       "    </tr>\n",
       "    <tr>\n",
       "      <th>...</th>\n",
       "      <td>...</td>\n",
       "      <td>...</td>\n",
       "      <td>...</td>\n",
       "      <td>...</td>\n",
       "      <td>...</td>\n",
       "      <td>...</td>\n",
       "      <td>...</td>\n",
       "      <td>...</td>\n",
       "      <td>...</td>\n",
       "      <td>...</td>\n",
       "      <td>...</td>\n",
       "    </tr>\n",
       "    <tr>\n",
       "      <th>237482</th>\n",
       "      <td>1</td>\n",
       "      <td>10</td>\n",
       "      <td>3241013050001</td>\n",
       "      <td>3241013080001</td>\n",
       "      <td>1</td>\n",
       "      <td>6</td>\n",
       "      <td>17</td>\n",
       "      <td>5</td>\n",
       "      <td>5</td>\n",
       "      <td>25</td>\n",
       "      <td>0</td>\n",
       "    </tr>\n",
       "    <tr>\n",
       "      <th>237483</th>\n",
       "      <td>0</td>\n",
       "      <td>10</td>\n",
       "      <td>3254028001012</td>\n",
       "      <td>3254028001003</td>\n",
       "      <td>0</td>\n",
       "      <td>4</td>\n",
       "      <td>9</td>\n",
       "      <td>0</td>\n",
       "      <td>15</td>\n",
       "      <td>0</td>\n",
       "      <td>1</td>\n",
       "    </tr>\n",
       "    <tr>\n",
       "      <th>237484</th>\n",
       "      <td>1</td>\n",
       "      <td>10</td>\n",
       "      <td>3254028001013</td>\n",
       "      <td>3254028003001</td>\n",
       "      <td>1</td>\n",
       "      <td>0</td>\n",
       "      <td>9</td>\n",
       "      <td>2</td>\n",
       "      <td>10</td>\n",
       "      <td>20</td>\n",
       "      <td>0</td>\n",
       "    </tr>\n",
       "    <tr>\n",
       "      <th>237485</th>\n",
       "      <td>1</td>\n",
       "      <td>10</td>\n",
       "      <td>3254026000014</td>\n",
       "      <td>3254026000003</td>\n",
       "      <td>1</td>\n",
       "      <td>4</td>\n",
       "      <td>18</td>\n",
       "      <td>5</td>\n",
       "      <td>5</td>\n",
       "      <td>25</td>\n",
       "      <td>0</td>\n",
       "    </tr>\n",
       "    <tr>\n",
       "      <th>237486</th>\n",
       "      <td>0</td>\n",
       "      <td>10</td>\n",
       "      <td>3254028004001</td>\n",
       "      <td>3254028001013</td>\n",
       "      <td>0</td>\n",
       "      <td>3</td>\n",
       "      <td>12</td>\n",
       "      <td>2</td>\n",
       "      <td>15</td>\n",
       "      <td>30</td>\n",
       "      <td>1</td>\n",
       "    </tr>\n",
       "  </tbody>\n",
       "</table>\n",
       "<p>237487 rows × 11 columns</p>\n",
       "</div>"
      ],
      "text/plain": [
       "        year  month  startClusterID   endClusterID  isHoliday  weekday  \\\n",
       "0          1      3   3254026000002  3254026000007          1        0   \n",
       "1          1      3   3241013050002  3241013050008          1        3   \n",
       "2          1      3   3241013050007  3241013030001          1        5   \n",
       "3          1      3   3254028001012  3254028001004          1        2   \n",
       "4          1      3   3254028001003  3241013070001          1        2   \n",
       "...      ...    ...             ...            ...        ...      ...   \n",
       "237482     1     10   3241013050001  3241013080001          1        6   \n",
       "237483     0     10   3254028001012  3254028001003          0        4   \n",
       "237484     1     10   3254028001013  3254028003001          1        0   \n",
       "237485     1     10   3254026000014  3254026000003          1        4   \n",
       "237486     0     10   3254028004001  3254028001013          0        3   \n",
       "\n",
       "        daytime  distance  count  total  categorie_count  \n",
       "0             7         3     15     45                1  \n",
       "1            17         0     10      0                0  \n",
       "2            11         3     10     30                0  \n",
       "3            13         0     15      0                1  \n",
       "4            18         7     10     70                0  \n",
       "...         ...       ...    ...    ...              ...  \n",
       "237482       17         5      5     25                0  \n",
       "237483        9         0     15      0                1  \n",
       "237484        9         2     10     20                0  \n",
       "237485       18         5      5     25                0  \n",
       "237486       12         2     15     30                1  \n",
       "\n",
       "[237487 rows x 11 columns]"
      ]
     },
     "execution_count": 80,
     "metadata": {},
     "output_type": "execute_result"
    }
   ],
   "source": [
    "# here we decide to encode the year in two class because we just have two occurances on this attributes\n",
    "# and copy the date into a now sheet for the learning\n",
    "\n",
    "labelenc = preprocessing.LabelEncoder()\n",
    "labelenc.fit(dfCopy.isHoliday)\n",
    "dfCopy['year'] = labelenc.transform(dfCopy.isHoliday)\n",
    "\n",
    "dfPrepared = dfCopy.copy()\n",
    "\n",
    "dfPrepared"
   ]
  },
  {
   "cell_type": "markdown",
   "metadata": {},
   "source": [
    "## 7.3 Training the algorithms with k-fold cross-validation\n",
    "In the following, three tree-based methods from the lecture \"Supervised Methods Part 2\" will be applied. For this purpose, a 10-fold cross-validation is to be applied and then the model is to be evaluated using statistical key figures.\n",
    "In each case, use the function cross_val_predict(model, x,y,cv=10) for the cross-validation."
   ]
  },
  {
   "cell_type": "code",
   "execution_count": 81,
   "metadata": {
    "scrolled": true
   },
   "outputs": [],
   "source": [
    "from sklearn.model_selection import cross_val_predict, cross_validate\n",
    "import sklearn.metrics as metrics\n",
    "\n",
    "# we decide here to reduce the number of the data just to have better learning time for each algorithms\n",
    "# before splitting it into trainnning and testing data\n",
    "df_sampled = dfPrepared.sample(frac=0.1, random_state=42)\n",
    "x = df_sampled.drop(['count'], axis = 1)\n",
    "y = df_sampled['count'].astype(int)"
   ]
  },
  {
   "cell_type": "markdown",
   "metadata": {},
   "source": [
    "#### A1: Decision Tree Regressor\n"
   ]
  },
  {
   "cell_type": "code",
   "execution_count": 61,
   "metadata": {},
   "outputs": [],
   "source": [
    "from sklearn.tree import DecisionTreeRegressor\n",
    "\n",
    "# This line imports the DecisionTreeRegressor model from the scikit-learn library.\n",
    "# This model is used to solve regression problems.\n",
    "# It constructs a decision tree where each division is chosen to reduce a metric such as mean square error (MSE).\n",
    "\n",
    "treeRegressor = DecisionTreeRegressor(min_samples_split = 10, min_samples_leaf = 5)\n",
    "y_pred = cross_val_predict(treeRegressor, x, y, cv = 10)"
   ]
  },
  {
   "cell_type": "markdown",
   "metadata": {},
   "source": [
    "Metrics for the evaluation:"
   ]
  },
  {
   "cell_type": "code",
   "execution_count": 62,
   "metadata": {},
   "outputs": [
    {
     "name": "stdout",
     "output_type": "stream",
     "text": [
      "Results from sklearn.metrics:\n",
      "\n",
      "R-Squared: 0.9546238488537901\n",
      "\n",
      "MAE: 0.24514397825379342\n",
      "MSE: 0.7649867007864638\n",
      "RMSE: 0.8746351815394027\n"
     ]
    }
   ],
   "source": [
    "mae = metrics.mean_absolute_error(y, y_pred)\n",
    "mse = metrics.mean_squared_error(y, y_pred)\n",
    "rmse = np.sqrt(mse)  \n",
    "r2 = metrics.r2_score(y,y_pred)\n",
    "\n",
    "print(\"Results from sklearn.metrics:\\n\")\n",
    "print(\"R-Squared:\", r2)\n",
    "print()\n",
    "\n",
    "print(\"MAE:\",mae)\n",
    "print(\"MSE:\", mse)\n",
    "print(\"RMSE:\", rmse)"
   ]
  },
  {
   "cell_type": "markdown",
   "metadata": {},
   "source": [
    "High R²: The model performs well in explaining variations in target data.\n",
    "Low MAE and RMSE: The model's predictions are very close to the actual values, with low errors on average.\n",
    "Difference MAE vs RMSE: As the difference between MAE and RMSE is moderate, this suggests that large errors are not too numerous."
   ]
  },
  {
   "cell_type": "markdown",
   "metadata": {},
   "source": [
    "after training the algorithm, we can  have a look at the important features for this conrete trained algorithm."
   ]
  },
  {
   "cell_type": "code",
   "execution_count": 63,
   "metadata": {},
   "outputs": [
    {
     "name": "stdout",
     "output_type": "stream",
     "text": [
      "           Feature  Importance\n",
      "9  categorie_count    0.707250\n",
      "8            total    0.142513\n",
      "7         distance    0.138858\n",
      "6          daytime    0.004708\n",
      "5          weekday    0.003058\n",
      "1            month    0.002221\n",
      "2   startClusterID    0.000677\n",
      "3     endClusterID    0.000295\n",
      "4        isHoliday    0.000291\n",
      "0             year    0.000130\n"
     ]
    }
   ],
   "source": [
    "from sklearn.tree import DecisionTreeRegressor\n",
    "treeRegressor.fit(x, y)\n",
    "\n",
    "feature_importances = treeRegressor.feature_importances_\n",
    "\n",
    "importance_df = pd.DataFrame({\n",
    "    'Feature': x.columns,\n",
    "    'Importance': feature_importances\n",
    "}).sort_values(by='Importance', ascending=False)\n",
    "\n",
    "print(importance_df)"
   ]
  },
  {
   "cell_type": "markdown",
   "metadata": {},
   "source": [
    "This allows you to see which features the decision tree considers important and you can use these findings for further analyses."
   ]
  },
  {
   "cell_type": "markdown",
   "metadata": {},
   "source": [
    "#### A1.1: Decision Tree Regressor - additional parameters\n",
    "Pruning is a technique used in decision trees to simplify the tree and avoid overfitting. \n",
    "Rules for pre-pruning are, for example, a maximum tree depth."
   ]
  },
  {
   "cell_type": "code",
   "execution_count": 64,
   "metadata": {},
   "outputs": [],
   "source": [
    "from sklearn.tree import DecisionTreeRegressor\n",
    "\n",
    "treeRegressor = DecisionTreeRegressor(min_samples_split = 10, min_samples_leaf = 5,  max_depth=10, max_leaf_nodes=50 )\n",
    "y_pred = cross_val_predict(treeRegressor, x, y, cv = 10)"
   ]
  },
  {
   "cell_type": "code",
   "execution_count": 65,
   "metadata": {},
   "outputs": [
    {
     "name": "stdout",
     "output_type": "stream",
     "text": [
      "Results from sklearn.metrics:\n",
      "\n",
      "R-Squared: 0.9606619396714198\n",
      "\n",
      "MAE: 0.2531342461556066\n",
      "MSE: 0.6631918359301621\n",
      "RMSE: 0.8143659103438466\n"
     ]
    }
   ],
   "source": [
    "mae = metrics.mean_absolute_error(y, y_pred)\n",
    "mse = metrics.mean_squared_error(y, y_pred)\n",
    "rmse = np.sqrt(mse)  \n",
    "r2 = metrics.r2_score(y,y_pred)\n",
    "\n",
    "print(\"Results from sklearn.metrics:\\n\")\n",
    "print(\"R-Squared:\", r2)\n",
    "print()\n",
    "\n",
    "print(\"MAE:\",mae)\n",
    "print(\"MSE:\", mse)\n",
    "print(\"RMSE:\", rmse)"
   ]
  },
  {
   "cell_type": "markdown",
   "metadata": {},
   "source": [
    "here we can see with the R-squared that this models perfoms than the simple decision tree model"
   ]
  },
  {
   "cell_type": "code",
   "execution_count": 82,
   "metadata": {},
   "outputs": [
    {
     "name": "stdout",
     "output_type": "stream",
     "text": [
      "           Feature  Importance\n",
      "9  categorie_count    0.713632\n",
      "8            total    0.151296\n",
      "7         distance    0.132614\n",
      "6          daytime    0.000827\n",
      "2   startClusterID    0.000716\n",
      "1            month    0.000418\n",
      "5          weekday    0.000320\n",
      "0             year    0.000177\n",
      "3     endClusterID    0.000000\n",
      "4        isHoliday    0.000000\n"
     ]
    }
   ],
   "source": [
    "from sklearn.tree import DecisionTreeRegressor\n",
    "treeRegressor.fit(x, y)\n",
    "\n",
    "feature_importances = treeRegressor.feature_importances_\n",
    "\n",
    "importance_df = pd.DataFrame({\n",
    "    'Feature': x.columns,\n",
    "    'Importance': feature_importances\n",
    "}).sort_values(by='Importance', ascending=False)\n",
    "\n",
    "print(importance_df)"
   ]
  },
  {
   "cell_type": "markdown",
   "metadata": {},
   "source": [
    "#### A2: Random Forest Regressor\n",
    "Train the same way as above."
   ]
  },
  {
   "cell_type": "code",
   "execution_count": 67,
   "metadata": {},
   "outputs": [],
   "source": [
    "from sklearn.ensemble import RandomForestRegressor\n",
    "\n",
    "forestRegressor = RandomForestRegressor(min_samples_split = 10, min_samples_leaf = 5, n_estimators = 100)\n",
    "\n",
    "y_pred = cross_val_predict(forestRegressor, x, y, cv = 10)"
   ]
  },
  {
   "cell_type": "code",
   "execution_count": 68,
   "metadata": {},
   "outputs": [
    {
     "name": "stdout",
     "output_type": "stream",
     "text": [
      "Ergebnisse von sklearn.metrics:\n",
      "\n",
      "R-Squared: 0.9611301864233199\n",
      "\n",
      "MAE: 0.24687836232009644\n",
      "MSE: 0.6552977653921847\n",
      "RMSE: 0.8095046419830986\n"
     ]
    }
   ],
   "source": [
    "mae = metrics.mean_absolute_error(y, y_pred)\n",
    "mse = metrics.mean_squared_error(y, y_pred)\n",
    "rmse = np.sqrt(mse)  \n",
    "r2 = metrics.r2_score(y,y_pred)\n",
    "\n",
    "print(\"Ergebnisse von sklearn.metrics:\\n\")\n",
    "print(\"R-Squared:\", r2)\n",
    "print()\n",
    "\n",
    "print(\"MAE:\",mae)\n",
    "print(\"MSE:\", mse)\n",
    "print(\"RMSE:\", rmse)"
   ]
  },
  {
   "cell_type": "markdown",
   "metadata": {},
   "source": [
    "the forest tree regressor just show a better performances than the previous, we can conclute that the complexity and mutiples decisions trees inside perfoms the \n",
    "models "
   ]
  },
  {
   "cell_type": "code",
   "execution_count": 69,
   "metadata": {},
   "outputs": [
    {
     "name": "stdout",
     "output_type": "stream",
     "text": [
      "           Feature  Importance\n",
      "9  categorie_count    0.705801\n",
      "8            total    0.143220\n",
      "7         distance    0.137727\n",
      "6          daytime    0.005355\n",
      "5          weekday    0.003318\n",
      "1            month    0.002940\n",
      "3     endClusterID    0.000516\n",
      "2   startClusterID    0.000498\n",
      "4        isHoliday    0.000324\n",
      "0             year    0.000302\n"
     ]
    }
   ],
   "source": [
    "forestRegressor.fit(x, y)\n",
    "\n",
    "feature_importances = forestRegressor.feature_importances_\n",
    "\n",
    "importance_df = pd.DataFrame({\n",
    "    'Feature': x.columns,\n",
    "    'Importance': feature_importances\n",
    "}).sort_values(by='Importance', ascending=False)\n",
    "\n",
    "print(importance_df)"
   ]
  },
  {
   "cell_type": "markdown",
   "metadata": {},
   "source": [
    "#### A2.1: Random Forest Regressor - additional parameters"
   ]
  },
  {
   "cell_type": "code",
   "execution_count": 70,
   "metadata": {},
   "outputs": [],
   "source": [
    "from sklearn.ensemble import RandomForestRegressor\n",
    "\n",
    "forestRegressor = RandomForestRegressor(min_samples_split = 10, min_samples_leaf = 5, n_estimators = 100, max_depth=10, max_leaf_nodes=50 )\n",
    "\n",
    "y_pred = cross_val_predict(forestRegressor, x, y, cv = 10)"
   ]
  },
  {
   "cell_type": "code",
   "execution_count": 71,
   "metadata": {},
   "outputs": [
    {
     "name": "stdout",
     "output_type": "stream",
     "text": [
      "Results from sklearn.metrics:\n",
      "\n",
      "R-Squared: 0.9621189376337388\n",
      "\n",
      "MAE: 0.25327845672988175\n",
      "MSE: 0.6386286229627239\n",
      "RMSE: 0.799142429709951\n"
     ]
    }
   ],
   "source": [
    "mae = metrics.mean_absolute_error(y, y_pred)\n",
    "mse = metrics.mean_squared_error(y, y_pred)\n",
    "rmse = np.sqrt(mse)  \n",
    "r2 = metrics.r2_score(y,y_pred)\n",
    "\n",
    "print(\"Results from sklearn.metrics:\\n\")\n",
    "print(\"R-Squared:\", r2)\n",
    "print()\n",
    "\n",
    "print(\"MAE:\",mae)\n",
    "print(\"MSE:\", mse)\n",
    "print(\"RMSE:\", rmse)"
   ]
  },
  {
   "cell_type": "markdown",
   "metadata": {},
   "source": [
    "#### A3: Gradient Boost Trees (Regression)\n",
    "Train the same way as above."
   ]
  },
  {
   "cell_type": "code",
   "execution_count": 72,
   "metadata": {},
   "outputs": [],
   "source": [
    "from sklearn.ensemble import GradientBoostingRegressor\n",
    "\n",
    "gbRegressor = GradientBoostingRegressor(n_estimators = 100, max_depth = 4)\n",
    "\n",
    "y_pred = cross_val_predict(gbRegressor, x, y, cv = 10)"
   ]
  },
  {
   "cell_type": "code",
   "execution_count": 73,
   "metadata": {
    "scrolled": true
   },
   "outputs": [
    {
     "name": "stdout",
     "output_type": "stream",
     "text": [
      "Ergebnisse von sklearn.metrics:\n",
      "\n",
      "R-Squared: 0.9622594471997025\n",
      "\n",
      "MAE: 0.28439852122006903\n",
      "MSE: 0.6362598026335348\n",
      "RMSE: 0.797658951327906\n"
     ]
    }
   ],
   "source": [
    "mae = metrics.mean_absolute_error(y, y_pred)\n",
    "mse = metrics.mean_squared_error(y, y_pred)\n",
    "rmse = np.sqrt(mse)  \n",
    "r2 = metrics.r2_score(y,y_pred)\n",
    "\n",
    "print(\"Ergebnisse von sklearn.metrics:\\n\")\n",
    "print(\"R-Squared:\", r2)\n",
    "print()\n",
    "\n",
    "print(\"MAE:\",mae)\n",
    "print(\"MSE:\", mse)\n",
    "print(\"RMSE:\", rmse)"
   ]
  },
  {
   "cell_type": "markdown",
   "metadata": {},
   "source": [
    "#### A3.1: Gradient Boost Trees (Regression) - additional Parameters"
   ]
  },
  {
   "cell_type": "code",
   "execution_count": 74,
   "metadata": {},
   "outputs": [],
   "source": [
    "from sklearn.ensemble import GradientBoostingRegressor\n",
    "\n",
    "gbRegressor = GradientBoostingRegressor(n_estimators = 100, max_depth = 4,  max_leaf_nodes=50,  min_samples_leaf = 5)\n",
    "\n",
    "y_pred = cross_val_predict(gbRegressor, x, y, cv = 10)"
   ]
  },
  {
   "cell_type": "code",
   "execution_count": 75,
   "metadata": {},
   "outputs": [
    {
     "name": "stdout",
     "output_type": "stream",
     "text": [
      "Results from sklearn.metrics:\n",
      "\n",
      "R-Squared: 0.9621461489851864\n",
      "\n",
      "MAE: 0.28554666885176216\n",
      "MSE: 0.6381698726843951\n",
      "RMSE: 0.7988553515401866\n"
     ]
    }
   ],
   "source": [
    "mae = metrics.mean_absolute_error(y, y_pred)\n",
    "mse = metrics.mean_squared_error(y, y_pred)\n",
    "rmse = np.sqrt(mse)  \n",
    "r2 = metrics.r2_score(y,y_pred)\n",
    "\n",
    "print(\"Results from sklearn.metrics:\\n\")\n",
    "print(\"R-Squared:\", r2)\n",
    "print()\n",
    "\n",
    "print(\"MAE:\",mae)\n",
    "print(\"MSE:\", mse)\n",
    "print(\"RMSE:\", rmse)"
   ]
  },
  {
   "cell_type": "markdown",
   "metadata": {},
   "source": [
    "## 7.4 Interpretation of the quality criteria\n",
    "Interpret the quality criteria and make a statement on the usability of the models."
   ]
  },
  {
   "cell_type": "markdown",
   "metadata": {},
   "source": []
  },
  {
   "cell_type": "markdown",
   "metadata": {},
   "source": [
    "## 7.5 Train several models simultaneously and compare them visually\n",
    "Go through the code below and follow the individual steps. What does the visualization tell you?"
   ]
  },
  {
   "cell_type": "code",
   "execution_count": 76,
   "metadata": {},
   "outputs": [],
   "source": [
    "import time\n",
    "\n",
    "estimators = [('DT', DecisionTreeRegressor(min_samples_split = 10, min_samples_leaf = 5)),\n",
    "    ('RF', RandomForestRegressor(min_samples_split = 10, min_samples_leaf = 5, n_estimators = 100)), \n",
    "              ('GB', GradientBoostingRegressor(n_estimators = 100, max_depth = 4))]"
   ]
  },
  {
   "cell_type": "code",
   "execution_count": 78,
   "metadata": {},
   "outputs": [
    {
     "data": {
      "image/png": "[encoded data removed]",
      "text/plain": [
       "<Figure size 900x500 with 3 Axes>"
      ]
     },
     "metadata": {},
     "output_type": "display_data"
    }
   ],
   "source": [
    "def plot_regression_results(ax, y, y_pred, title, scores, elapsed_time):\n",
    "    \"\"\"Scatter plot of the predicted vs true targets.\"\"\"\n",
    "    ax.plot([y.min(), y.max()],\n",
    "            [y.min(), y.max()],\n",
    "            '--r', linewidth=2)\n",
    "    ax.scatter(y, y_pred, alpha=0.2)\n",
    "\n",
    "    ax.spines['top'].set_visible(False)\n",
    "    ax.spines['right'].set_visible(False)\n",
    "    ax.get_xaxis().tick_bottom()\n",
    "    ax.get_yaxis().tick_left()\n",
    "    ax.spines['left'].set_position(('outward', 10))\n",
    "    ax.spines['bottom'].set_position(('outward', 10))\n",
    "    ax.set_xlim([y.min(), y.max()])\n",
    "    ax.set_ylim([y.min(), y.max()])\n",
    "    ax.set_xlabel('Measured')\n",
    "    ax.set_ylabel('Predicted')\n",
    "    extra = plt.Rectangle((0, 0), 0, 0, fc=\"w\", fill=False,\n",
    "                          edgecolor='none', linewidth=0)\n",
    "    ax.legend([extra], [scores], loc='upper left')\n",
    "    title = title + '\\n Evaluation in {:.2f} seconds'.format(elapsed_time)\n",
    "    ax.set_title(title)\n",
    "\n",
    "\n",
    "fig, axs = plt.subplots(1, 3, figsize=(9, 5))\n",
    "axs = np.ravel(axs)\n",
    "\n",
    "for ax, (name, est) in zip(axs, estimators):\n",
    "    start_time = time.time()\n",
    "    score = cross_validate(est, x, y,\n",
    "                           scoring=['r2', 'neg_mean_absolute_error'],\n",
    "                           n_jobs=-1, verbose=0)\n",
    "    elapsed_time = time.time() - start_time\n",
    "\n",
    "    y_pred = cross_val_predict(est, x, y, n_jobs=-1, verbose=0)\n",
    "\n",
    "    plot_regression_results(\n",
    "        ax, y, y_pred,\n",
    "        name,\n",
    "        (r'$R^2={:.2f} \\pm {:.2f}$' + '\\n' + r'$MAE={:.2f} \\pm {:.2f}$')\n",
    "        .format(np.mean(score['test_r2']),\n",
    "                np.std(score['test_r2']),\n",
    "                -np.mean(score['test_neg_mean_absolute_error']),\n",
    "                np.std(score['test_neg_mean_absolute_error'])),\n",
    "        elapsed_time)\n",
    "\n",
    "plt.suptitle('Performance Single predictors')\n",
    "plt.tight_layout()\n",
    "plt.subplots_adjust(top=0.8)\n",
    "plt.show()"
   ]
  },
  {
   "cell_type": "markdown",
   "metadata": {},
   "source": [
    "## RESUME\n",
    "The main objective of this exercise was to build a regression model based on decision trees, evaluate its performance using metrics such as R², MAE, MSE and RMSE, and understand the quality of predictions.\n",
    "\n",
    "\n",
    "## SUGGESTIONS AND IMPROVEMENTS\n",
    "\n",
    "Increase the algorith precision\n",
    "- Use correlation algorithms to retain only the most relevant attributes \n",
    "- Create new variables (Feature Engineering) from existing data.\n",
    "\n",
    "Reduce training time:\n",
    "- Reduce data size:\n",
    "     Use stratified sampling to train the model on a representative sub-section of the data.\n",
    "- Remove unnecessary observations or columns."
   ]
  },
  {
   "cell_type": "code",
   "execution_count": null,
   "metadata": {},
   "outputs": [],
   "source": []
  }
 ],
 "metadata": {
  "kernelspec": {
   "display_name": "Python 3 (ipykernel)",
   "language": "python",
   "name": "python3"
  },
  "language_info": {
   "codemirror_mode": {
    "name": "ipython",
    "version": 3
   },
   "file_extension": ".py",
   "mimetype": "text/x-python",
   "name": "python",
   "nbconvert_exporter": "python",
   "pygments_lexer": "ipython3",
   "version": "3.11.9"
  }
 },
 "nbformat": 4,
 "nbformat_minor": 4
}
