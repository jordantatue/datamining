{
 "cells": [
  {
   "cell_type": "raw",
   "metadata": {},
   "source": [
    "---\n",
    "title: Data Mining Exercise 2 - data preparation\n",
    "exercise-number: 2\n",
    "other-links:\n",
    "  - text: Aufgabenblatt 2 \n",
    "    href: \"../../../../_aufgaben/Aufgabenblaetter/2/02_Order_data_preparation_student.pdf\"\n",
    "    icon: file-pdf\n",
    "code-links:\n",
    "  - text: Aufgabenblatt 2 \n",
    "    href: \"../../../../_aufgaben/Aufgabenblaetter/2/02_Order_data_preparation_student.ipynb\"\n",
    "    type: \"application/octet-stream\"\n",
    "    icon: file-code\n",
    "downloads: [ipynb]\n",
    "---"
   ]
  },
  {
   "cell_type": "markdown",
   "metadata": {},
   "source": [
    "# Exercise 2 - Data preparation and aggregation\n",
    "Imports the packages."
   ]
  },
  {
   "cell_type": "code",
   "execution_count": 1,
   "metadata": {},
   "outputs": [],
   "source": [
    "import pandas as pd\n",
    "import numpy as np\n",
    "\n",
    "import matplotlib.pyplot as plt"
   ]
  },
  {
   "cell_type": "markdown",
   "metadata": {},
   "source": [
    "## 2.1 Converting the data types\n",
    "Read in the data \"02_Orderdata.csv\" and display the first lines."
   ]
  },
  {
   "cell_type": "code",
   "execution_count": null,
   "metadata": {},
   "outputs": [],
   "source": [
    "# space"
   ]
  },
  {
   "cell_type": "markdown",
   "metadata": {},
   "source": [
    "Have the data types displayed."
   ]
  },
  {
   "cell_type": "code",
   "execution_count": null,
   "metadata": {},
   "outputs": [],
   "source": [
    "# space"
   ]
  },
  {
   "cell_type": "markdown",
   "metadata": {},
   "source": [
    "Since the date field is easier to handle as a \"DateTime\" format, a conversion must be carried out using the pd.to_datetime(column) function. Execute this and check the data types.\n",
    "\n",
    "**Tipp**: Alternatively, the \"parse_dates\" option can be used for the conversion directly during import via \"read_csv()\"."
   ]
  },
  {
   "cell_type": "code",
   "execution_count": null,
   "metadata": {},
   "outputs": [],
   "source": [
    "# space"
   ]
  },
  {
   "cell_type": "markdown",
   "metadata": {},
   "source": [
    "## 2.2 Standardization of the characteristics\n",
    "Display the different characteristics of the T-shirt categories."
   ]
  },
  {
   "cell_type": "code",
   "execution_count": null,
   "metadata": {},
   "outputs": [],
   "source": [
    "# space"
   ]
  },
  {
   "cell_type": "markdown",
   "metadata": {},
   "source": [
    "The dictionary lists the character strings that are to be standardized and with which character string they are to be replaced. Fill the dictionary accordingly for further values and check the values now available."
   ]
  },
  {
   "cell_type": "code",
   "execution_count": null,
   "metadata": {},
   "outputs": [],
   "source": [
    "replacer_dict = {'Bl Tshirt F' : 'Black T-Shirt F', \n",
    "                 '...\n",
    "                }\n",
    "\n",
    "df['tshirt_category'] = df['tshirt_category'].replace(to_replace = replacer_dict)\n",
    "..."
   ]
  },
  {
   "cell_type": "markdown",
   "metadata": {},
   "source": [
    "## 2.3 Product revenue\n",
    "Calculate the revenue from price times quantity and save it in a new column of the data frame, which should be called total. "
   ]
  },
  {
   "cell_type": "code",
   "execution_count": null,
   "metadata": {},
   "outputs": [],
   "source": [
    "# space"
   ]
  },
  {
   "cell_type": "markdown",
   "metadata": {},
   "source": [
    "You then group the data by T-shirt category and display the total of all key figures."
   ]
  },
  {
   "cell_type": "code",
   "execution_count": null,
   "metadata": {},
   "outputs": [],
   "source": [
    "# space"
   ]
  },
  {
   "cell_type": "markdown",
   "metadata": {},
   "source": [
    "Now visualize the sales per T-shirt category in a bar chart."
   ]
  },
  {
   "cell_type": "code",
   "execution_count": null,
   "metadata": {},
   "outputs": [],
   "source": [
    "fig = plt.figure(figsize=[16,12])\n",
    "plt.bar(df_sum.index, df_sum.total.values)\n",
    "\n",
    "plt.show()"
   ]
  },
  {
   "cell_type": "markdown",
   "metadata": {},
   "source": [
    "## 2.4 Key figures per customer\n",
    "\n",
    "Now you should aggregate the following parameters with \"groupby\" after \"customer_id\" as described:\n",
    "\n",
    "- earliest \"order_date\" (Minimum)\n",
    "- Mean value of \"pages_visited\"\n",
    "- Sum of \"total\"\n",
    "\n",
    "Then display the first 10 lines."
   ]
  },
  {
   "cell_type": "code",
   "execution_count": null,
   "metadata": {},
   "outputs": [],
   "source": [
    "# space"
   ]
  },
  {
   "cell_type": "code",
   "execution_count": null,
   "metadata": {},
   "outputs": [],
   "source": [
    "# space"
   ]
  },
  {
   "cell_type": "markdown",
   "metadata": {},
   "source": [
    "## Additional Exercise"
   ]
  },
  {
   "cell_type": "markdown",
   "metadata": {},
   "source": [
    "this data is about flight data that was documented daily. it is about flights from Hanover to Munich. "
   ]
  },
  {
   "cell_type": "code",
   "execution_count": null,
   "metadata": {},
   "outputs": [],
   "source": [
    "df = pd.read_csv('../../Data/flight_data.csv')\n",
    "df\n"
   ]
  },
  {
   "cell_type": "markdown",
   "metadata": {},
   "source": [
    "you will find these errors in the data."
   ]
  },
  {
   "cell_type": "code",
   "execution_count": null,
   "metadata": {},
   "outputs": [],
   "source": [
    "error_rows = df[\n",
    "    (df['Flight_Duration_Minutes'] > 200) |  \n",
    "    (df['Flight_Duration_Minutes'] < 20) |  \n",
    "    (df['Price_Economy_Class'].isna()) |  \n",
    "    (df['Passengers'] > 500) | \n",
    "    (df['Arrival_Airport'] != \"MUC\")  \n",
    "]\n",
    "\n",
    "error_rows"
   ]
  },
  {
   "cell_type": "markdown",
   "metadata": {},
   "source": [
    "correct the two errors in the ‘Flight_Duration_Minutes’ column by replacing the values with the average. just try to understand the code."
   ]
  },
  {
   "cell_type": "code",
   "execution_count": null,
   "metadata": {},
   "outputs": [],
   "source": [
    "# Calculate the average flight duration excluding the erroneous values (greater than 200 or less than 20)\n",
    "valid_flight_duration = df[(df['Flight_Duration_Minutes'] <= 200) & (df['Flight_Duration_Minutes'] >= 20)] # copy of the df without the errors in Flight_Duration_Minutes\n",
    "average_duration = valid_flight_duration['Flight_Duration_Minutes'].mean() # average of the column Flight_Duration_Minutes without the errors\n",
    "\n",
    "# Replace the erroneous values with the calculated average\n",
    "df.loc[df['Flight_Duration_Minutes'] > 200, 'Flight_Duration_Minutes'] = average_duration\n",
    "df.loc[df['Flight_Duration_Minutes'] < 20, 'Flight_Duration_Minutes'] = average_duration\n",
    "\n",
    "# you saw two simple steps, just the calculation of the average (excluding the errors) and replacing the error rows with the calculated average\n",
    "\n",
    "# Display the DataFrame errors after correction\n",
    "error_rows = df[\n",
    "    (df['Flight_Duration_Minutes'] > 200) |  \n",
    "    (df['Flight_Duration_Minutes'] < 20) |  \n",
    "    (df['Price_Economy_Class'].isna()) |  \n",
    "    (df['Passengers'] > 500) | \n",
    "    (df['Arrival_Airport'] != \"MUC\")  \n",
    "]\n",
    "\n",
    "error_rows"
   ]
  },
  {
   "cell_type": "markdown",
   "metadata": {},
   "source": [
    "correct the Nan value in the Price_Economy_Class column using linear interpolation. we can use linear interpolation well here, as we are dealing with chronological, related data"
   ]
  },
  {
   "cell_type": "code",
   "execution_count": null,
   "metadata": {},
   "outputs": [],
   "source": [
    "# Perform linear interpolation to fill NaN values in the Price_Economy_Class column\n",
    "df['Price_Economy_Class'] = df['Price_Economy_Class'].interpolate(method='linear')\n",
    "\n",
    "#using linear interpolation is even just one row of code!\n",
    "\n",
    "# Display the DataFrame errors after correction\n",
    "error_rows = df[\n",
    "    (df['Flight_Duration_Minutes'] > 200) |  \n",
    "    (df['Flight_Duration_Minutes'] < 20) |  \n",
    "    (df['Price_Economy_Class'].isna()) |  \n",
    "    (df['Passengers'] > 500) | \n",
    "    (df['Arrival_Airport'] != \"MUC\")  \n",
    "]\n",
    "\n",
    "error_rows"
   ]
  },
  {
   "cell_type": "markdown",
   "metadata": {},
   "source": [
    "we could also correct the passenger error by simply taking the average. sometimes, however, it makes sense not to lose the connection to other columns. it could be that the number of passengers varies due to the price, which is why we want to include this in the calculation of the average."
   ]
  },
  {
   "cell_type": "code",
   "execution_count": null,
   "metadata": {},
   "outputs": [],
   "source": [
    "# Filter the DataFrame for rows where the 'Price_Economy_Class' is between 185 and 195, we also exclude the error again\n",
    "filtered_df = df[(df['Price_Economy_Class'] >= 185) & (df['Price_Economy_Class'] <= 195) & (df['Passengers'] <= 1000) ]\n",
    "\n",
    "# Calculate the average number of passengers for the filtered rows\n",
    "average_passengers = filtered_df['Passengers'].mean()\n",
    "\n",
    "# replace the error row with the calculated average \n",
    "df.loc[df['Passengers'] > 1000, 'Passengers'] = average_passengers\n",
    "\n",
    "# here we also do have 3 simple steps, filtering the df with the rows we want to include in the average calculation, the average calculation and the replacing\n",
    "error_rows = df[\n",
    "    (df['Flight_Duration_Minutes'] > 200) |  \n",
    "    (df['Flight_Duration_Minutes'] < 20) |  \n",
    "    (df['Price_Economy_Class'].isna()) |  \n",
    "    (df['Passengers'] > 500) | \n",
    "    (df['Arrival_Airport'] != \"MUC\")  \n",
    "]\n",
    "\n",
    "error_rows"
   ]
  },
  {
   "cell_type": "markdown",
   "metadata": {},
   "source": [
    "for the last error, we can simply replace the entries in the Destination column that are not equal to MUC with MUC"
   ]
  },
  {
   "cell_type": "code",
   "execution_count": null,
   "metadata": {},
   "outputs": [],
   "source": [
    "# Replace all entries in 'Arrival_Airport' that are not equal to \"MUC\" with \"MUC\"\n",
    "df.loc[df['Arrival_Airport'] != \"MUC\", 'Arrival_Airport'] = \"MUC\"\n",
    "\n",
    "# Display the DataFrame after correction\n",
    "error_rows = df[\n",
    "    (df['Flight_Duration_Minutes'] > 200) |  \n",
    "    (df['Flight_Duration_Minutes'] < 20) |  \n",
    "    (df['Price_Economy_Class'].isna()) |  \n",
    "    (df['Passengers'] > 500) | \n",
    "    (df['Arrival_Airport'] != \"MUC\")  \n",
    "]\n",
    "\n",
    "error_rows"
   ]
  }
 ],
 "metadata": {
  "kernelspec": {
   "display_name": "Python 3 (ipykernel)",
   "language": "python",
   "name": "python3"
  },
  "language_info": {
   "codemirror_mode": {
    "name": "ipython",
    "version": 3
   },
   "file_extension": ".py",
   "mimetype": "text/x-python",
   "name": "python",
   "nbconvert_exporter": "python",
   "pygments_lexer": "ipython3",
   "version": "3.11.9"
  }
 },
 "nbformat": 4,
 "nbformat_minor": 4
}
