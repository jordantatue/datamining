{
 "cells": [
  {
   "cell_type": "raw",
   "metadata": {},
   "source": [
    "---\n",
    "title: Data Mining Exercise 7  - trees\n",
    "exercise-number: 7\n",
    "other-links:\n",
    "  - text: Aufgabenblatt 7\n",
    "    href: \"../../../../_aufgaben/Aufgabenblaetter/7/07_Customer_data_DT_boosting_regression_student.pdf\"\n",
    "    icon: file-pdf\n",
    "code-links:\n",
    "  - text: Aufgabenblatt 7\n",
    "    href: \"../../../../_aufgaben/Aufgabenblaetter/7/07_Customer_data_DT_boosting_regression_student.ipynb\"\n",
    "    type: \"application/octet-stream\"\n",
    "    icon: file-code\n",
    "downloads: [ipynb]\n",
    "---"
   ]
  },
  {
   "cell_type": "markdown",
   "metadata": {},
   "source": [
    "# Exercise 7 - DT, gradient boosting and random forest for regression"
   ]
  },
  {
   "cell_type": "code",
   "execution_count": 1,
   "metadata": {},
   "outputs": [],
   "source": [
    "import pandas as pd\n",
    "import numpy as np\n",
    "import matplotlib.pyplot as plt\n",
    "from sklearn import preprocessing"
   ]
  },
  {
   "cell_type": "markdown",
   "metadata": {},
   "source": [
    "We use the customer data again. This time we do not want to perform a classification according to high_revenue, but instead directly predict the numerical value turnover (total_sum)."
   ]
  },
  {
   "cell_type": "code",
   "execution_count": 2,
   "metadata": {},
   "outputs": [
    {
     "data": {
      "text/html": [
       "<div>\n",
       "<style scoped>\n",
       "    .dataframe tbody tr th:only-of-type {\n",
       "        vertical-align: middle;\n",
       "    }\n",
       "\n",
       "    .dataframe tbody tr th {\n",
       "        vertical-align: top;\n",
       "    }\n",
       "\n",
       "    .dataframe thead th {\n",
       "        text-align: right;\n",
       "    }\n",
       "</style>\n",
       "<table border=\"1\" class=\"dataframe\">\n",
       "  <thead>\n",
       "    <tr style=\"text-align: right;\">\n",
       "      <th></th>\n",
       "      <th>weekday</th>\n",
       "      <th>daytime</th>\n",
       "      <th>isHoliday</th>\n",
       "      <th>distance</th>\n",
       "      <th>count</th>\n",
       "      <th>startClusterName</th>\n",
       "      <th>startClusterZip</th>\n",
       "      <th>startClusterID</th>\n",
       "      <th>endClusterName</th>\n",
       "      <th>endClusterZip</th>\n",
       "      <th>endClusterID</th>\n",
       "      <th>year</th>\n",
       "      <th>month</th>\n",
       "      <th>total</th>\n",
       "    </tr>\n",
       "  </thead>\n",
       "  <tbody>\n",
       "    <tr>\n",
       "      <th>0</th>\n",
       "      <td>Di</td>\n",
       "      <td>7</td>\n",
       "      <td>Keine Ferien</td>\n",
       "      <td>3</td>\n",
       "      <td>15</td>\n",
       "      <td>Hunedoara</td>\n",
       "      <td>71171</td>\n",
       "      <td>3254026000002</td>\n",
       "      <td>Hunedoara</td>\n",
       "      <td>71171</td>\n",
       "      <td>3254026000007</td>\n",
       "      <td>2021</td>\n",
       "      <td>3</td>\n",
       "      <td>45</td>\n",
       "    </tr>\n",
       "    <tr>\n",
       "      <th>1</th>\n",
       "      <td>Mi</td>\n",
       "      <td>17</td>\n",
       "      <td>Keine Ferien</td>\n",
       "      <td>0</td>\n",
       "      <td>10</td>\n",
       "      <td>Turda</td>\n",
       "      <td>80982</td>\n",
       "      <td>3241013050002</td>\n",
       "      <td>Turda</td>\n",
       "      <td>80982</td>\n",
       "      <td>3241013050008</td>\n",
       "      <td>2021</td>\n",
       "      <td>3</td>\n",
       "      <td>0</td>\n",
       "    </tr>\n",
       "    <tr>\n",
       "      <th>2</th>\n",
       "      <td>Sa</td>\n",
       "      <td>11</td>\n",
       "      <td>Keine Ferien</td>\n",
       "      <td>3</td>\n",
       "      <td>10</td>\n",
       "      <td>Turda</td>\n",
       "      <td>80982</td>\n",
       "      <td>3241013050007</td>\n",
       "      <td>Turda</td>\n",
       "      <td>80982</td>\n",
       "      <td>3241013030001</td>\n",
       "      <td>2021</td>\n",
       "      <td>3</td>\n",
       "      <td>30</td>\n",
       "    </tr>\n",
       "    <tr>\n",
       "      <th>3</th>\n",
       "      <td>Fr</td>\n",
       "      <td>13</td>\n",
       "      <td>Keine Ferien</td>\n",
       "      <td>0</td>\n",
       "      <td>15</td>\n",
       "      <td>Bran</td>\n",
       "      <td>91157</td>\n",
       "      <td>3254028001012</td>\n",
       "      <td>Bran</td>\n",
       "      <td>91157</td>\n",
       "      <td>3254028001004</td>\n",
       "      <td>2021</td>\n",
       "      <td>3</td>\n",
       "      <td>0</td>\n",
       "    </tr>\n",
       "    <tr>\n",
       "      <th>4</th>\n",
       "      <td>Fr</td>\n",
       "      <td>18</td>\n",
       "      <td>Keine Ferien</td>\n",
       "      <td>7</td>\n",
       "      <td>10</td>\n",
       "      <td>Bran</td>\n",
       "      <td>91157</td>\n",
       "      <td>3254028001003</td>\n",
       "      <td>Turda</td>\n",
       "      <td>80982</td>\n",
       "      <td>3241013070001</td>\n",
       "      <td>2021</td>\n",
       "      <td>3</td>\n",
       "      <td>70</td>\n",
       "    </tr>\n",
       "  </tbody>\n",
       "</table>\n",
       "</div>"
      ],
      "text/plain": [
       "  weekday  daytime     isHoliday  distance  count startClusterName  \\\n",
       "0      Di        7  Keine Ferien         3     15        Hunedoara   \n",
       "1      Mi       17  Keine Ferien         0     10            Turda   \n",
       "2      Sa       11  Keine Ferien         3     10            Turda   \n",
       "3      Fr       13  Keine Ferien         0     15             Bran   \n",
       "4      Fr       18  Keine Ferien         7     10             Bran   \n",
       "\n",
       "   startClusterZip  startClusterID endClusterName  endClusterZip  \\\n",
       "0            71171   3254026000002      Hunedoara          71171   \n",
       "1            80982   3241013050002          Turda          80982   \n",
       "2            80982   3241013050007          Turda          80982   \n",
       "3            91157   3254028001012           Bran          91157   \n",
       "4            91157   3254028001003          Turda          80982   \n",
       "\n",
       "    endClusterID  year  month  total  \n",
       "0  3254026000007  2021      3     45  \n",
       "1  3241013050008  2021      3      0  \n",
       "2  3241013030001  2021      3     30  \n",
       "3  3254028001004  2021      3      0  \n",
       "4  3241013070001  2021      3     70  "
      ]
     },
     "execution_count": 2,
     "metadata": {},
     "output_type": "execute_result"
    }
   ],
   "source": [
    "# space\n",
    "df = pd.read_csv('prepared_data.csv')\n",
    "df.head()"
   ]
  },
  {
   "cell_type": "markdown",
   "metadata": {},
   "source": [
    "## 7.1 Handling missing values\n",
    "First of all, we start with the treatment of missing values."
   ]
  },
  {
   "cell_type": "code",
   "execution_count": 3,
   "metadata": {},
   "outputs": [
    {
     "name": "stdout",
     "output_type": "stream",
     "text": [
      "weekday             0\n",
      "daytime             0\n",
      "isHoliday           0\n",
      "distance            0\n",
      "count               0\n",
      "startClusterName    0\n",
      "startClusterZip     0\n",
      "startClusterID      0\n",
      "endClusterName      0\n",
      "endClusterZip       0\n",
      "endClusterID        0\n",
      "year                0\n",
      "month               0\n",
      "total               0\n",
      "dtype: int64\n"
     ]
    }
   ],
   "source": [
    "# Vérifier les valeurs manquantes par colonne\n",
    "valeurs_manquantes = df.isnull().sum()\n",
    "print(valeurs_manquantes)"
   ]
  },
  {
   "cell_type": "code",
   "execution_count": 4,
   "metadata": {},
   "outputs": [
    {
     "data": {
      "text/html": [
       "<div>\n",
       "<style scoped>\n",
       "    .dataframe tbody tr th:only-of-type {\n",
       "        vertical-align: middle;\n",
       "    }\n",
       "\n",
       "    .dataframe tbody tr th {\n",
       "        vertical-align: top;\n",
       "    }\n",
       "\n",
       "    .dataframe thead th {\n",
       "        text-align: right;\n",
       "    }\n",
       "</style>\n",
       "<table border=\"1\" class=\"dataframe\">\n",
       "  <thead>\n",
       "    <tr style=\"text-align: right;\">\n",
       "      <th></th>\n",
       "      <th>weekday</th>\n",
       "      <th>daytime</th>\n",
       "      <th>isHoliday</th>\n",
       "      <th>distance</th>\n",
       "      <th>count</th>\n",
       "      <th>startClusterName</th>\n",
       "      <th>endClusterName</th>\n",
       "      <th>year</th>\n",
       "      <th>month</th>\n",
       "    </tr>\n",
       "  </thead>\n",
       "  <tbody>\n",
       "    <tr>\n",
       "      <th>0</th>\n",
       "      <td>Di</td>\n",
       "      <td>7</td>\n",
       "      <td>Keine Ferien</td>\n",
       "      <td>3</td>\n",
       "      <td>15</td>\n",
       "      <td>Hunedoara</td>\n",
       "      <td>Hunedoara</td>\n",
       "      <td>2021</td>\n",
       "      <td>3</td>\n",
       "    </tr>\n",
       "    <tr>\n",
       "      <th>1</th>\n",
       "      <td>Mi</td>\n",
       "      <td>17</td>\n",
       "      <td>Keine Ferien</td>\n",
       "      <td>0</td>\n",
       "      <td>10</td>\n",
       "      <td>Turda</td>\n",
       "      <td>Turda</td>\n",
       "      <td>2021</td>\n",
       "      <td>3</td>\n",
       "    </tr>\n",
       "    <tr>\n",
       "      <th>2</th>\n",
       "      <td>Sa</td>\n",
       "      <td>11</td>\n",
       "      <td>Keine Ferien</td>\n",
       "      <td>3</td>\n",
       "      <td>10</td>\n",
       "      <td>Turda</td>\n",
       "      <td>Turda</td>\n",
       "      <td>2021</td>\n",
       "      <td>3</td>\n",
       "    </tr>\n",
       "    <tr>\n",
       "      <th>3</th>\n",
       "      <td>Fr</td>\n",
       "      <td>13</td>\n",
       "      <td>Keine Ferien</td>\n",
       "      <td>0</td>\n",
       "      <td>15</td>\n",
       "      <td>Bran</td>\n",
       "      <td>Bran</td>\n",
       "      <td>2021</td>\n",
       "      <td>3</td>\n",
       "    </tr>\n",
       "    <tr>\n",
       "      <th>4</th>\n",
       "      <td>Fr</td>\n",
       "      <td>18</td>\n",
       "      <td>Keine Ferien</td>\n",
       "      <td>7</td>\n",
       "      <td>10</td>\n",
       "      <td>Bran</td>\n",
       "      <td>Turda</td>\n",
       "      <td>2021</td>\n",
       "      <td>3</td>\n",
       "    </tr>\n",
       "    <tr>\n",
       "      <th>...</th>\n",
       "      <td>...</td>\n",
       "      <td>...</td>\n",
       "      <td>...</td>\n",
       "      <td>...</td>\n",
       "      <td>...</td>\n",
       "      <td>...</td>\n",
       "      <td>...</td>\n",
       "      <td>...</td>\n",
       "      <td>...</td>\n",
       "    </tr>\n",
       "    <tr>\n",
       "      <th>237482</th>\n",
       "      <td>So</td>\n",
       "      <td>17</td>\n",
       "      <td>Keine Ferien</td>\n",
       "      <td>5</td>\n",
       "      <td>5</td>\n",
       "      <td>Turda</td>\n",
       "      <td>Turda</td>\n",
       "      <td>2020</td>\n",
       "      <td>10</td>\n",
       "    </tr>\n",
       "    <tr>\n",
       "      <th>237483</th>\n",
       "      <td>Mo</td>\n",
       "      <td>9</td>\n",
       "      <td>Ferien</td>\n",
       "      <td>0</td>\n",
       "      <td>15</td>\n",
       "      <td>Bran</td>\n",
       "      <td>Bran</td>\n",
       "      <td>2020</td>\n",
       "      <td>10</td>\n",
       "    </tr>\n",
       "    <tr>\n",
       "      <th>237484</th>\n",
       "      <td>Di</td>\n",
       "      <td>9</td>\n",
       "      <td>Keine Ferien</td>\n",
       "      <td>2</td>\n",
       "      <td>10</td>\n",
       "      <td>Bran</td>\n",
       "      <td>Bran</td>\n",
       "      <td>2020</td>\n",
       "      <td>10</td>\n",
       "    </tr>\n",
       "    <tr>\n",
       "      <th>237485</th>\n",
       "      <td>Mo</td>\n",
       "      <td>18</td>\n",
       "      <td>Keine Ferien</td>\n",
       "      <td>5</td>\n",
       "      <td>5</td>\n",
       "      <td>Hunedoara</td>\n",
       "      <td>Hunedoara</td>\n",
       "      <td>2020</td>\n",
       "      <td>10</td>\n",
       "    </tr>\n",
       "    <tr>\n",
       "      <th>237486</th>\n",
       "      <td>Mi</td>\n",
       "      <td>12</td>\n",
       "      <td>Ferien</td>\n",
       "      <td>2</td>\n",
       "      <td>15</td>\n",
       "      <td>Bran</td>\n",
       "      <td>Bran</td>\n",
       "      <td>2020</td>\n",
       "      <td>10</td>\n",
       "    </tr>\n",
       "  </tbody>\n",
       "</table>\n",
       "<p>237487 rows × 9 columns</p>\n",
       "</div>"
      ],
      "text/plain": [
       "       weekday  daytime     isHoliday  distance  count startClusterName  \\\n",
       "0           Di        7  Keine Ferien         3     15        Hunedoara   \n",
       "1           Mi       17  Keine Ferien         0     10            Turda   \n",
       "2           Sa       11  Keine Ferien         3     10            Turda   \n",
       "3           Fr       13  Keine Ferien         0     15             Bran   \n",
       "4           Fr       18  Keine Ferien         7     10             Bran   \n",
       "...        ...      ...           ...       ...    ...              ...   \n",
       "237482      So       17  Keine Ferien         5      5            Turda   \n",
       "237483      Mo        9        Ferien         0     15             Bran   \n",
       "237484      Di        9  Keine Ferien         2     10             Bran   \n",
       "237485      Mo       18  Keine Ferien         5      5        Hunedoara   \n",
       "237486      Mi       12        Ferien         2     15             Bran   \n",
       "\n",
       "       endClusterName  year  month  \n",
       "0           Hunedoara  2021      3  \n",
       "1               Turda  2021      3  \n",
       "2               Turda  2021      3  \n",
       "3                Bran  2021      3  \n",
       "4               Turda  2021      3  \n",
       "...               ...   ...    ...  \n",
       "237482          Turda  2020     10  \n",
       "237483           Bran  2020     10  \n",
       "237484           Bran  2020     10  \n",
       "237485      Hunedoara  2020     10  \n",
       "237486           Bran  2020     10  \n",
       "\n",
       "[237487 rows x 9 columns]"
      ]
     },
     "execution_count": 4,
     "metadata": {},
     "output_type": "execute_result"
    }
   ],
   "source": [
    "from sklearn import preprocessing\n",
    "\n",
    "dfCopy = df.drop(['startClusterZip','endClusterZip', 'startClusterName', 'endClusterName', 'total'], axis = 1)\n",
    "dfCopy\n"
   ]
  },
  {
   "cell_type": "markdown",
   "metadata": {},
   "source": [
    "## 7.2 Coding of relevant attributes\n",
    "In the documentation of the algorithms to be used, it is clear that the data must be numerical. Try to understand this. Why is a label encoder sufficient here? Why does it not need to be normed?\n",
    "\n",
    "https://scikit-learn.org/stable/modules/classes.html#module-sklearn.tree\n",
    "\n",
    "https://scikit-learn.org/stable/modules/classes.html#module-sklearn.ensemble"
   ]
  },
  {
   "cell_type": "code",
   "execution_count": 5,
   "metadata": {
    "scrolled": true
   },
   "outputs": [
    {
     "data": {
      "text/html": [
       "<div>\n",
       "<style scoped>\n",
       "    .dataframe tbody tr th:only-of-type {\n",
       "        vertical-align: middle;\n",
       "    }\n",
       "\n",
       "    .dataframe tbody tr th {\n",
       "        vertical-align: top;\n",
       "    }\n",
       "\n",
       "    .dataframe thead th {\n",
       "        text-align: right;\n",
       "    }\n",
       "</style>\n",
       "<table border=\"1\" class=\"dataframe\">\n",
       "  <thead>\n",
       "    <tr style=\"text-align: right;\">\n",
       "      <th></th>\n",
       "      <th>weekday</th>\n",
       "      <th>daytime</th>\n",
       "      <th>isHoliday</th>\n",
       "      <th>distance</th>\n",
       "      <th>count</th>\n",
       "      <th>startClusterName</th>\n",
       "      <th>endClusterName</th>\n",
       "      <th>year</th>\n",
       "      <th>month</th>\n",
       "    </tr>\n",
       "  </thead>\n",
       "  <tbody>\n",
       "    <tr>\n",
       "      <th>0</th>\n",
       "      <td>0</td>\n",
       "      <td>7</td>\n",
       "      <td>1</td>\n",
       "      <td>3</td>\n",
       "      <td>15</td>\n",
       "      <td>1</td>\n",
       "      <td>1</td>\n",
       "      <td>2021</td>\n",
       "      <td>3</td>\n",
       "    </tr>\n",
       "    <tr>\n",
       "      <th>1</th>\n",
       "      <td>3</td>\n",
       "      <td>17</td>\n",
       "      <td>1</td>\n",
       "      <td>0</td>\n",
       "      <td>10</td>\n",
       "      <td>2</td>\n",
       "      <td>2</td>\n",
       "      <td>2021</td>\n",
       "      <td>3</td>\n",
       "    </tr>\n",
       "    <tr>\n",
       "      <th>2</th>\n",
       "      <td>5</td>\n",
       "      <td>11</td>\n",
       "      <td>1</td>\n",
       "      <td>3</td>\n",
       "      <td>10</td>\n",
       "      <td>2</td>\n",
       "      <td>2</td>\n",
       "      <td>2021</td>\n",
       "      <td>3</td>\n",
       "    </tr>\n",
       "    <tr>\n",
       "      <th>3</th>\n",
       "      <td>2</td>\n",
       "      <td>13</td>\n",
       "      <td>1</td>\n",
       "      <td>0</td>\n",
       "      <td>15</td>\n",
       "      <td>0</td>\n",
       "      <td>0</td>\n",
       "      <td>2021</td>\n",
       "      <td>3</td>\n",
       "    </tr>\n",
       "    <tr>\n",
       "      <th>4</th>\n",
       "      <td>2</td>\n",
       "      <td>18</td>\n",
       "      <td>1</td>\n",
       "      <td>7</td>\n",
       "      <td>10</td>\n",
       "      <td>0</td>\n",
       "      <td>2</td>\n",
       "      <td>2021</td>\n",
       "      <td>3</td>\n",
       "    </tr>\n",
       "    <tr>\n",
       "      <th>...</th>\n",
       "      <td>...</td>\n",
       "      <td>...</td>\n",
       "      <td>...</td>\n",
       "      <td>...</td>\n",
       "      <td>...</td>\n",
       "      <td>...</td>\n",
       "      <td>...</td>\n",
       "      <td>...</td>\n",
       "      <td>...</td>\n",
       "    </tr>\n",
       "    <tr>\n",
       "      <th>237482</th>\n",
       "      <td>6</td>\n",
       "      <td>17</td>\n",
       "      <td>1</td>\n",
       "      <td>5</td>\n",
       "      <td>5</td>\n",
       "      <td>2</td>\n",
       "      <td>2</td>\n",
       "      <td>2020</td>\n",
       "      <td>10</td>\n",
       "    </tr>\n",
       "    <tr>\n",
       "      <th>237483</th>\n",
       "      <td>4</td>\n",
       "      <td>9</td>\n",
       "      <td>0</td>\n",
       "      <td>0</td>\n",
       "      <td>15</td>\n",
       "      <td>0</td>\n",
       "      <td>0</td>\n",
       "      <td>2020</td>\n",
       "      <td>10</td>\n",
       "    </tr>\n",
       "    <tr>\n",
       "      <th>237484</th>\n",
       "      <td>0</td>\n",
       "      <td>9</td>\n",
       "      <td>1</td>\n",
       "      <td>2</td>\n",
       "      <td>10</td>\n",
       "      <td>0</td>\n",
       "      <td>0</td>\n",
       "      <td>2020</td>\n",
       "      <td>10</td>\n",
       "    </tr>\n",
       "    <tr>\n",
       "      <th>237485</th>\n",
       "      <td>4</td>\n",
       "      <td>18</td>\n",
       "      <td>1</td>\n",
       "      <td>5</td>\n",
       "      <td>5</td>\n",
       "      <td>1</td>\n",
       "      <td>1</td>\n",
       "      <td>2020</td>\n",
       "      <td>10</td>\n",
       "    </tr>\n",
       "    <tr>\n",
       "      <th>237486</th>\n",
       "      <td>3</td>\n",
       "      <td>12</td>\n",
       "      <td>0</td>\n",
       "      <td>2</td>\n",
       "      <td>15</td>\n",
       "      <td>0</td>\n",
       "      <td>0</td>\n",
       "      <td>2020</td>\n",
       "      <td>10</td>\n",
       "    </tr>\n",
       "  </tbody>\n",
       "</table>\n",
       "<p>237487 rows × 9 columns</p>\n",
       "</div>"
      ],
      "text/plain": [
       "        weekday  daytime  isHoliday  distance  count  startClusterName  \\\n",
       "0             0        7          1         3     15                 1   \n",
       "1             3       17          1         0     10                 2   \n",
       "2             5       11          1         3     10                 2   \n",
       "3             2       13          1         0     15                 0   \n",
       "4             2       18          1         7     10                 0   \n",
       "...         ...      ...        ...       ...    ...               ...   \n",
       "237482        6       17          1         5      5                 2   \n",
       "237483        4        9          0         0     15                 0   \n",
       "237484        0        9          1         2     10                 0   \n",
       "237485        4       18          1         5      5                 1   \n",
       "237486        3       12          0         2     15                 0   \n",
       "\n",
       "        endClusterName  year  month  \n",
       "0                    1  2021      3  \n",
       "1                    2  2021      3  \n",
       "2                    2  2021      3  \n",
       "3                    0  2021      3  \n",
       "4                    2  2021      3  \n",
       "...                ...   ...    ...  \n",
       "237482               2  2020     10  \n",
       "237483               0  2020     10  \n",
       "237484               0  2020     10  \n",
       "237485               1  2020     10  \n",
       "237486               0  2020     10  \n",
       "\n",
       "[237487 rows x 9 columns]"
      ]
     },
     "execution_count": 5,
     "metadata": {},
     "output_type": "execute_result"
    }
   ],
   "source": [
    "labelenc = preprocessing.LabelEncoder()\n",
    "labelenc.fit(dfCopy.isHoliday)\n",
    "dfCopy['isHoliday'] = labelenc.transform(dfCopy.isHoliday)\n",
    "\n",
    "labelenc.fit(dfCopy.startClusterName)\n",
    "dfCopy['startClusterName'] = labelenc.transform(dfCopy.startClusterName)\n",
    "\n",
    "labelenc.fit(dfCopy.endClusterName)\n",
    "dfCopy['endClusterName'] = labelenc.transform(dfCopy.endClusterName)\n",
    "\n",
    "labelenc.fit(dfCopy.weekday)\n",
    "dfCopy['weekday'] = labelenc.transform(dfCopy.weekday)\n",
    "\n",
    "labelenc.fit(dfCopy.endClusterName)\n",
    "dfCopy['endClusterName'] = labelenc.transform(dfCopy.endClusterName)\n",
    "\n",
    "dfPrepared = dfCopy\n",
    "\n",
    "dfPrepared"
   ]
  },
  {
   "cell_type": "markdown",
   "metadata": {},
   "source": [
    "## 7.3 Training the algorithms with k-fold cross-validation\n",
    "In the following, three tree-based methods from the lecture \"Supervised Methods Part 2\" will be applied. For this purpose, a 10-fold cross-validation is to be applied and then the model is to be evaluated using statistical key figures.\n",
    "In each case, use the function cross_val_predict(model, x,y,cv=10) for the cross-validation."
   ]
  },
  {
   "cell_type": "code",
   "execution_count": 6,
   "metadata": {
    "scrolled": true
   },
   "outputs": [],
   "source": [
    "from sklearn.model_selection import cross_val_predict, cross_validate\n",
    "import sklearn.metrics as metrics\n",
    "\n",
    "df_sampled = dfPrepared.sample(frac=0.1, random_state=42)\n",
    "x = df_sampled.drop(['count'], axis = 1)\n",
    "y = df_sampled['count'].astype(int)"
   ]
  },
  {
   "cell_type": "markdown",
   "metadata": {},
   "source": [
    "#### A1: Decision Tree Regressor\n",
    "Train with the use of cross_val_predict(XYregressor, x,y,cv=10) at https://scikit-learn.org/stable/modules/generated/sklearn.model_selection.cross_val_predict.html?highlight=cross_val_predict#sklearn.model_selection.cross_val_predict\n"
   ]
  },
  {
   "cell_type": "code",
   "execution_count": 7,
   "metadata": {},
   "outputs": [],
   "source": [
    "from sklearn.tree import DecisionTreeRegressor\n",
    "\n",
    "treeRegressor = DecisionTreeRegressor(min_samples_split = 10, min_samples_leaf = 5)\n",
    "y_pred = cross_val_predict(treeRegressor, x, y, cv = 10)"
   ]
  },
  {
   "cell_type": "markdown",
   "metadata": {},
   "source": [
    "Metrics for the evaluation:"
   ]
  },
  {
   "cell_type": "code",
   "execution_count": 8,
   "metadata": {},
   "outputs": [
    {
     "name": "stdout",
     "output_type": "stream",
     "text": [
      "Results from sklearn.metrics:\n",
      "\n",
      "R-Squared: -0.06507107902008902\n",
      "\n",
      "MAE: 3.3190895920119194\n",
      "MSE: 17.955802558426367\n",
      "RMSE: 4.237428767357201\n"
     ]
    }
   ],
   "source": [
    "mae = metrics.mean_absolute_error(y, y_pred)\n",
    "mse = metrics.mean_squared_error(y, y_pred)\n",
    "rmse = np.sqrt(mse)  \n",
    "r2 = metrics.r2_score(y,y_pred)\n",
    "\n",
    "print(\"Results from sklearn.metrics:\\n\")\n",
    "print(\"R-Squared:\", r2)\n",
    "print()\n",
    "\n",
    "print(\"MAE:\",mae)\n",
    "print(\"MSE:\", mse)\n",
    "print(\"RMSE:\", rmse)"
   ]
  },
  {
   "cell_type": "markdown",
   "metadata": {},
   "source": [
    "after training the algorithm, you can  have a look at the important features for this conrete trained algorithm."
   ]
  },
  {
   "cell_type": "code",
   "execution_count": 9,
   "metadata": {},
   "outputs": [
    {
     "name": "stdout",
     "output_type": "stream",
     "text": [
      "            Feature  Importance\n",
      "1           daytime    0.262692\n",
      "3          distance    0.208146\n",
      "0           weekday    0.195334\n",
      "7             month    0.128064\n",
      "5    endClusterName    0.101408\n",
      "4  startClusterName    0.063312\n",
      "2         isHoliday    0.023635\n",
      "6              year    0.017410\n"
     ]
    }
   ],
   "source": [
    "from sklearn.tree import DecisionTreeRegressor\n",
    "treeRegressor.fit(x, y)\n",
    "\n",
    "feature_importances = treeRegressor.feature_importances_\n",
    "\n",
    "importance_df = pd.DataFrame({\n",
    "    'Feature': x.columns,\n",
    "    'Importance': feature_importances\n",
    "}).sort_values(by='Importance', ascending=False)\n",
    "\n",
    "print(importance_df)"
   ]
  },
  {
   "cell_type": "markdown",
   "metadata": {},
   "source": [
    "returns a list of importance for each feature, with higher values having a higher importance for the predictions.This allows you to see which features the decision tree considers important and you can use these findings for further analyses."
   ]
  },
  {
   "cell_type": "markdown",
   "metadata": {},
   "source": [
    "#### A1.1: Decision Tree Regressor - additional parameters\n",
    "Pruning is a technique used in decision trees to simplify the tree and avoid overfitting. \n",
    "Rules for pre-pruning are, for example, a maximum tree depth."
   ]
  },
  {
   "cell_type": "code",
   "execution_count": 10,
   "metadata": {},
   "outputs": [],
   "source": [
    "from sklearn.tree import DecisionTreeRegressor\n",
    "\n",
    "treeRegressor = DecisionTreeRegressor(min_samples_split = 10, min_samples_leaf = 5,  max_depth=10, max_leaf_nodes=50 )\n",
    "y_pred = cross_val_predict(treeRegressor, x, y, cv = 10)"
   ]
  },
  {
   "cell_type": "code",
   "execution_count": 11,
   "metadata": {},
   "outputs": [
    {
     "name": "stdout",
     "output_type": "stream",
     "text": [
      "Results from sklearn.metrics:\n",
      "\n",
      "R-Squared: 0.09551936311468756\n",
      "\n",
      "MAE: 3.014999468421475\n",
      "MSE: 15.248443088675847\n",
      "RMSE: 3.904925490796956\n"
     ]
    }
   ],
   "source": [
    "mae = metrics.mean_absolute_error(y, y_pred)\n",
    "mse = metrics.mean_squared_error(y, y_pred)\n",
    "rmse = np.sqrt(mse)  \n",
    "r2 = metrics.r2_score(y,y_pred)\n",
    "\n",
    "print(\"Results from sklearn.metrics:\\n\")\n",
    "print(\"R-Squared:\", r2)\n",
    "print()\n",
    "\n",
    "print(\"MAE:\",mae)\n",
    "print(\"MSE:\", mse)\n",
    "print(\"RMSE:\", rmse)"
   ]
  },
  {
   "cell_type": "code",
   "execution_count": 12,
   "metadata": {},
   "outputs": [
    {
     "name": "stdout",
     "output_type": "stream",
     "text": [
      "            Feature  Importance\n",
      "3          distance    0.488379\n",
      "1           daytime    0.166007\n",
      "4  startClusterName    0.144717\n",
      "5    endClusterName    0.099523\n",
      "2         isHoliday    0.064863\n",
      "7             month    0.014766\n",
      "6              year    0.012625\n",
      "0           weekday    0.009120\n"
     ]
    }
   ],
   "source": [
    "from sklearn.tree import DecisionTreeRegressor\n",
    "treeRegressor.fit(x, y)\n",
    "\n",
    "feature_importances = treeRegressor.feature_importances_\n",
    "\n",
    "importance_df = pd.DataFrame({\n",
    "    'Feature': x.columns,\n",
    "    'Importance': feature_importances\n",
    "}).sort_values(by='Importance', ascending=False)\n",
    "\n",
    "print(importance_df)"
   ]
  },
  {
   "cell_type": "markdown",
   "metadata": {},
   "source": [
    "#### A2: Random Forest Regressor\n",
    "Train the same way as above."
   ]
  },
  {
   "cell_type": "code",
   "execution_count": 13,
   "metadata": {},
   "outputs": [],
   "source": [
    "from sklearn.ensemble import RandomForestRegressor\n",
    "\n",
    "forestRegressor = RandomForestRegressor(min_samples_split = 10, min_samples_leaf = 5, n_estimators = 100)\n",
    "\n",
    "y_pred = cross_val_predict(forestRegressor, x, y, cv = 10)"
   ]
  },
  {
   "cell_type": "code",
   "execution_count": 14,
   "metadata": {},
   "outputs": [
    {
     "name": "stdout",
     "output_type": "stream",
     "text": [
      "Ergebnisse von sklearn.metrics:\n",
      "\n",
      "R-Squared: 0.0750289774339179\n",
      "\n",
      "MAE: 3.074449621312731\n",
      "MSE: 15.59388606133492\n",
      "RMSE: 3.94890947748045\n"
     ]
    }
   ],
   "source": [
    "mae = metrics.mean_absolute_error(y, y_pred)\n",
    "mse = metrics.mean_squared_error(y, y_pred)\n",
    "rmse = np.sqrt(mse)  \n",
    "r2 = metrics.r2_score(y,y_pred)\n",
    "\n",
    "print(\"Ergebnisse von sklearn.metrics:\\n\")\n",
    "print(\"R-Squared:\", r2)\n",
    "print()\n",
    "\n",
    "print(\"MAE:\",mae)\n",
    "print(\"MSE:\", mse)\n",
    "print(\"RMSE:\", rmse)"
   ]
  },
  {
   "cell_type": "code",
   "execution_count": 15,
   "metadata": {},
   "outputs": [
    {
     "name": "stdout",
     "output_type": "stream",
     "text": [
      "            Feature  Importance\n",
      "1           daytime    0.274451\n",
      "3          distance    0.200472\n",
      "0           weekday    0.200308\n",
      "7             month    0.144370\n",
      "5    endClusterName    0.068071\n",
      "4  startClusterName    0.064305\n",
      "2         isHoliday    0.029029\n",
      "6              year    0.018994\n"
     ]
    }
   ],
   "source": [
    "forestRegressor.fit(x, y)\n",
    "\n",
    "feature_importances = forestRegressor.feature_importances_\n",
    "\n",
    "importance_df = pd.DataFrame({\n",
    "    'Feature': x.columns,\n",
    "    'Importance': feature_importances\n",
    "}).sort_values(by='Importance', ascending=False)\n",
    "\n",
    "print(importance_df)"
   ]
  },
  {
   "cell_type": "markdown",
   "metadata": {},
   "source": [
    "#### A2.1: Random Forest Regressor - additional parameters"
   ]
  },
  {
   "cell_type": "code",
   "execution_count": 16,
   "metadata": {},
   "outputs": [],
   "source": [
    "from sklearn.ensemble import RandomForestRegressor\n",
    "\n",
    "forestRegressor = RandomForestRegressor(min_samples_split = 10, min_samples_leaf = 5, n_estimators = 100, max_depth=10, max_leaf_nodes=50 )\n",
    "\n",
    "y_pred = cross_val_predict(forestRegressor, x, y, cv = 10)"
   ]
  },
  {
   "cell_type": "code",
   "execution_count": 17,
   "metadata": {},
   "outputs": [
    {
     "name": "stdout",
     "output_type": "stream",
     "text": [
      "Results from sklearn.metrics:\n",
      "\n",
      "R-Squared: 0.10520339269327494\n",
      "\n",
      "MAE: 2.9825654260863743\n",
      "MSE: 15.085182132192964\n",
      "RMSE: 3.8839647439430967\n"
     ]
    }
   ],
   "source": [
    "mae = metrics.mean_absolute_error(y, y_pred)\n",
    "mse = metrics.mean_squared_error(y, y_pred)\n",
    "rmse = np.sqrt(mse)  \n",
    "r2 = metrics.r2_score(y,y_pred)\n",
    "\n",
    "print(\"Results from sklearn.metrics:\\n\")\n",
    "print(\"R-Squared:\", r2)\n",
    "print()\n",
    "\n",
    "print(\"MAE:\",mae)\n",
    "print(\"MSE:\", mse)\n",
    "print(\"RMSE:\", rmse)"
   ]
  },
  {
   "cell_type": "markdown",
   "metadata": {},
   "source": [
    "#### A3: Gradient Boost Trees (Regression)\n",
    "Train the same way as above."
   ]
  },
  {
   "cell_type": "code",
   "execution_count": 18,
   "metadata": {},
   "outputs": [],
   "source": [
    "from sklearn.ensemble import GradientBoostingRegressor\n",
    "\n",
    "gbRegressor = GradientBoostingRegressor(n_estimators = 100, max_depth = 4)\n",
    "\n",
    "y_pred = cross_val_predict(gbRegressor, x, y, cv = 10)"
   ]
  },
  {
   "cell_type": "code",
   "execution_count": 19,
   "metadata": {
    "scrolled": true
   },
   "outputs": [
    {
     "name": "stdout",
     "output_type": "stream",
     "text": [
      "Ergebnisse von sklearn.metrics:\n",
      "\n",
      "R-Squared: 0.11134838250653101\n",
      "\n",
      "MAE: 2.976778347130475\n",
      "MSE: 14.981585080330582\n",
      "RMSE: 3.8706052602055125\n"
     ]
    }
   ],
   "source": [
    "mae = metrics.mean_absolute_error(y, y_pred)\n",
    "mse = metrics.mean_squared_error(y, y_pred)\n",
    "rmse = np.sqrt(mse)  \n",
    "r2 = metrics.r2_score(y,y_pred)\n",
    "\n",
    "print(\"Ergebnisse von sklearn.metrics:\\n\")\n",
    "print(\"R-Squared:\", r2)\n",
    "print()\n",
    "\n",
    "print(\"MAE:\",mae)\n",
    "print(\"MSE:\", mse)\n",
    "print(\"RMSE:\", rmse)"
   ]
  },
  {
   "cell_type": "markdown",
   "metadata": {},
   "source": [
    "#### A3.1: Gradient Boost Trees (Regression) - additional Parameters"
   ]
  },
  {
   "cell_type": "code",
   "execution_count": 20,
   "metadata": {},
   "outputs": [],
   "source": [
    "from sklearn.ensemble import GradientBoostingRegressor\n",
    "\n",
    "gbRegressor = GradientBoostingRegressor(n_estimators = 100, max_depth = 4,  max_leaf_nodes=50,  min_samples_leaf = 5)\n",
    "\n",
    "y_pred = cross_val_predict(gbRegressor, x, y, cv = 10)"
   ]
  },
  {
   "cell_type": "code",
   "execution_count": 25,
   "metadata": {},
   "outputs": [
    {
     "name": "stdout",
     "output_type": "stream",
     "text": [
      "Results from sklearn.metrics:\n",
      "\n",
      "R-Squared: 0.11092047353800127\n",
      "\n",
      "MAE: 2.9774646562023164\n",
      "MSE: 14.98879910491847\n",
      "RMSE: 3.8715370468224206\n"
     ]
    }
   ],
   "source": [
    "mae = metrics.mean_absolute_error(y, y_pred)\n",
    "mse = metrics.mean_squared_error(y, y_pred)\n",
    "rmse = np.sqrt(mse)  \n",
    "r2 = metrics.r2_score(y,y_pred)\n",
    "\n",
    "print(\"Results from sklearn.metrics:\\n\")\n",
    "print(\"R-Squared:\", r2)\n",
    "print()\n",
    "\n",
    "print(\"MAE:\",mae)\n",
    "print(\"MSE:\", mse)\n",
    "print(\"RMSE:\", rmse)"
   ]
  },
  {
   "cell_type": "markdown",
   "metadata": {},
   "source": [
    "## 7.4 Interpretation of the quality criteria\n",
    "Interpret the quality criteria and make a statement on the usability of the models."
   ]
  },
  {
   "cell_type": "markdown",
   "metadata": {},
   "source": []
  },
  {
   "cell_type": "markdown",
   "metadata": {},
   "source": [
    "## 7.5 Train several models simultaneously and compare them visually\n",
    "Go through the code below and follow the individual steps. What does the visualization tell you?"
   ]
  },
  {
   "cell_type": "code",
   "execution_count": 26,
   "metadata": {},
   "outputs": [],
   "source": [
    "import time\n",
    "\n",
    "estimators = [('DT', DecisionTreeRegressor(min_samples_split = 10, min_samples_leaf = 5)),\n",
    "    ('RF', RandomForestRegressor(min_samples_split = 10, min_samples_leaf = 5, n_estimators = 100)), \n",
    "              ('GB', GradientBoostingRegressor(n_estimators = 100, max_depth = 4))]"
   ]
  },
  {
   "cell_type": "code",
   "execution_count": 27,
   "metadata": {},
   "outputs": [
    {
     "data": {
      "image/png": "[encoded data removed]",
      "text/plain": [
       "<Figure size 900x500 with 3 Axes>"
      ]
     },
     "metadata": {},
     "output_type": "display_data"
    }
   ],
   "source": [
    "def plot_regression_results(ax, y, y_pred, title, scores, elapsed_time):\n",
    "    \"\"\"Scatter plot of the predicted vs true targets.\"\"\"\n",
    "    ax.plot([y.min(), y.max()],\n",
    "            [y.min(), y.max()],\n",
    "            '--r', linewidth=2)\n",
    "    ax.scatter(y, y_pred, alpha=0.2)\n",
    "\n",
    "    ax.spines['top'].set_visible(False)\n",
    "    ax.spines['right'].set_visible(False)\n",
    "    ax.get_xaxis().tick_bottom()\n",
    "    ax.get_yaxis().tick_left()\n",
    "    ax.spines['left'].set_position(('outward', 10))\n",
    "    ax.spines['bottom'].set_position(('outward', 10))\n",
    "    ax.set_xlim([y.min(), y.max()])\n",
    "    ax.set_ylim([y.min(), y.max()])\n",
    "    ax.set_xlabel('Measured')\n",
    "    ax.set_ylabel('Predicted')\n",
    "    extra = plt.Rectangle((0, 0), 0, 0, fc=\"w\", fill=False,\n",
    "                          edgecolor='none', linewidth=0)\n",
    "    ax.legend([extra], [scores], loc='upper left')\n",
    "    title = title + '\\n Evaluation in {:.2f} seconds'.format(elapsed_time)\n",
    "    ax.set_title(title)\n",
    "\n",
    "\n",
    "fig, axs = plt.subplots(1, 3, figsize=(9, 5))\n",
    "axs = np.ravel(axs)\n",
    "\n",
    "for ax, (name, est) in zip(axs, estimators):\n",
    "    start_time = time.time()\n",
    "    score = cross_validate(est, x, y,\n",
    "                           scoring=['r2', 'neg_mean_absolute_error'],\n",
    "                           n_jobs=-1, verbose=0)\n",
    "    elapsed_time = time.time() - start_time\n",
    "\n",
    "    y_pred = cross_val_predict(est, x, y, n_jobs=-1, verbose=0)\n",
    "\n",
    "    plot_regression_results(\n",
    "        ax, y, y_pred,\n",
    "        name,\n",
    "        (r'$R^2={:.2f} \\pm {:.2f}$' + '\\n' + r'$MAE={:.2f} \\pm {:.2f}$')\n",
    "        .format(np.mean(score['test_r2']),\n",
    "                np.std(score['test_r2']),\n",
    "                -np.mean(score['test_neg_mean_absolute_error']),\n",
    "                np.std(score['test_neg_mean_absolute_error'])),\n",
    "        elapsed_time)\n",
    "\n",
    "plt.suptitle('Performance Single predictors')\n",
    "plt.tight_layout()\n",
    "plt.subplots_adjust(top=0.8)\n",
    "plt.show()"
   ]
  }
 ],
 "metadata": {
  "kernelspec": {
   "display_name": "Python 3 (ipykernel)",
   "language": "python",
   "name": "python3"
  },
  "language_info": {
   "codemirror_mode": {
    "name": "ipython",
    "version": 3
   },
   "file_extension": ".py",
   "mimetype": "text/x-python",
   "name": "python",
   "nbconvert_exporter": "python",
   "pygments_lexer": "ipython3",
   "version": "3.11.9"
  }
 },
 "nbformat": 4,
 "nbformat_minor": 4
}
