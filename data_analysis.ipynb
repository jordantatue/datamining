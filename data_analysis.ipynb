{
 "cells": [
  {
   "cell_type": "markdown",
   "id": "03a894ce",
   "metadata": {},
   "source": [
    "### Analyse et Transformation des Données\n",
    "Ce notebook montre comment analyser et transformer un jeu de données avec `pandas`.\n",
    "Chaque étape est expliquée avec des commentaires clairs."
   ]
  },
  {
   "cell_type": "markdown",
   "id": "421c74bc-6660-4162-8209-162c1727ff21",
   "metadata": {},
   "source": [
    "### Let's start by importing the libraries that will help us throughout the project, adjusting them as we go along."
   ]
  },
  {
   "cell_type": "code",
   "execution_count": 2,
   "id": "5f79ac68",
   "metadata": {},
   "outputs": [],
   "source": [
    "# Importer pandas\n",
    "import pandas as pd\n",
    "import numpy as np\n",
    "\n",
    "import matplotlib.pyplot as plt\n",
    "import seaborn as sn"
   ]
  },
  {
   "cell_type": "markdown",
   "id": "87972274-a749-4ea6-b9b1-7477fbd75c07",
   "metadata": {},
   "source": [
    "### We have 2 files that we need to concatenate after formatting and with the right naming so that these 2 files can be uniform."
   ]
  },
  {
   "cell_type": "code",
   "execution_count": 3,
   "id": "a1994aa6",
   "metadata": {},
   "outputs": [],
   "source": [
    "# Load data file\n",
    "data1 = pd.read_csv('Trips_ROP_transformed_2021_Q1.csv')\n",
    "data2 = pd.read_csv('Trips_ROP_transformed_2020_Q4.csv')\n",
    "data2.rename(columns={\n",
    "    'Bucketdate': 'Bucket',\n",
    "    'EndName': 'EndName',\n",
    "    'Wochentag': 'Wochentag(d)',\n",
    "    'Tageszeit': 'Tageszeit(h)',\n",
    "    'Schulferien': 'Schulferien',\n",
    "    'Distanz': 'Distanz',\n",
    "    'Count(Zaehler)': 'Count'\n",
    "}, inplace=True)\n",
    "data = pd.concat([data1, data2], ignore_index=True)"
   ]
  },
  {
   "cell_type": "code",
   "execution_count": 4,
   "id": "ac12958c-12f4-43c7-a419-a336477ba85b",
   "metadata": {},
   "outputs": [
    {
     "data": {
      "text/html": [
       "<div>\n",
       "<style scoped>\n",
       "    .dataframe tbody tr th:only-of-type {\n",
       "        vertical-align: middle;\n",
       "    }\n",
       "\n",
       "    .dataframe tbody tr th {\n",
       "        vertical-align: top;\n",
       "    }\n",
       "\n",
       "    .dataframe thead th {\n",
       "        text-align: right;\n",
       "    }\n",
       "</style>\n",
       "<table border=\"1\" class=\"dataframe\">\n",
       "  <thead>\n",
       "    <tr style=\"text-align: right;\">\n",
       "      <th></th>\n",
       "      <th>Bucket</th>\n",
       "      <th>StartName</th>\n",
       "      <th>EndName</th>\n",
       "      <th>Wochentag(d)</th>\n",
       "      <th>Tageszeit(h)</th>\n",
       "      <th>Schulferien</th>\n",
       "      <th>Distanz</th>\n",
       "      <th>Count</th>\n",
       "    </tr>\n",
       "  </thead>\n",
       "  <tbody>\n",
       "    <tr>\n",
       "      <th>0</th>\n",
       "      <td>2020-12</td>\n",
       "      <td>Turda(80982 - 03241013050002)</td>\n",
       "      <td>Turda(80982 - 03241013050006)</td>\n",
       "      <td>Fr</td>\n",
       "      <td>22</td>\n",
       "      <td>Keine Ferien</td>\n",
       "      <td>1</td>\n",
       "      <td>5</td>\n",
       "    </tr>\n",
       "    <tr>\n",
       "      <th>1</th>\n",
       "      <td>2020-12</td>\n",
       "      <td>Turda(80982 - 03241013070001)</td>\n",
       "      <td>Hunedoara(71171 - 03254026000004)</td>\n",
       "      <td>Sa</td>\n",
       "      <td>15</td>\n",
       "      <td>Keine Ferien</td>\n",
       "      <td>4</td>\n",
       "      <td>10</td>\n",
       "    </tr>\n",
       "    <tr>\n",
       "      <th>2</th>\n",
       "      <td>2020-12</td>\n",
       "      <td>Turda(80982 - 03241013070001)</td>\n",
       "      <td>Turda(80982 - 03241013030001)</td>\n",
       "      <td>Fr</td>\n",
       "      <td>6</td>\n",
       "      <td>Keine Ferien</td>\n",
       "      <td>8</td>\n",
       "      <td>15</td>\n",
       "    </tr>\n",
       "    <tr>\n",
       "      <th>3</th>\n",
       "      <td>2020-12</td>\n",
       "      <td>Bran(91157 - 03254028004001)</td>\n",
       "      <td>Turda(80982 - 03241013070001)</td>\n",
       "      <td>Di</td>\n",
       "      <td>14</td>\n",
       "      <td>Keine Ferien</td>\n",
       "      <td>9</td>\n",
       "      <td>10</td>\n",
       "    </tr>\n",
       "    <tr>\n",
       "      <th>4</th>\n",
       "      <td>2020-12</td>\n",
       "      <td>Hunedoara(71171 - 03254026000004)</td>\n",
       "      <td>Hunedoara(71171 - 03254026000008)</td>\n",
       "      <td>Di</td>\n",
       "      <td>6</td>\n",
       "      <td>Keine Ferien</td>\n",
       "      <td>3</td>\n",
       "      <td>10</td>\n",
       "    </tr>\n",
       "    <tr>\n",
       "      <th>5</th>\n",
       "      <td>2020-12</td>\n",
       "      <td>Turda(80982 - 03241013050002)</td>\n",
       "      <td>Hunedoara(71171 - 03254026000004)</td>\n",
       "      <td>Fr</td>\n",
       "      <td>14</td>\n",
       "      <td>Keine Ferien</td>\n",
       "      <td>9</td>\n",
       "      <td>10</td>\n",
       "    </tr>\n",
       "    <tr>\n",
       "      <th>6</th>\n",
       "      <td>2020-12</td>\n",
       "      <td>Turda(80982 - 03241013050006)</td>\n",
       "      <td>Turda(80982 - 03241013050009)</td>\n",
       "      <td>Do</td>\n",
       "      <td>13</td>\n",
       "      <td>Ferien</td>\n",
       "      <td>0</td>\n",
       "      <td>15</td>\n",
       "    </tr>\n",
       "    <tr>\n",
       "      <th>7</th>\n",
       "      <td>2020-12</td>\n",
       "      <td>Bran(91157 - 03254028001012)</td>\n",
       "      <td>Bran(91157 - 03254028001013)</td>\n",
       "      <td>So/Fe</td>\n",
       "      <td>18</td>\n",
       "      <td>Ferien</td>\n",
       "      <td>0</td>\n",
       "      <td>25</td>\n",
       "    </tr>\n",
       "    <tr>\n",
       "      <th>8</th>\n",
       "      <td>2020-12</td>\n",
       "      <td>Turda(80982 - 03241013080001)</td>\n",
       "      <td>Turda(80982 - 03241013050002)</td>\n",
       "      <td>Di</td>\n",
       "      <td>6</td>\n",
       "      <td>Keine Ferien</td>\n",
       "      <td>4</td>\n",
       "      <td>5</td>\n",
       "    </tr>\n",
       "    <tr>\n",
       "      <th>9</th>\n",
       "      <td>2020-12</td>\n",
       "      <td>Hunedoara(71171 - 03254026000008)</td>\n",
       "      <td>Turda(80982 - 03241013070001)</td>\n",
       "      <td>Sa</td>\n",
       "      <td>10</td>\n",
       "      <td>Keine Ferien</td>\n",
       "      <td>5</td>\n",
       "      <td>10</td>\n",
       "    </tr>\n",
       "  </tbody>\n",
       "</table>\n",
       "</div>"
      ],
      "text/plain": [
       "    Bucket                          StartName  \\\n",
       "0  2020-12      Turda(80982 - 03241013050002)   \n",
       "1  2020-12      Turda(80982 - 03241013070001)   \n",
       "2  2020-12      Turda(80982 - 03241013070001)   \n",
       "3  2020-12       Bran(91157 - 03254028004001)   \n",
       "4  2020-12  Hunedoara(71171 - 03254026000004)   \n",
       "5  2020-12      Turda(80982 - 03241013050002)   \n",
       "6  2020-12      Turda(80982 - 03241013050006)   \n",
       "7  2020-12       Bran(91157 - 03254028001012)   \n",
       "8  2020-12      Turda(80982 - 03241013080001)   \n",
       "9  2020-12  Hunedoara(71171 - 03254026000008)   \n",
       "\n",
       "                             EndName Wochentag(d)  Tageszeit(h)   Schulferien  \\\n",
       "0      Turda(80982 - 03241013050006)           Fr            22  Keine Ferien   \n",
       "1  Hunedoara(71171 - 03254026000004)           Sa            15  Keine Ferien   \n",
       "2      Turda(80982 - 03241013030001)           Fr             6  Keine Ferien   \n",
       "3      Turda(80982 - 03241013070001)           Di            14  Keine Ferien   \n",
       "4  Hunedoara(71171 - 03254026000008)           Di             6  Keine Ferien   \n",
       "5  Hunedoara(71171 - 03254026000004)           Fr            14  Keine Ferien   \n",
       "6      Turda(80982 - 03241013050009)           Do            13        Ferien   \n",
       "7       Bran(91157 - 03254028001013)        So/Fe            18        Ferien   \n",
       "8      Turda(80982 - 03241013050002)           Di             6  Keine Ferien   \n",
       "9      Turda(80982 - 03241013070001)           Sa            10  Keine Ferien   \n",
       "\n",
       "   Distanz  Count  \n",
       "0        1      5  \n",
       "1        4     10  \n",
       "2        8     15  \n",
       "3        9     10  \n",
       "4        3     10  \n",
       "5        9     10  \n",
       "6        0     15  \n",
       "7        0     25  \n",
       "8        4      5  \n",
       "9        5     10  "
      ]
     },
     "execution_count": 4,
     "metadata": {},
     "output_type": "execute_result"
    }
   ],
   "source": [
    "# we display the first 5 lines of dataset 2 to see if the collone names are indeed ok \n",
    "data2.head(10)"
   ]
  },
  {
   "cell_type": "code",
   "execution_count": 5,
   "id": "0783f21e-bd04-4a61-9098-922d5d140bf1",
   "metadata": {},
   "outputs": [
    {
     "data": {
      "text/html": [
       "<div>\n",
       "<style scoped>\n",
       "    .dataframe tbody tr th:only-of-type {\n",
       "        vertical-align: middle;\n",
       "    }\n",
       "\n",
       "    .dataframe tbody tr th {\n",
       "        vertical-align: top;\n",
       "    }\n",
       "\n",
       "    .dataframe thead th {\n",
       "        text-align: right;\n",
       "    }\n",
       "</style>\n",
       "<table border=\"1\" class=\"dataframe\">\n",
       "  <thead>\n",
       "    <tr style=\"text-align: right;\">\n",
       "      <th></th>\n",
       "      <th>Bucket</th>\n",
       "      <th>StartName</th>\n",
       "      <th>EndName</th>\n",
       "      <th>Wochentag(d)</th>\n",
       "      <th>Tageszeit(h)</th>\n",
       "      <th>Schulferien</th>\n",
       "      <th>Distanz</th>\n",
       "      <th>Count</th>\n",
       "    </tr>\n",
       "  </thead>\n",
       "  <tbody>\n",
       "    <tr>\n",
       "      <th>0</th>\n",
       "      <td>2021-03</td>\n",
       "      <td>Hunedoara(71171 - 03254026000002)</td>\n",
       "      <td>Hunedoara(71171 - 03254026000007)</td>\n",
       "      <td>Di</td>\n",
       "      <td>7</td>\n",
       "      <td>Keine Ferien</td>\n",
       "      <td>3</td>\n",
       "      <td>15</td>\n",
       "    </tr>\n",
       "    <tr>\n",
       "      <th>1</th>\n",
       "      <td>2021-03</td>\n",
       "      <td>Turda(80982 - 03241013050002)</td>\n",
       "      <td>Turda(80982 - 03241013050008)</td>\n",
       "      <td>Mi</td>\n",
       "      <td>17</td>\n",
       "      <td>Keine Ferien</td>\n",
       "      <td>0</td>\n",
       "      <td>10</td>\n",
       "    </tr>\n",
       "    <tr>\n",
       "      <th>2</th>\n",
       "      <td>2021-03</td>\n",
       "      <td>Turda(80982 - 03241013050007)</td>\n",
       "      <td>Turda(80982 - 03241013030001)</td>\n",
       "      <td>Sa</td>\n",
       "      <td>11</td>\n",
       "      <td>Keine Ferien</td>\n",
       "      <td>3</td>\n",
       "      <td>10</td>\n",
       "    </tr>\n",
       "    <tr>\n",
       "      <th>3</th>\n",
       "      <td>2021-03</td>\n",
       "      <td>Bran(91157 - 03254028001012)</td>\n",
       "      <td>Bran(91157 - 03254028001004)</td>\n",
       "      <td>Fr</td>\n",
       "      <td>13</td>\n",
       "      <td>Keine Ferien</td>\n",
       "      <td>0</td>\n",
       "      <td>15</td>\n",
       "    </tr>\n",
       "    <tr>\n",
       "      <th>4</th>\n",
       "      <td>2021-03</td>\n",
       "      <td>Bran(91157 - 03254028001003)</td>\n",
       "      <td>Turda(80982 - 03241013070001)</td>\n",
       "      <td>Fr</td>\n",
       "      <td>18</td>\n",
       "      <td>Keine Ferien</td>\n",
       "      <td>7</td>\n",
       "      <td>10</td>\n",
       "    </tr>\n",
       "  </tbody>\n",
       "</table>\n",
       "</div>"
      ],
      "text/plain": [
       "    Bucket                          StartName  \\\n",
       "0  2021-03  Hunedoara(71171 - 03254026000002)   \n",
       "1  2021-03      Turda(80982 - 03241013050002)   \n",
       "2  2021-03      Turda(80982 - 03241013050007)   \n",
       "3  2021-03       Bran(91157 - 03254028001012)   \n",
       "4  2021-03       Bran(91157 - 03254028001003)   \n",
       "\n",
       "                             EndName Wochentag(d)  Tageszeit(h)   Schulferien  \\\n",
       "0  Hunedoara(71171 - 03254026000007)           Di             7  Keine Ferien   \n",
       "1      Turda(80982 - 03241013050008)           Mi            17  Keine Ferien   \n",
       "2      Turda(80982 - 03241013030001)           Sa            11  Keine Ferien   \n",
       "3       Bran(91157 - 03254028001004)           Fr            13  Keine Ferien   \n",
       "4      Turda(80982 - 03241013070001)           Fr            18  Keine Ferien   \n",
       "\n",
       "   Distanz  Count  \n",
       "0        3     15  \n",
       "1        0     10  \n",
       "2        3     10  \n",
       "3        0     15  \n",
       "4        7     10  "
      ]
     },
     "execution_count": 5,
     "metadata": {},
     "output_type": "execute_result"
    }
   ],
   "source": [
    "# Preview data to understand structure\n",
    "data1.head()"
   ]
  },
  {
   "cell_type": "code",
   "execution_count": 6,
   "id": "017a489f-ce9f-4596-a330-fe3f6c81a09a",
   "metadata": {},
   "outputs": [
    {
     "data": {
      "text/html": [
       "<div>\n",
       "<style scoped>\n",
       "    .dataframe tbody tr th:only-of-type {\n",
       "        vertical-align: middle;\n",
       "    }\n",
       "\n",
       "    .dataframe tbody tr th {\n",
       "        vertical-align: top;\n",
       "    }\n",
       "\n",
       "    .dataframe thead th {\n",
       "        text-align: right;\n",
       "    }\n",
       "</style>\n",
       "<table border=\"1\" class=\"dataframe\">\n",
       "  <thead>\n",
       "    <tr style=\"text-align: right;\">\n",
       "      <th></th>\n",
       "      <th>Bucket</th>\n",
       "      <th>StartName</th>\n",
       "      <th>EndName</th>\n",
       "      <th>Wochentag(d)</th>\n",
       "      <th>Tageszeit(h)</th>\n",
       "      <th>Schulferien</th>\n",
       "      <th>Distanz</th>\n",
       "      <th>Count</th>\n",
       "    </tr>\n",
       "  </thead>\n",
       "  <tbody>\n",
       "    <tr>\n",
       "      <th>0</th>\n",
       "      <td>2021-03</td>\n",
       "      <td>Hunedoara(71171 - 03254026000002)</td>\n",
       "      <td>Hunedoara(71171 - 03254026000007)</td>\n",
       "      <td>Di</td>\n",
       "      <td>7</td>\n",
       "      <td>Keine Ferien</td>\n",
       "      <td>3</td>\n",
       "      <td>15</td>\n",
       "    </tr>\n",
       "    <tr>\n",
       "      <th>1</th>\n",
       "      <td>2021-03</td>\n",
       "      <td>Turda(80982 - 03241013050002)</td>\n",
       "      <td>Turda(80982 - 03241013050008)</td>\n",
       "      <td>Mi</td>\n",
       "      <td>17</td>\n",
       "      <td>Keine Ferien</td>\n",
       "      <td>0</td>\n",
       "      <td>10</td>\n",
       "    </tr>\n",
       "    <tr>\n",
       "      <th>2</th>\n",
       "      <td>2021-03</td>\n",
       "      <td>Turda(80982 - 03241013050007)</td>\n",
       "      <td>Turda(80982 - 03241013030001)</td>\n",
       "      <td>Sa</td>\n",
       "      <td>11</td>\n",
       "      <td>Keine Ferien</td>\n",
       "      <td>3</td>\n",
       "      <td>10</td>\n",
       "    </tr>\n",
       "    <tr>\n",
       "      <th>3</th>\n",
       "      <td>2021-03</td>\n",
       "      <td>Bran(91157 - 03254028001012)</td>\n",
       "      <td>Bran(91157 - 03254028001004)</td>\n",
       "      <td>Fr</td>\n",
       "      <td>13</td>\n",
       "      <td>Keine Ferien</td>\n",
       "      <td>0</td>\n",
       "      <td>15</td>\n",
       "    </tr>\n",
       "    <tr>\n",
       "      <th>4</th>\n",
       "      <td>2021-03</td>\n",
       "      <td>Bran(91157 - 03254028001003)</td>\n",
       "      <td>Turda(80982 - 03241013070001)</td>\n",
       "      <td>Fr</td>\n",
       "      <td>18</td>\n",
       "      <td>Keine Ferien</td>\n",
       "      <td>7</td>\n",
       "      <td>10</td>\n",
       "    </tr>\n",
       "    <tr>\n",
       "      <th>...</th>\n",
       "      <td>...</td>\n",
       "      <td>...</td>\n",
       "      <td>...</td>\n",
       "      <td>...</td>\n",
       "      <td>...</td>\n",
       "      <td>...</td>\n",
       "      <td>...</td>\n",
       "      <td>...</td>\n",
       "    </tr>\n",
       "    <tr>\n",
       "      <th>277022</th>\n",
       "      <td>2020-10</td>\n",
       "      <td>Bran(91157 - 03254028001012)</td>\n",
       "      <td>Bran(91157 - 03254028001003)</td>\n",
       "      <td>Mo</td>\n",
       "      <td>9</td>\n",
       "      <td>Ferien</td>\n",
       "      <td>0</td>\n",
       "      <td>15</td>\n",
       "    </tr>\n",
       "    <tr>\n",
       "      <th>277023</th>\n",
       "      <td>2020-10</td>\n",
       "      <td>Bran(91157 - 03254028001013)</td>\n",
       "      <td>Turda(80982 - 03241013070001)</td>\n",
       "      <td>Di</td>\n",
       "      <td>18</td>\n",
       "      <td>Keine Ferien</td>\n",
       "      <td>7</td>\n",
       "      <td>15</td>\n",
       "    </tr>\n",
       "    <tr>\n",
       "      <th>277024</th>\n",
       "      <td>2020-10</td>\n",
       "      <td>Bran(91157 - 03254028001013)</td>\n",
       "      <td>Bran(91157 - 03254028003001)</td>\n",
       "      <td>Di</td>\n",
       "      <td>9</td>\n",
       "      <td>Keine Ferien</td>\n",
       "      <td>2</td>\n",
       "      <td>10</td>\n",
       "    </tr>\n",
       "    <tr>\n",
       "      <th>277025</th>\n",
       "      <td>2020-10</td>\n",
       "      <td>Hunedoara(71171 - 03254026000014)</td>\n",
       "      <td>Hunedoara(71171 - 03254026000003)</td>\n",
       "      <td>Mo</td>\n",
       "      <td>18</td>\n",
       "      <td>Keine Ferien</td>\n",
       "      <td>5</td>\n",
       "      <td>5</td>\n",
       "    </tr>\n",
       "    <tr>\n",
       "      <th>277026</th>\n",
       "      <td>2020-10</td>\n",
       "      <td>Bran(91157 - 03254028004001)</td>\n",
       "      <td>Bran(91157 - 03254028001013)</td>\n",
       "      <td>Mi</td>\n",
       "      <td>12</td>\n",
       "      <td>Ferien</td>\n",
       "      <td>2</td>\n",
       "      <td>15</td>\n",
       "    </tr>\n",
       "  </tbody>\n",
       "</table>\n",
       "<p>277027 rows × 8 columns</p>\n",
       "</div>"
      ],
      "text/plain": [
       "         Bucket                          StartName  \\\n",
       "0       2021-03  Hunedoara(71171 - 03254026000002)   \n",
       "1       2021-03      Turda(80982 - 03241013050002)   \n",
       "2       2021-03      Turda(80982 - 03241013050007)   \n",
       "3       2021-03       Bran(91157 - 03254028001012)   \n",
       "4       2021-03       Bran(91157 - 03254028001003)   \n",
       "...         ...                                ...   \n",
       "277022  2020-10       Bran(91157 - 03254028001012)   \n",
       "277023  2020-10       Bran(91157 - 03254028001013)   \n",
       "277024  2020-10       Bran(91157 - 03254028001013)   \n",
       "277025  2020-10  Hunedoara(71171 - 03254026000014)   \n",
       "277026  2020-10       Bran(91157 - 03254028004001)   \n",
       "\n",
       "                                  EndName Wochentag(d)  Tageszeit(h)  \\\n",
       "0       Hunedoara(71171 - 03254026000007)           Di             7   \n",
       "1           Turda(80982 - 03241013050008)           Mi            17   \n",
       "2           Turda(80982 - 03241013030001)           Sa            11   \n",
       "3            Bran(91157 - 03254028001004)           Fr            13   \n",
       "4           Turda(80982 - 03241013070001)           Fr            18   \n",
       "...                                   ...          ...           ...   \n",
       "277022       Bran(91157 - 03254028001003)           Mo             9   \n",
       "277023      Turda(80982 - 03241013070001)           Di            18   \n",
       "277024       Bran(91157 - 03254028003001)           Di             9   \n",
       "277025  Hunedoara(71171 - 03254026000003)           Mo            18   \n",
       "277026       Bran(91157 - 03254028001013)           Mi            12   \n",
       "\n",
       "         Schulferien  Distanz  Count  \n",
       "0       Keine Ferien        3     15  \n",
       "1       Keine Ferien        0     10  \n",
       "2       Keine Ferien        3     10  \n",
       "3       Keine Ferien        0     15  \n",
       "4       Keine Ferien        7     10  \n",
       "...              ...      ...    ...  \n",
       "277022        Ferien        0     15  \n",
       "277023  Keine Ferien        7     15  \n",
       "277024  Keine Ferien        2     10  \n",
       "277025  Keine Ferien        5      5  \n",
       "277026        Ferien        2     15  \n",
       "\n",
       "[277027 rows x 8 columns]"
      ]
     },
     "execution_count": 6,
     "metadata": {},
     "output_type": "execute_result"
    }
   ],
   "source": [
    "#display data \n",
    "data"
   ]
  },
  {
   "cell_type": "markdown",
   "id": "030acba1-7bef-4c94-89fd-1fd5255e5982",
   "metadata": {},
   "source": [
    "## 1.1 Categorization of attributes\n",
    "\n",
    "\n",
    "# If the header is read correctly, now classify the attributes into the following categories:\n",
    "\n",
    "# **Nominal Attributes**\n",
    "\n",
    "# StartName\n",
    "# EndName\n",
    "# Schulferien\n",
    "\n",
    "\n",
    "# **Ordinal Attributes**\n",
    "# Wochentag(d)\n",
    "\n",
    "# **Metric continuous Attributes**\n",
    "\n",
    "# **Metric discrete Attributes**\n",
    "# Tageszeit(h)\n",
    "# Distanz\n",
    "# Count\n",
    "# Bucket (potentiellement)"
   ]
  },
  {
   "cell_type": "code",
   "execution_count": 7,
   "id": "bca71265-60e6-43db-a69d-e7b8a2278184",
   "metadata": {},
   "outputs": [
    {
     "data": {
      "text/html": [
       "<div>\n",
       "<style scoped>\n",
       "    .dataframe tbody tr th:only-of-type {\n",
       "        vertical-align: middle;\n",
       "    }\n",
       "\n",
       "    .dataframe tbody tr th {\n",
       "        vertical-align: top;\n",
       "    }\n",
       "\n",
       "    .dataframe thead th {\n",
       "        text-align: right;\n",
       "    }\n",
       "</style>\n",
       "<table border=\"1\" class=\"dataframe\">\n",
       "  <thead>\n",
       "    <tr style=\"text-align: right;\">\n",
       "      <th></th>\n",
       "      <th>Tageszeit(h)</th>\n",
       "      <th>Distanz</th>\n",
       "      <th>Count</th>\n",
       "    </tr>\n",
       "  </thead>\n",
       "  <tbody>\n",
       "    <tr>\n",
       "      <th>count</th>\n",
       "      <td>277027.000000</td>\n",
       "      <td>277027.000000</td>\n",
       "      <td>277027.000000</td>\n",
       "    </tr>\n",
       "    <tr>\n",
       "      <th>mean</th>\n",
       "      <td>13.083367</td>\n",
       "      <td>2.507579</td>\n",
       "      <td>13.711064</td>\n",
       "    </tr>\n",
       "    <tr>\n",
       "      <th>std</th>\n",
       "      <td>4.038406</td>\n",
       "      <td>8.966342</td>\n",
       "      <td>56.449062</td>\n",
       "    </tr>\n",
       "    <tr>\n",
       "      <th>min</th>\n",
       "      <td>0.000000</td>\n",
       "      <td>0.000000</td>\n",
       "      <td>5.000000</td>\n",
       "    </tr>\n",
       "    <tr>\n",
       "      <th>25%</th>\n",
       "      <td>10.000000</td>\n",
       "      <td>1.000000</td>\n",
       "      <td>10.000000</td>\n",
       "    </tr>\n",
       "    <tr>\n",
       "      <th>50%</th>\n",
       "      <td>13.000000</td>\n",
       "      <td>2.000000</td>\n",
       "      <td>10.000000</td>\n",
       "    </tr>\n",
       "    <tr>\n",
       "      <th>75%</th>\n",
       "      <td>16.000000</td>\n",
       "      <td>4.000000</td>\n",
       "      <td>15.000000</td>\n",
       "    </tr>\n",
       "    <tr>\n",
       "      <th>max</th>\n",
       "      <td>23.000000</td>\n",
       "      <td>3000.000000</td>\n",
       "      <td>25000.000000</td>\n",
       "    </tr>\n",
       "  </tbody>\n",
       "</table>\n",
       "</div>"
      ],
      "text/plain": [
       "        Tageszeit(h)        Distanz          Count\n",
       "count  277027.000000  277027.000000  277027.000000\n",
       "mean       13.083367       2.507579      13.711064\n",
       "std         4.038406       8.966342      56.449062\n",
       "min         0.000000       0.000000       5.000000\n",
       "25%        10.000000       1.000000      10.000000\n",
       "50%        13.000000       2.000000      10.000000\n",
       "75%        16.000000       4.000000      15.000000\n",
       "max        23.000000    3000.000000   25000.000000"
      ]
     },
     "execution_count": 7,
     "metadata": {},
     "output_type": "execute_result"
    }
   ],
   "source": [
    "# Here we display the different values of the dispersion parameters on the numerical columns.\n",
    "data.describe()"
   ]
  },
  {
   "cell_type": "code",
   "execution_count": 8,
   "id": "4abd4211-5806-40a9-ab4d-a193879e2d5b",
   "metadata": {},
   "outputs": [
    {
     "data": {
      "text/html": [
       "<div>\n",
       "<style scoped>\n",
       "    .dataframe tbody tr th:only-of-type {\n",
       "        vertical-align: middle;\n",
       "    }\n",
       "\n",
       "    .dataframe tbody tr th {\n",
       "        vertical-align: top;\n",
       "    }\n",
       "\n",
       "    .dataframe thead th {\n",
       "        text-align: right;\n",
       "    }\n",
       "</style>\n",
       "<table border=\"1\" class=\"dataframe\">\n",
       "  <thead>\n",
       "    <tr style=\"text-align: right;\">\n",
       "      <th></th>\n",
       "      <th>Tageszeit(h)</th>\n",
       "      <th>Distanz</th>\n",
       "      <th>Count</th>\n",
       "    </tr>\n",
       "  </thead>\n",
       "  <tbody>\n",
       "    <tr>\n",
       "      <th>median</th>\n",
       "      <td>13.000000</td>\n",
       "      <td>2.000000</td>\n",
       "      <td>10.000000</td>\n",
       "    </tr>\n",
       "    <tr>\n",
       "      <th>kurt</th>\n",
       "      <td>-0.545168</td>\n",
       "      <td>91831.602688</td>\n",
       "      <td>145858.186619</td>\n",
       "    </tr>\n",
       "    <tr>\n",
       "      <th>var</th>\n",
       "      <td>16.308721</td>\n",
       "      <td>80.395287</td>\n",
       "      <td>3186.496609</td>\n",
       "    </tr>\n",
       "    <tr>\n",
       "      <th>skew</th>\n",
       "      <td>-0.095427</td>\n",
       "      <td>284.665298</td>\n",
       "      <td>355.541939</td>\n",
       "    </tr>\n",
       "  </tbody>\n",
       "</table>\n",
       "</div>"
      ],
      "text/plain": [
       "        Tageszeit(h)       Distanz          Count\n",
       "median     13.000000      2.000000      10.000000\n",
       "kurt       -0.545168  91831.602688  145858.186619\n",
       "var        16.308721     80.395287    3186.496609\n",
       "skew       -0.095427    284.665298     355.541939"
      ]
     },
     "execution_count": 8,
     "metadata": {},
     "output_type": "execute_result"
    }
   ],
   "source": [
    "#Essential key figures plus suitable selection \n",
    "metricAttributes = ['Tageszeit(h)','Distanz','Count']\n",
    "param_stat = data[metricAttributes].agg([ 'median', 'kurt','var','skew'])\n",
    "\n",
    "param_stat"
   ]
  },
  {
   "cell_type": "markdown",
   "id": "a78bde58-7ad3-4a61-aa47-c0685b02cb36",
   "metadata": {},
   "source": [
    "### for Tageszeit\n",
    "The distribution of hours is almost uniform, with a slight concentration around midday (mean and median close to 1 pm).\n",
    "\n",
    "### for Distanz\n",
    "The majority of distances are small (≤ 4), but there are exceptionally high distances (outliers) that strongly influence the mean and metrics such as skewness.\n",
    "\n",
    "### for count\n",
    "Most values are close to 10 (median and quartiles). However, extremely high values (e.g. 25,000) distort the mean and considerably increase dispersion."
   ]
  },
  {
   "cell_type": "markdown",
   "id": "41e8ccf6-3c0a-4e5a-8122-bcf1b6e6bcd4",
   "metadata": {},
   "source": [
    "**Create a histogram for the \"Tageszeit(h)\" . Here you should also insert Q1, median and Q3. since this column makes ‘small steps’ in the numbers, it is advisable to adjust the x-ticks. a tip: the bins then result from the maximum value of the histogram divided by the number of ticks for a nice histogram.**"
   ]
  },
  {
   "cell_type": "code",
   "execution_count": 9,
   "id": "ebef1353-aebb-4287-ae65-63d9e904b02d",
   "metadata": {},
   "outputs": [
    {
     "data": {
      "image/png": "[encoded data removed]",
      "text/plain": [
       "<Figure size 640x480 with 1 Axes>"
      ]
     },
     "metadata": {},
     "output_type": "display_data"
    }
   ],
   "source": [
    "ax = data[\"Tageszeit(h)\"].plot.hist(edgecolor='black', bins=15, range=(0,30))\n",
    "# Set the X-axis ticks in steps of 2\n",
    "ax.set_xticks(np.arange(0, 31, 2))\n",
    "\n",
    "# calculation of the quantiles\n",
    "q1 = data[\"Tageszeit(h)\"].quantile(0.25)\n",
    "median = data[\"Tageszeit(h)\"].median()\n",
    "q3 = data[\"Tageszeit(h)\"].quantile(0.75)\n",
    "\n",
    "# Inserting the lines for Q1, median and Q3\n",
    "plt.axvline(q1, color='red', linestyle='dashed', linewidth=1)\n",
    "plt.axvline(median, color='green', linestyle='dashed', linewidth=1)\n",
    "plt.axvline(q3, color='blue', linestyle='dashed', linewidth=1)\n",
    "\n",
    "# Labelling of the lines\n",
    "plt.text(q1, plt.ylim()[1]*0.9, 'Q1', color='red', ha='right')\n",
    "plt.text(median, plt.ylim()[1]*0.8, 'Median', color='green', ha='right')    # the *0.8 sets \"median\" a bit more low\n",
    "plt.text(q3, plt.ylim()[1]*0.9, 'Q3', color='blue', ha='right')\n",
    "\n",
    "plt.show()"
   ]
  },
  {
   "cell_type": "code",
   "execution_count": 10,
   "id": "1d05f9c8-a035-4b9f-b22b-7f0d593ebecb",
   "metadata": {},
   "outputs": [
    {
     "data": {
      "image/png": "[encoded data removed]",
      "text/plain": [
       "<Figure size 900x600 with 1 Axes>"
      ]
     },
     "metadata": {},
     "output_type": "display_data"
    }
   ],
   "source": [
    "vel_arr = data['Tageszeit(h)']\n",
    "fig = plt.figure(1, figsize = (9, 6))\n",
    "ax = fig.add_subplot()\n",
    "\n",
    "ax.boxplot(vel_arr, vert = False)\n",
    "ax.set_xlabel('Tageszeit(h)')\n",
    "\n",
    "quantiles = np.quantile(vel_arr, np.array([0.00, 0.25, 0.50, 0.75, 1.00]))\n",
    "\n",
    "ax.set_xticks(quantiles)\n",
    "plt.show()"
   ]
  },
  {
   "cell_type": "code",
   "execution_count": 11,
   "id": "5efc1fae-db28-480c-907b-789b2cb60d80",
   "metadata": {},
   "outputs": [
    {
     "data": {
      "image/png": "[encoded data removed]",
      "text/plain": [
       "<Figure size 640x480 with 1 Axes>"
      ]
     },
     "metadata": {},
     "output_type": "display_data"
    }
   ],
   "source": [
    "# Same for Count\n",
    "ax = data[\"Count\"].plot.hist(edgecolor='black', bins=15, range=(0,30))\n",
    "# Set the X-axis ticks in steps of 2\n",
    "ax.set_xticks(np.arange(0, 31, 2))\n",
    "\n",
    "# calculation of the quantiles\n",
    "q1 = data[\"Count\"].quantile(0.25)\n",
    "median = data[\"Count\"].median()\n",
    "q3 = data[\"Count\"].quantile(0.75)\n",
    "\n",
    "# Inserting the lines for Q1, median and Q3\n",
    "plt.axvline(q1, color='red', linestyle='dashed', linewidth=1)\n",
    "plt.axvline(median, color='green', linestyle='dashed', linewidth=1)\n",
    "plt.axvline(q3, color='blue', linestyle='dashed', linewidth=1)\n",
    "\n",
    "# Labelling of the lines\n",
    "plt.text(q1, plt.ylim()[1]*0.9, 'Q1', color='red', ha='right')\n",
    "plt.text(median, plt.ylim()[1]*0.8, 'Median', color='green', ha='right')    # the *0.8 sets \"median\" a bit more low\n",
    "plt.text(q3, plt.ylim()[1]*0.9, 'Q3', color='blue', ha='right')\n",
    "\n",
    "plt.show()"
   ]
  },
  {
   "cell_type": "code",
   "execution_count": 12,
   "id": "5b08338e-57af-46bc-815c-e0ddf194b138",
   "metadata": {},
   "outputs": [
    {
     "data": {
      "image/png": "[encoded data removed]",
      "text/plain": [
       "<Figure size 900x600 with 1 Axes>"
      ]
     },
     "metadata": {},
     "output_type": "display_data"
    }
   ],
   "source": [
    "vel_arr = data['Count']\n",
    "fig = plt.figure(1, figsize = (9, 6))\n",
    "ax = fig.add_subplot()\n",
    "\n",
    "ax.boxplot(vel_arr, vert = False)\n",
    "ax.set_xlabel('Count')\n",
    "\n",
    "quantiles = np.quantile(vel_arr, np.array([0.00, 0.25, 0.50, 0.75, 1.00]))\n",
    "\n",
    "ax.set_xticks(quantiles)\n",
    "plt.show()"
   ]
  },
  {
   "cell_type": "markdown",
   "id": "8035a57e-88c2-42d3-bd01-2330938ce064",
   "metadata": {},
   "source": [
    "As we can see from the histogram table and the following boxplot, the count data are often outliers, whereas the hours data are uniform."
   ]
  },
  {
   "cell_type": "markdown",
   "id": "a8f5ae9d-70b6-4e42-801b-56dcf3019418",
   "metadata": {},
   "source": [
    "### Let's take a look at the correlation between the different collones. "
   ]
  },
  {
   "cell_type": "code",
   "execution_count": 13,
   "id": "ca24ea4a-8a56-4837-9840-1f952016bd29",
   "metadata": {},
   "outputs": [
    {
     "data": {
      "text/html": [
       "<div>\n",
       "<style scoped>\n",
       "    .dataframe tbody tr th:only-of-type {\n",
       "        vertical-align: middle;\n",
       "    }\n",
       "\n",
       "    .dataframe tbody tr th {\n",
       "        vertical-align: top;\n",
       "    }\n",
       "\n",
       "    .dataframe thead th {\n",
       "        text-align: right;\n",
       "    }\n",
       "</style>\n",
       "<table border=\"1\" class=\"dataframe\">\n",
       "  <thead>\n",
       "    <tr style=\"text-align: right;\">\n",
       "      <th></th>\n",
       "      <th>Tageszeit(h)</th>\n",
       "      <th>Distanz</th>\n",
       "      <th>Count</th>\n",
       "    </tr>\n",
       "  </thead>\n",
       "  <tbody>\n",
       "    <tr>\n",
       "      <th>Tageszeit(h)</th>\n",
       "      <td>1.000000</td>\n",
       "      <td>-0.011344</td>\n",
       "      <td>0.001909</td>\n",
       "    </tr>\n",
       "    <tr>\n",
       "      <th>Distanz</th>\n",
       "      <td>-0.011344</td>\n",
       "      <td>1.000000</td>\n",
       "      <td>-0.009780</td>\n",
       "    </tr>\n",
       "    <tr>\n",
       "      <th>Count</th>\n",
       "      <td>0.001909</td>\n",
       "      <td>-0.009780</td>\n",
       "      <td>1.000000</td>\n",
       "    </tr>\n",
       "  </tbody>\n",
       "</table>\n",
       "</div>"
      ],
      "text/plain": [
       "              Tageszeit(h)   Distanz     Count\n",
       "Tageszeit(h)      1.000000 -0.011344  0.001909\n",
       "Distanz          -0.011344  1.000000 -0.009780\n",
       "Count             0.001909 -0.009780  1.000000"
      ]
     },
     "execution_count": 13,
     "metadata": {},
     "output_type": "execute_result"
    }
   ],
   "source": [
    "# we calculate the linear correlation coefficients between the attributes \n",
    "# to see if there is depenndence of evolution between the different attributes.\n",
    "\n",
    "dfCorr = data.corr(numeric_only= True)\n",
    "dfCorr"
   ]
  },
  {
   "cell_type": "markdown",
   "id": "539d4f49-e2b5-45b2-9841-fa570aeca732",
   "metadata": {},
   "source": [
    "The correlation coefficients between all pairs of variables are close to 0, meaning that there is no strong linear relationship between them. This does not mean that there is no relationship between them, but that : The relationships could be non-linear."
   ]
  },
  {
   "cell_type": "code",
   "execution_count": 14,
   "id": "21ef9455-65df-4185-abe7-d866432e793c",
   "metadata": {},
   "outputs": [
    {
     "data": {
      "text/plain": [
       "<Axes: >"
      ]
     },
     "execution_count": 14,
     "metadata": {},
     "output_type": "execute_result"
    },
    {
     "data": {
      "image/png": "[encoded data removed]",
      "text/plain": [
       "<Figure size 640x480 with 2 Axes>"
      ]
     },
     "metadata": {},
     "output_type": "display_data"
    }
   ],
   "source": [
    "#Let's make a heat map of a correlation matrix to better see the correlations. \n",
    "#The data parameter must be given to the correlation table.\n",
    "\n",
    "sn.heatmap(data = dfCorr, annot = True)"
   ]
  },
  {
   "cell_type": "code",
   "execution_count": 15,
   "id": "c36de2c5-92df-41b3-958c-47396e653bd2",
   "metadata": {},
   "outputs": [
    {
     "data": {
      "text/plain": [
       "<Axes: xlabel='Tageszeit(h)', ylabel='Count'>"
      ]
     },
     "execution_count": 15,
     "metadata": {},
     "output_type": "execute_result"
    },
    {
     "data": {
      "image/png": "[encoded data removed]",
      "text/plain": [
       "<Figure size 640x480 with 1 Axes>"
      ]
     },
     "metadata": {},
     "output_type": "display_data"
    }
   ],
   "source": [
    "#Draw scatter plots between pairs of variables to visually check for non-linear relationships \n",
    "data.plot.scatter(x='Tageszeit(h)',y='Count')"
   ]
  },
  {
   "cell_type": "code",
   "execution_count": 16,
   "id": "37913209-11d8-4c3d-a702-9c0f7e30adfe",
   "metadata": {},
   "outputs": [],
   "source": [
    "# We conclude that there is an evolutionary relationship between the Tageszeit(h) and the counter."
   ]
  },
  {
   "cell_type": "code",
   "execution_count": 17,
   "id": "d66e93ca-6a72-405e-bfd8-0b28435aa7bd",
   "metadata": {},
   "outputs": [
    {
     "data": {
      "text/plain": [
       "<seaborn.axisgrid.PairGrid at 0x7fcb5a017650>"
      ]
     },
     "execution_count": 17,
     "metadata": {},
     "output_type": "execute_result"
    },
    {
     "data": {
      "image/png": "[encoded data removed]",
      "text/plain": [
       "<Figure size 750x750 with 12 Axes>"
      ]
     },
     "metadata": {},
     "output_type": "display_data"
    }
   ],
   "source": [
    "sn.pairplot(data = data[[\"Tageszeit(h)\", \"Count\", \"Distanz\"]])"
   ]
  },
  {
   "cell_type": "markdown",
   "id": "523b820d-d613-40be-84a0-f00339f7cabd",
   "metadata": {},
   "source": [
    "Resume:\n",
    "\n",
    "The aim of this exercise was to prepare and transform a dataset in such a way as to make it ready for in-depth analysis. Here's why this exercise is important:\n",
    "Understanding the data: The initial overview of the data provides a better understanding of its structure, nature and the types of values present, which is crucial in guiding future analysis."
   ]
  },
  {
   "cell_type": "code",
   "execution_count": null,
   "id": "8eb44e53-db21-401b-a2ca-0583597819d3",
   "metadata": {},
   "outputs": [],
   "source": []
  }
 ],
 "metadata": {
  "kernelspec": {
   "display_name": "Python 3 (ipykernel)",
   "language": "python",
   "name": "python3"
  },
  "language_info": {
   "codemirror_mode": {
    "name": "ipython",
    "version": 3
   },
   "file_extension": ".py",
   "mimetype": "text/x-python",
   "name": "python",
   "nbconvert_exporter": "python",
   "pygments_lexer": "ipython3",
   "version": "3.11.9"
  }
 },
 "nbformat": 4,
 "nbformat_minor": 5
}
