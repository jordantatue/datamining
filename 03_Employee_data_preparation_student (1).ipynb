{
 "cells": [
  {
   "cell_type": "raw",
   "metadata": {
    "vscode": {
     "languageId": "raw"
    }
   },
   "source": [
    "---\n",
    "title: Data Mining Exercise 3 - data transformation\n",
    "exercise-number: 3\n",
    "other-links:\n",
    "  - text: Exercise 3 \n",
    "    href: \"../../../../_aufgaben/Aufgabenblaetter/3/03_Employee_data_preparation_student.pdf\"\n",
    "    icon: file-pdf\n",
    "code-links:\n",
    "  - text: Exercise 3 \n",
    "    href: \"../../../../_aufgaben/Aufgabenblaetter/3/03_Employee_data_preparation_student.ipynb\"\n",
    "    type: \"application/octet-stream\"\n",
    "    icon: file-code\n",
    "downloads: [ipynb]\n",
    "---"
   ]
  },
  {
   "cell_type": "markdown",
   "metadata": {},
   "source": [
    "# Exercise 3 - Data preparation and aggregation\n",
    "Imports the packages."
   ]
  },
  {
   "cell_type": "code",
   "execution_count": 1,
   "metadata": {},
   "outputs": [],
   "source": [
    "import pandas as pd\n",
    "import numpy as np\n",
    "\n",
    "import matplotlib.pyplot as plt\n",
    "from sklearn.preprocessing import MinMaxScaler"
   ]
  },
  {
   "cell_type": "markdown",
   "metadata": {},
   "source": [
    "Read in the data \"03_Employee_data.csv\" and display the data.\n",
    "In order for the formats to be imported correctly, the ANSI coding must be set with a semicolon as a separator.\n",
    "As the personnel number is somewhat long for the designation of a running index, it is abbreviated by the ID."
   ]
  },
  {
   "cell_type": "code",
   "execution_count": null,
   "metadata": {},
   "outputs": [],
   "source": [
    "df = pd.read_csv(\"XXX\", encoding = 'unicode_escape', sep = \";\", index_col = 'Personnel number')\n",
    "df.index.names = ['ID']\n",
    "\n"
   ]
  },
  {
   "cell_type": "markdown",
   "metadata": {},
   "source": [
    "## 3.1 Data cleansing\n",
    "\n",
    "**What is noticeable in the data?**\n",
    "\n",
    "Gaps and non-uniform characteristics of individual attributes can be seen.\n",
    "\n",
    "The following suitable cleansing steps should be carried out:\n",
    "1. delete the attribute place of residence\n",
    "2. standardize gender\n",
    "3. standardize annual salary in T€\n",
    "4. delete data record 12\n",
    "5. standardize length of service to years\n",
    "6. replace educational qualification with the most common value\n",
    "\n",
    "Carry out the steps and display the adjusted result."
   ]
  },
  {
   "cell_type": "code",
   "execution_count": null,
   "metadata": {},
   "outputs": [],
   "source": [
    "# space"
   ]
  },
  {
   "cell_type": "markdown",
   "metadata": {},
   "source": [
    "## 3.2 Data transformation 1: Discretization\n",
    "Now all numerical values are to be summarized in bins so that no more numerical data is available. To do this, first create a copy \"dfBins\" of the cleansed data frame. \n",
    "New characteristics: \n",
    "\n",
    "- Age in (young, old)\n",
    "- Annual salary in (little, much)\n",
    "- Period of employment in (short, long)\n",
    "\n",
    "The conversion of age already exists. Execute the others in the same way and display the result.\n"
   ]
  },
  {
   "cell_type": "code",
   "execution_count": null,
   "metadata": {},
   "outputs": [],
   "source": [
    "dfBins = df.copy()\n",
    "bin_labels_old = ['young', 'old']\n",
    "dfBins['Age'] = pd.cut(x = df['Age'],\n",
    "                              bins=[0, 40, 100],\n",
    "                              labels = bin_labels_alt)\n"
   ]
  },
  {
   "cell_type": "markdown",
   "metadata": {},
   "source": [
    "## 3.3 Data transformation 2: Numerical coding and norming\n",
    "All data should now be transformed into normed numerical values. Create a copy \"dfNumeric\" of the original cleansed data frame for this as well.\n",
    "1. replace the values of gender, position and education with numerical consecutive values (1,2,...). \n",
    "2. normalize values to the interval [0, 1]. The MinMaxScaler() that you imported above is used for this.\n",
    "\n",
    "Have the result displayed again."
   ]
  },
  {
   "cell_type": "code",
   "execution_count": null,
   "metadata": {},
   "outputs": [],
   "source": [
    "# space"
   ]
  },
  {
   "cell_type": "code",
   "execution_count": null,
   "metadata": {
    "scrolled": true
   },
   "outputs": [],
   "source": [
    "scaler = MinMaxScaler()\n",
    "\n",
    "dfNumeric = pd.DataFrame(scaler.fit_transform(dfNumeric), columns = dfNumeric.columns, index = dfNumeric.index)\n"
   ]
  },
  {
   "cell_type": "markdown",
   "metadata": {},
   "source": [
    "Use a suitable call to check whether the scaling was successful."
   ]
  },
  {
   "cell_type": "code",
   "execution_count": null,
   "metadata": {},
   "outputs": [],
   "source": [
    "# space"
   ]
  },
  {
   "cell_type": "markdown",
   "metadata": {},
   "source": [
    "## 3.4 Data transformation 3: Binary coding of the categories\n",
    "Now a binary coding (one-to-many) of the categorical variables is to be carried out on the cleansed data. We use a copy of \"dfBinaer\" for this. Norm the result as in step 2.3.\n"
   ]
  },
  {
   "cell_type": "code",
   "execution_count": null,
   "metadata": {},
   "outputs": [],
   "source": [
    "dfBinaer = df.copy()\n",
    "dfBinaer = pd.get_dummies(dfBinaer, prefix = '', prefix_sep = '')\n",
    "dfBinaer"
   ]
  },
  {
   "cell_type": "code",
   "execution_count": null,
   "metadata": {},
   "outputs": [],
   "source": [
    "# space"
   ]
  },
  {
   "cell_type": "markdown",
   "metadata": {},
   "source": [
    "Which of the two coding variants do you think is more suitable in this example?"
   ]
  },
  {
   "cell_type": "code",
   "execution_count": null,
   "metadata": {},
   "outputs": [],
   "source": [
    "# space"
   ]
  },
  {
   "cell_type": "markdown",
   "metadata": {},
   "source": [
    "## Additional exercise: Data transformation for order data"
   ]
  },
  {
   "cell_type": "markdown",
   "metadata": {},
   "source": [
    "first the necessary clean-up steps and preparations"
   ]
  },
  {
   "cell_type": "code",
   "execution_count": null,
   "metadata": {},
   "outputs": [],
   "source": [
    "df = pd.read_csv('../2/02_Order_data.csv')\n",
    "df['order_date'] = pd.to_datetime(df['order_date'])\n",
    "replacer_dict = {'Bl Tshirt F' : 'Black T-Shirt F', \n",
    "                 'Bl Tshirt M' : 'Black T-Shirt M',\n",
    "                 'Wh Tshirt F' : 'White T-Shirt F',\n",
    "                 'Wh Tshirt M' : 'White T-Shirt M'}\n",
    "\n",
    "df['tshirt_category'] = df['tshirt_category'].replace(to_replace = replacer_dict)\n",
    "df['total'] = df['tshirt_price'] * df['tshirt_quantity']\n",
    "df_sum = df.groupby(['tshirt_category']).sum(numeric_only = True)\n",
    "\n",
    "df_sum"
   ]
  },
  {
   "cell_type": "markdown",
   "metadata": {},
   "source": [
    "the column tshirt_category (in df, not df_sum) should be one-hot coded. just replace the variable x."
   ]
  },
  {
   "cell_type": "code",
   "execution_count": null,
   "metadata": {},
   "outputs": [],
   "source": [
    "df_one_hot = pd.get_dummies(df, columns=['tshirt_category'])#Here a copy of the original dataframe is created with the change\n",
    "\n",
    "df_one_hot.head()"
   ]
  },
  {
   "cell_type": "markdown",
   "metadata": {},
   "source": [
    "now try to bin the column total (in df_one_hot). if total is less than 150 it belongs to bin 1. between 150 and 300 to bin 2. above 300 to bin 3. replace the variables x,y,z and a,b,c with corresponding values."
   ]
  },
  {
   "cell_type": "code",
   "execution_count": null,
   "metadata": {},
   "outputs": [],
   "source": [
    "bins = [0, 150, 300, float('inf')]\n",
    "# define the Bin-Labels\n",
    "labels = [1, 2, 3]\n",
    "\n",
    "# Create a new column ‘bin’ containing the respective bin value\n",
    "df_one_hot['bin'] = pd.cut(df_one_hot['total'], bins=bins, labels=labels, right=False)\n",
    "\n",
    "df_one_hot.head(8)"
   ]
  },
  {
   "cell_type": "markdown",
   "metadata": {},
   "source": [
    "the values in the bin column should be renamed. the entry 1 should be replaced by ‘low revenue’, 2 should be replaced by ‘medium revenue’ and 3 should be replaced by ‘high revenue’."
   ]
  },
  {
   "cell_type": "code",
   "execution_count": null,
   "metadata": {},
   "outputs": [],
   "source": [
    "df_one_hot['bin'] = df_one_hot['bin'].replace({1: 'low revenue', 2: 'Medium revenue', 3: 'high revenue'})\n",
    "\n",
    "df_one_hot.head()"
   ]
  },
  {
   "cell_type": "markdown",
   "metadata": {},
   "source": [
    "the numerical column total should now be normalised once with the z-transformation and once with the min-max-scaler"
   ]
  },
  {
   "cell_type": "markdown",
   "metadata": {},
   "source": [
    "we first do a copy of the original dataframe. to calculate the z-transformed values, simply look at the formula and replace the variables a and b. "
   ]
  },
  {
   "cell_type": "code",
   "execution_count": null,
   "metadata": {},
   "outputs": [],
   "source": [
    "df_Z = df_one_hot.copy()\n",
    "\n",
    "df_Z['total_z'] = (df_Z['total'] - df_Z['total'].mean()) / df_Z['total'].std() # adding the new column total_z\n",
    "\n",
    "df_Z.head()"
   ]
  },
  {
   "cell_type": "markdown",
   "metadata": {},
   "source": [
    "now try the min-max-scaler. first we make a copy again. fortunately, the MinMax Scaler is a function in python"
   ]
  },
  {
   "cell_type": "code",
   "execution_count": null,
   "metadata": {},
   "outputs": [],
   "source": [
    "from sklearn.preprocessing import MinMaxScaler\n",
    "\n",
    "df_minMax = df_one_hot.copy()\n",
    "scaler = MinMaxScaler()\n",
    "\n",
    "# Apply min-max scaling to the ‘total’ column\n",
    "df_minMax['total_minmax'] = scaler.fit_transform(df_minMax[['total']]) # adding the new column total_minmax\n",
    "\n",
    "df_minMax.head()"
   ]
  }
 ],
 "metadata": {
  "kernelspec": {
   "display_name": "Python 3 (ipykernel)",
   "language": "python",
   "name": "python3"
  },
  "language_info": {
   "codemirror_mode": {
    "name": "ipython",
    "version": 3
   },
   "file_extension": ".py",
   "mimetype": "text/x-python",
   "name": "python",
   "nbconvert_exporter": "python",
   "pygments_lexer": "ipython3",
   "version": "3.11.9"
  }
 },
 "nbformat": 4,
 "nbformat_minor": 4
}
