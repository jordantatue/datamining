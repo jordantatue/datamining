{
 "cells": [
  {
   "cell_type": "raw",
   "metadata": {
    "vscode": {
     "languageId": "raw"
    }
   },
   "source": [
    "---\n",
    "title: Data Mining Exercise 1 - Analysis of the dataset\n",
    "exercise-number: 1\n",
    "other-links:\n",
    "  - text: Aufgabenblatt 1\n",
    "    href: \"../../../../_aufgaben/Aufgabenblaetter/1/01_Customer_data_analysis_student.pdf\"\n",
    "    icon: file-pdf\n",
    "code-links:\n",
    "  - text: Aufgabenblatt 1\n",
    "    href: \"../../../../_aufgaben/Aufgabenblaetter/1/01_Customer_data_analysis_student.ipynb\"\n",
    "    type: \"application/octet-stream\"\n",
    "    icon: file-code\n",
    "downloads: [ipynb]\n",
    "---"
   ]
  },
  {
   "cell_type": "code",
   "execution_count": 14,
   "metadata": {},
   "outputs": [],
   "source": [
    "import pandas as pd\n",
    "import numpy as np\n",
    "\n",
    "import matplotlib.pyplot as plt\n",
    "import seaborn as sn"
   ]
  },
  {
   "cell_type": "markdown",
   "metadata": {},
   "source": [
    "Read the file 01_Customerdata.csv into the df variable. This will create a Pandas dataframe.\n",
    "\n",
    "(df = pd.read_csv('FileName'))\n",
    "\n",
    "Display the first 10 rows of the dataframe."
   ]
  },
  {
   "cell_type": "code",
   "execution_count": 15,
   "metadata": {},
   "outputs": [
    {
     "data": {
      "text/html": [
       "<div>\n",
       "<style scoped>\n",
       "    .dataframe tbody tr th:only-of-type {\n",
       "        vertical-align: middle;\n",
       "    }\n",
       "\n",
       "    .dataframe tbody tr th {\n",
       "        vertical-align: top;\n",
       "    }\n",
       "\n",
       "    .dataframe thead th {\n",
       "        text-align: right;\n",
       "    }\n",
       "</style>\n",
       "<table border=\"1\" class=\"dataframe\">\n",
       "  <thead>\n",
       "    <tr style=\"text-align: right;\">\n",
       "      <th></th>\n",
       "      <th>Bucket</th>\n",
       "      <th>StartName</th>\n",
       "      <th>EndName</th>\n",
       "      <th>Wochentag(d)</th>\n",
       "      <th>Tageszeit(h)</th>\n",
       "      <th>Schulferien</th>\n",
       "      <th>Distanz</th>\n",
       "      <th>Count</th>\n",
       "    </tr>\n",
       "  </thead>\n",
       "  <tbody>\n",
       "    <tr>\n",
       "      <th>0</th>\n",
       "      <td>2021-03</td>\n",
       "      <td>Hunedoara(71171 - 03254026000002)</td>\n",
       "      <td>Hunedoara(71171 - 03254026000007)</td>\n",
       "      <td>Di</td>\n",
       "      <td>7</td>\n",
       "      <td>Keine Ferien</td>\n",
       "      <td>3</td>\n",
       "      <td>15</td>\n",
       "    </tr>\n",
       "    <tr>\n",
       "      <th>1</th>\n",
       "      <td>2021-03</td>\n",
       "      <td>Turda(80982 - 03241013050002)</td>\n",
       "      <td>Turda(80982 - 03241013050008)</td>\n",
       "      <td>Mi</td>\n",
       "      <td>17</td>\n",
       "      <td>Keine Ferien</td>\n",
       "      <td>0</td>\n",
       "      <td>10</td>\n",
       "    </tr>\n",
       "    <tr>\n",
       "      <th>2</th>\n",
       "      <td>2021-03</td>\n",
       "      <td>Turda(80982 - 03241013050007)</td>\n",
       "      <td>Turda(80982 - 03241013030001)</td>\n",
       "      <td>Sa</td>\n",
       "      <td>11</td>\n",
       "      <td>Keine Ferien</td>\n",
       "      <td>3</td>\n",
       "      <td>10</td>\n",
       "    </tr>\n",
       "    <tr>\n",
       "      <th>3</th>\n",
       "      <td>2021-03</td>\n",
       "      <td>Bran(91157 - 03254028001012)</td>\n",
       "      <td>Bran(91157 - 03254028001004)</td>\n",
       "      <td>Fr</td>\n",
       "      <td>13</td>\n",
       "      <td>Keine Ferien</td>\n",
       "      <td>0</td>\n",
       "      <td>15</td>\n",
       "    </tr>\n",
       "    <tr>\n",
       "      <th>4</th>\n",
       "      <td>2021-03</td>\n",
       "      <td>Bran(91157 - 03254028001003)</td>\n",
       "      <td>Turda(80982 - 03241013070001)</td>\n",
       "      <td>Fr</td>\n",
       "      <td>18</td>\n",
       "      <td>Keine Ferien</td>\n",
       "      <td>7</td>\n",
       "      <td>10</td>\n",
       "    </tr>\n",
       "    <tr>\n",
       "      <th>5</th>\n",
       "      <td>2021-03</td>\n",
       "      <td>Bran(91157 - 03254028001008)</td>\n",
       "      <td>Bran(91157 - 03254028001013)</td>\n",
       "      <td>So/Fe</td>\n",
       "      <td>14</td>\n",
       "      <td>Keine Ferien</td>\n",
       "      <td>0</td>\n",
       "      <td>30</td>\n",
       "    </tr>\n",
       "    <tr>\n",
       "      <th>6</th>\n",
       "      <td>2021-03</td>\n",
       "      <td>Hunedoara(71171 - 03254026000001)</td>\n",
       "      <td>Turda(80982 - 03241013050002)</td>\n",
       "      <td>Sa</td>\n",
       "      <td>9</td>\n",
       "      <td>Keine Ferien</td>\n",
       "      <td>7</td>\n",
       "      <td>10</td>\n",
       "    </tr>\n",
       "    <tr>\n",
       "      <th>7</th>\n",
       "      <td>2021-03</td>\n",
       "      <td>Hunedoara(71171 - 03254026000004)</td>\n",
       "      <td>Hunedoara(71171 - 03254026000003)</td>\n",
       "      <td>Mo</td>\n",
       "      <td>6</td>\n",
       "      <td>Keine Ferien</td>\n",
       "      <td>6</td>\n",
       "      <td>10</td>\n",
       "    </tr>\n",
       "    <tr>\n",
       "      <th>8</th>\n",
       "      <td>2021-03</td>\n",
       "      <td>Hunedoara(71171 - 03254026000015)</td>\n",
       "      <td>Turda(80982 - 03241013070001)</td>\n",
       "      <td>Fr</td>\n",
       "      <td>11</td>\n",
       "      <td>Keine Ferien</td>\n",
       "      <td>4</td>\n",
       "      <td>10</td>\n",
       "    </tr>\n",
       "    <tr>\n",
       "      <th>9</th>\n",
       "      <td>2021-03</td>\n",
       "      <td>Bran(91157 - 03254028001003)</td>\n",
       "      <td>Hunedoara(71171 - 03254026000004)</td>\n",
       "      <td>Mo</td>\n",
       "      <td>19</td>\n",
       "      <td>Keine Ferien</td>\n",
       "      <td>7</td>\n",
       "      <td>10</td>\n",
       "    </tr>\n",
       "  </tbody>\n",
       "</table>\n",
       "</div>"
      ],
      "text/plain": [
       "    Bucket                          StartName  \\\n",
       "0  2021-03  Hunedoara(71171 - 03254026000002)   \n",
       "1  2021-03      Turda(80982 - 03241013050002)   \n",
       "2  2021-03      Turda(80982 - 03241013050007)   \n",
       "3  2021-03       Bran(91157 - 03254028001012)   \n",
       "4  2021-03       Bran(91157 - 03254028001003)   \n",
       "5  2021-03       Bran(91157 - 03254028001008)   \n",
       "6  2021-03  Hunedoara(71171 - 03254026000001)   \n",
       "7  2021-03  Hunedoara(71171 - 03254026000004)   \n",
       "8  2021-03  Hunedoara(71171 - 03254026000015)   \n",
       "9  2021-03       Bran(91157 - 03254028001003)   \n",
       "\n",
       "                             EndName Wochentag(d)  Tageszeit(h)   Schulferien  \\\n",
       "0  Hunedoara(71171 - 03254026000007)           Di             7  Keine Ferien   \n",
       "1      Turda(80982 - 03241013050008)           Mi            17  Keine Ferien   \n",
       "2      Turda(80982 - 03241013030001)           Sa            11  Keine Ferien   \n",
       "3       Bran(91157 - 03254028001004)           Fr            13  Keine Ferien   \n",
       "4      Turda(80982 - 03241013070001)           Fr            18  Keine Ferien   \n",
       "5       Bran(91157 - 03254028001013)        So/Fe            14  Keine Ferien   \n",
       "6      Turda(80982 - 03241013050002)           Sa             9  Keine Ferien   \n",
       "7  Hunedoara(71171 - 03254026000003)           Mo             6  Keine Ferien   \n",
       "8      Turda(80982 - 03241013070001)           Fr            11  Keine Ferien   \n",
       "9  Hunedoara(71171 - 03254026000004)           Mo            19  Keine Ferien   \n",
       "\n",
       "   Distanz  Count  \n",
       "0        3     15  \n",
       "1        0     10  \n",
       "2        3     10  \n",
       "3        0     15  \n",
       "4        7     10  \n",
       "5        0     30  \n",
       "6        7     10  \n",
       "7        6     10  \n",
       "8        4     10  \n",
       "9        7     10  "
      ]
     },
     "execution_count": 15,
     "metadata": {},
     "output_type": "execute_result"
    }
   ],
   "source": [
    "df = pd.read_csv('Trips_ROP_transformed_2021_Q1.csv')\n",
    "df.head(10)"
   ]
  },
  {
   "cell_type": "markdown",
   "metadata": {},
   "source": [
    "## 1.1 Categorization of attributes\n",
    "\n",
    "\n",
    "If the header is read correctly, now classify the attributes into the following categories:\n",
    "\n",
    "**Nominal Attributes**\n",
    "\n",
    "StartName\n",
    "EndName\n",
    "Schulferien\n",
    "\n",
    "\n",
    "**Ordinal Attributes**\n",
    "Wochentag(d)\n",
    "\n",
    "**Metric continuous Attributes**\n",
    "\n",
    "\n",
    "**Metric discrete Attributes**\n",
    "Tageszeit(h)\n",
    "Distanz\n",
    "Count\n",
    "Bucket (potentiellement)"
   ]
  },
  {
   "cell_type": "markdown",
   "metadata": {},
   "source": [
    "## 1.2 Statistical parameters\n",
    "\n",
    "First, calculate key statistical measures of the numeric columns using the describe() function."
   ]
  },
  {
   "cell_type": "code",
   "execution_count": 16,
   "metadata": {},
   "outputs": [
    {
     "data": {
      "text/html": [
       "<div>\n",
       "<style scoped>\n",
       "    .dataframe tbody tr th:only-of-type {\n",
       "        vertical-align: middle;\n",
       "    }\n",
       "\n",
       "    .dataframe tbody tr th {\n",
       "        vertical-align: top;\n",
       "    }\n",
       "\n",
       "    .dataframe thead th {\n",
       "        text-align: right;\n",
       "    }\n",
       "</style>\n",
       "<table border=\"1\" class=\"dataframe\">\n",
       "  <thead>\n",
       "    <tr style=\"text-align: right;\">\n",
       "      <th></th>\n",
       "      <th>Tageszeit(h)</th>\n",
       "      <th>Distanz</th>\n",
       "      <th>Count</th>\n",
       "    </tr>\n",
       "  </thead>\n",
       "  <tbody>\n",
       "    <tr>\n",
       "      <th>count</th>\n",
       "      <td>130843.000000</td>\n",
       "      <td>130843.000000</td>\n",
       "      <td>130843.000000</td>\n",
       "    </tr>\n",
       "    <tr>\n",
       "      <th>mean</th>\n",
       "      <td>13.122888</td>\n",
       "      <td>2.514953</td>\n",
       "      <td>13.567176</td>\n",
       "    </tr>\n",
       "    <tr>\n",
       "      <th>std</th>\n",
       "      <td>4.005845</td>\n",
       "      <td>12.838041</td>\n",
       "      <td>11.185673</td>\n",
       "    </tr>\n",
       "    <tr>\n",
       "      <th>min</th>\n",
       "      <td>0.000000</td>\n",
       "      <td>0.000000</td>\n",
       "      <td>5.000000</td>\n",
       "    </tr>\n",
       "    <tr>\n",
       "      <th>25%</th>\n",
       "      <td>10.000000</td>\n",
       "      <td>1.000000</td>\n",
       "      <td>10.000000</td>\n",
       "    </tr>\n",
       "    <tr>\n",
       "      <th>50%</th>\n",
       "      <td>13.000000</td>\n",
       "      <td>2.000000</td>\n",
       "      <td>10.000000</td>\n",
       "    </tr>\n",
       "    <tr>\n",
       "      <th>75%</th>\n",
       "      <td>16.000000</td>\n",
       "      <td>4.000000</td>\n",
       "      <td>15.000000</td>\n",
       "    </tr>\n",
       "    <tr>\n",
       "      <th>max</th>\n",
       "      <td>23.000000</td>\n",
       "      <td>3000.000000</td>\n",
       "      <td>165.000000</td>\n",
       "    </tr>\n",
       "  </tbody>\n",
       "</table>\n",
       "</div>"
      ],
      "text/plain": [
       "        Tageszeit(h)        Distanz          Count\n",
       "count  130843.000000  130843.000000  130843.000000\n",
       "mean       13.122888       2.514953      13.567176\n",
       "std         4.005845      12.838041      11.185673\n",
       "min         0.000000       0.000000       5.000000\n",
       "25%        10.000000       1.000000      10.000000\n",
       "50%        13.000000       2.000000      10.000000\n",
       "75%        16.000000       4.000000      15.000000\n",
       "max        23.000000    3000.000000     165.000000"
      ]
     },
     "execution_count": 16,
     "metadata": {},
     "output_type": "execute_result"
    }
   ],
   "source": [
    "df.describe()"
   ]
  },
  {
   "cell_type": "markdown",
   "metadata": {},
   "source": [
    "Now display the variance of the columns."
   ]
  },
  {
   "cell_type": "code",
   "execution_count": 17,
   "metadata": {},
   "outputs": [
    {
     "data": {
      "text/plain": [
       "Tageszeit(h)     16.046798\n",
       "Distanz         164.815300\n",
       "Count           125.119276\n",
       "dtype: float64"
      ]
     },
     "execution_count": 17,
     "metadata": {},
     "output_type": "execute_result"
    }
   ],
   "source": [
    "df.var(numeric_only=True)"
   ]
  },
  {
   "cell_type": "markdown",
   "metadata": {},
   "source": [
    "The following code creates a new variable param, which contains the essential measures plus variance and skewness. Try to understand the code and find the individual commands in the CheatSheet. Add a line for the median."
   ]
  },
  {
   "cell_type": "code",
   "execution_count": 20,
   "metadata": {},
   "outputs": [
    {
     "data": {
      "text/html": [
       "<div>\n",
       "<style scoped>\n",
       "    .dataframe tbody tr th:only-of-type {\n",
       "        vertical-align: middle;\n",
       "    }\n",
       "\n",
       "    .dataframe tbody tr th {\n",
       "        vertical-align: top;\n",
       "    }\n",
       "\n",
       "    .dataframe thead th {\n",
       "        text-align: right;\n",
       "    }\n",
       "</style>\n",
       "<table border=\"1\" class=\"dataframe\">\n",
       "  <thead>\n",
       "    <tr style=\"text-align: right;\">\n",
       "      <th></th>\n",
       "      <th>Tageszeit(h)</th>\n",
       "      <th>Distanz</th>\n",
       "      <th>Count</th>\n",
       "    </tr>\n",
       "  </thead>\n",
       "  <tbody>\n",
       "    <tr>\n",
       "      <th>count</th>\n",
       "      <td>130843.000000</td>\n",
       "      <td>130843.000000</td>\n",
       "      <td>130843.000000</td>\n",
       "    </tr>\n",
       "    <tr>\n",
       "      <th>mean</th>\n",
       "      <td>13.122888</td>\n",
       "      <td>2.514953</td>\n",
       "      <td>13.567176</td>\n",
       "    </tr>\n",
       "    <tr>\n",
       "      <th>std</th>\n",
       "      <td>4.005845</td>\n",
       "      <td>12.838041</td>\n",
       "      <td>11.185673</td>\n",
       "    </tr>\n",
       "    <tr>\n",
       "      <th>min</th>\n",
       "      <td>0.000000</td>\n",
       "      <td>0.000000</td>\n",
       "      <td>5.000000</td>\n",
       "    </tr>\n",
       "    <tr>\n",
       "      <th>25%</th>\n",
       "      <td>10.000000</td>\n",
       "      <td>1.000000</td>\n",
       "      <td>10.000000</td>\n",
       "    </tr>\n",
       "    <tr>\n",
       "      <th>50%</th>\n",
       "      <td>13.000000</td>\n",
       "      <td>2.000000</td>\n",
       "      <td>10.000000</td>\n",
       "    </tr>\n",
       "    <tr>\n",
       "      <th>75%</th>\n",
       "      <td>16.000000</td>\n",
       "      <td>4.000000</td>\n",
       "      <td>15.000000</td>\n",
       "    </tr>\n",
       "    <tr>\n",
       "      <th>max</th>\n",
       "      <td>23.000000</td>\n",
       "      <td>3000.000000</td>\n",
       "      <td>165.000000</td>\n",
       "    </tr>\n",
       "    <tr>\n",
       "      <th>var</th>\n",
       "      <td>16.046798</td>\n",
       "      <td>164.815300</td>\n",
       "      <td>125.119276</td>\n",
       "    </tr>\n",
       "    <tr>\n",
       "      <th>skew</th>\n",
       "      <td>-0.119732</td>\n",
       "      <td>205.325118</td>\n",
       "      <td>3.922665</td>\n",
       "    </tr>\n",
       "  </tbody>\n",
       "</table>\n",
       "</div>"
      ],
      "text/plain": [
       "        Tageszeit(h)        Distanz          Count\n",
       "count  130843.000000  130843.000000  130843.000000\n",
       "mean       13.122888       2.514953      13.567176\n",
       "std         4.005845      12.838041      11.185673\n",
       "min         0.000000       0.000000       5.000000\n",
       "25%        10.000000       1.000000      10.000000\n",
       "50%        13.000000       2.000000      10.000000\n",
       "75%        16.000000       4.000000      15.000000\n",
       "max        23.000000    3000.000000     165.000000\n",
       "var        16.046798     164.815300     125.119276\n",
       "skew       -0.119732     205.325118       3.922665"
      ]
     },
     "execution_count": 20,
     "metadata": {},
     "output_type": "execute_result"
    }
   ],
   "source": [
    "param = df.describe()\n",
    "metricAttributes = ['Tageszeit(h)','Distanz','Count']\n",
    "param.loc['var',:] = df[metricAttributes].var()\n",
    "param.loc['skew',:] = df[metricAttributes].skew()\n",
    "param.loc['median',:] = df[metricAttributes].median()\n",
    "param.head(10)"
   ]
  },
  {
   "cell_type": "markdown",
   "metadata": {},
   "source": [
    "## 1.3 Histogram\n",
    "\n",
    "Create a (pandas) histogram for the \"age_first_order\" column.\n",
    "\n",
    "Attention: \"Missing values\" have not been considered here and may be relevant for further analysis."
   ]
  },
  {
   "cell_type": "code",
   "execution_count": 33,
   "metadata": {
    "scrolled": true
   },
   "outputs": [
    {
     "data": {
      "text/plain": [
       "<Axes: ylabel='Frequency'>"
      ]
     },
     "execution_count": 33,
     "metadata": {},
     "output_type": "execute_result"
    },
    {
     "data": {
      "image/png": "[encoded data removed]",
      "text/plain": [
       "<Figure size 640x480 with 1 Axes>"
      ]
     },
     "metadata": {},
     "output_type": "display_data"
    }
   ],
   "source": [
    "# Space for pandas histogram\n",
    "df[\"Tageszeit(h)\"].plot.hist()"
   ]
  },
  {
   "cell_type": "markdown",
   "metadata": {},
   "source": [
    "there is a more elegant solution. look at the parameters used for the histogram in the lecture. adjust them individually for this histogram. make sure that the bars are clearly recognisable with lines (parameter:edgecolor), that you choose the number of bins well (parameter: bins) and adjust the range (parameter: range)."
   ]
  },
  {
   "cell_type": "code",
   "execution_count": 35,
   "metadata": {},
   "outputs": [
    {
     "data": {
      "text/plain": [
       "<Axes: ylabel='Frequency'>"
      ]
     },
     "execution_count": 35,
     "metadata": {},
     "output_type": "execute_result"
    },
    {
     "data": {
      "image/png": "[encoded data removed]",
      "text/plain": [
       "<Figure size 640x480 with 1 Axes>"
      ]
     },
     "metadata": {},
     "output_type": "display_data"
    }
   ],
   "source": [
    "df[\"Tageszeit(h)\"].plot.hist(edgecolor='black', bins= 7, range= (10,80))"
   ]
  },
  {
   "cell_type": "markdown",
   "metadata": {},
   "source": [
    "Create a (pandas) histogram for the \"pages_visited_avg\" column. \n",
    "Here you should also insert Q1, median and Q3. \n",
    "since this column makes ‘small steps’ in the numbers, it is advisable to adjust the x-ticks. a tip: the bins then result from the maximum value of the histogram divided by the number of ticks for a nice histogram."
   ]
  },
  {
   "cell_type": "code",
   "execution_count": 38,
   "metadata": {},
   "outputs": [
    {
     "data": {
      "image/png": "[encoded data removed]",
      "text/plain": [
       "<Figure size 640x480 with 1 Axes>"
      ]
     },
     "metadata": {},
     "output_type": "display_data"
    }
   ],
   "source": [
    "ax = df[\"Tageszeit(h)\"].plot.hist(edgecolor='black', bins=15, range=(0,30))\n",
    "# Set the X-axis ticks in steps of 2\n",
    "ax.set_xticks(np.arange(0, 31, 2))\n",
    "\n",
    "# calculation of the quantiles\n",
    "q1 = df[\"Tageszeit(h)\"].quantile(0.25)\n",
    "median = df[\"Tageszeit(h)\"].median()\n",
    "q3 = df[\"Tageszeit(h)\"].quantile(0.75)\n",
    "\n",
    "# Inserting the lines for Q1, median and Q3\n",
    "plt.axvline(q1, color='red', linestyle='dashed', linewidth=1)\n",
    "plt.axvline(median, color='green', linestyle='dashed', linewidth=1)\n",
    "plt.axvline(q3, color='blue', linestyle='dashed', linewidth=1)\n",
    "\n",
    "# Labelling of the lines\n",
    "plt.text(q1, plt.ylim()[1]*0.9, 'Q1', color='red', ha='right')\n",
    "plt.text(median, plt.ylim()[1]*0.8, 'Median', color='green', ha='right')    # the *0.8 sets \"median\" a bit more low\n",
    "plt.text(q3, plt.ylim()[1]*0.9, 'Q3', color='blue', ha='right')\n",
    "\n",
    "plt.show()"
   ]
  },
  {
   "cell_type": "markdown",
   "metadata": {},
   "source": [
    "**What do you notice when comparing the top and bottom histograms?**\n",
    "\n",
    "This is a histogram for the column \"age_first_order\" as a function of \"y = total_sum\"."
   ]
  },
  {
   "cell_type": "code",
   "execution_count": 39,
   "metadata": {},
   "outputs": [
    {
     "data": {
      "image/png": "[encoded data removed]",
      "text/plain": [
       "<Figure size 640x480 with 1 Axes>"
      ]
     },
     "metadata": {},
     "output_type": "display_data"
    }
   ],
   "source": [
    "plt.hist(df[\"Tageszeit(h)\"],\n",
    "         weights = df['Count'])\n",
    "plt.show()"
   ]
  },
  {
   "cell_type": "markdown",
   "metadata": {},
   "source": [
    "## 1.4 Box plot\n",
    "The code below creates a box plot for the \"pages_visited_avg\" attribute.\n",
    "\n",
    "**What statistical quantity does it represent?**\n",
    "\n",
    "**What does the difference between median and mean say about the distribution?**\n"
   ]
  },
  {
   "cell_type": "code",
   "execution_count": 40,
   "metadata": {},
   "outputs": [
    {
     "data": {
      "image/png": "[encoded data removed]",
      "text/plain": [
       "<Figure size 900x600 with 1 Axes>"
      ]
     },
     "metadata": {},
     "output_type": "display_data"
    }
   ],
   "source": [
    "vel_arr = df['Tageszeit(h)']\n",
    "fig = plt.figure(1, figsize = (9, 6))\n",
    "ax = fig.add_subplot()\n",
    "\n",
    "ax.boxplot(vel_arr, vert = False)\n",
    "ax.set_xlabel('Tageszeit(h)')\n",
    "\n",
    "quantiles = np.quantile(vel_arr, np.array([0.00, 0.25, 0.50, 0.75, 1.00]))\n",
    "\n",
    "ax.set_xticks(quantiles)\n",
    "plt.show()"
   ]
  },
  {
   "cell_type": "markdown",
   "metadata": {},
   "source": [
    "creates 2 box plots in a diagram next to each other. one box plot for the column ‘age_first_order’ and one box plot for the column ‘pages_visited_avg’."
   ]
  },
  {
   "cell_type": "code",
   "execution_count": null,
   "metadata": {},
   "outputs": [],
   "source": [
    "df['age_first_order'] = pd.to_numeric(df['age_first_order'], errors='coerce')   #this statement removes Nan values in the column for the box plot, as otherwise the box slot would not be displayed\n",
    "df = df.dropna(subset=['age_first_order'])\n",
    "\n",
    "# Creating the box plots\n",
    "plt.figure(figsize=(10, 6))\n",
    "\n",
    "plt.subplot(1, 2, 1)\n",
    "plt.boxplot(df['age_first_order'])\n",
    "plt.title('Age First Order')\n",
    "plt.xlabel('Age')\n",
    "\n",
    "plt.subplot(1, 2, 2)\n",
    "plt.boxplot(df['pages_visited_avg'])\n",
    "plt.title('Pages Visited Average')\n",
    "plt.xlabel('Pages Visited')\n",
    "\n",
    "plt.tight_layout()\n",
    "plt.show()"
   ]
  },
  {
   "cell_type": "markdown",
   "metadata": {},
   "source": [
    "## 1.5 Linear correlations\n",
    "The corr() command creates a table with all the (linear) correlations of a dataframe. The table is redundant and therefore only one of the two \"triangular matrices\" is important to consider. Apply the command to the dataframe.\n",
    "\n",
    "**Which two values correlate most positively and which correlate most negatively?**\n"
   ]
  },
  {
   "cell_type": "code",
   "execution_count": null,
   "metadata": {},
   "outputs": [],
   "source": [
    "# space"
   ]
  },
  {
   "cell_type": "markdown",
   "metadata": {},
   "source": [
    "## 1.6 Correlations Heatmap\n",
    "Since tables are difficult for the human eye to interpret, a heat map of a correlation matrix is shown here. The data parameter must be given the correlation table created above.\n"
   ]
  },
  {
   "cell_type": "code",
   "execution_count": null,
   "metadata": {},
   "outputs": [],
   "source": [
    "sn.heatmap(data = XXX, annot = True)"
   ]
  },
  {
   "cell_type": "markdown",
   "metadata": {},
   "source": [
    "## 1.7 Scatter plots\n",
    "Create a (pandas) scatter plot between age_first_order and total_sum."
   ]
  },
  {
   "cell_type": "code",
   "execution_count": null,
   "metadata": {},
   "outputs": [],
   "source": [
    "# space"
   ]
  },
  {
   "cell_type": "markdown",
   "metadata": {},
   "source": [
    "Compare the scatter plot with the lower variant. Change the parameter s and observe the change."
   ]
  },
  {
   "cell_type": "code",
   "execution_count": null,
   "metadata": {},
   "outputs": [],
   "source": [
    "plt.scatter(df['age_first_order'], df['total_sum'], s = 0.5)\n",
    "plt.xlabel('age_first_order')\n",
    "plt.ylabel('total_Sum')"
   ]
  },
  {
   "cell_type": "markdown",
   "metadata": {},
   "source": [
    "The bottom command creates scatter plots of combinations of attributes and arranges them in the form of a matrix."
   ]
  },
  {
   "cell_type": "code",
   "execution_count": null,
   "metadata": {},
   "outputs": [],
   "source": [
    "sn.pairplot(data = df[[\"age_first_order\", \"total_sum\", \"pages_visited_avg\"]])"
   ]
  },
  {
   "cell_type": "markdown",
   "metadata": {},
   "source": [
    "## 1.8 Histograms for categorical variables"
   ]
  },
  {
   "cell_type": "markdown",
   "metadata": {},
   "source": [
    "Now create a histogram for user_agent_brand. To do this, first use a dedicated command to find out which different values appear in the column."
   ]
  },
  {
   "cell_type": "code",
   "execution_count": 1,
   "metadata": {},
   "outputs": [],
   "source": [
    "# space for the command to find out the unique values"
   ]
  },
  {
   "cell_type": "code",
   "execution_count": null,
   "metadata": {},
   "outputs": [],
   "source": [
    "#space for the histogramm of user_agent_brand"
   ]
  }
 ],
 "metadata": {
  "kernelspec": {
   "display_name": "Python 3 (ipykernel)",
   "language": "python",
   "name": "python3"
  },
  "language_info": {
   "codemirror_mode": {
    "name": "ipython",
    "version": 3
   },
   "file_extension": ".py",
   "mimetype": "text/x-python",
   "name": "python",
   "nbconvert_exporter": "python",
   "pygments_lexer": "ipython3",
   "version": "3.11.9"
  }
 },
 "nbformat": 4,
 "nbformat_minor": 4
}
