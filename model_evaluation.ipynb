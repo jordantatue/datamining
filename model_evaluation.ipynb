{
 "cells": [
  {
   "cell_type": "raw",
   "metadata": {
    "vscode": {
     "languageId": "raw"
    }
   },
   "source": [
    "---\n",
    "title: Data Mining Exercise 4 - Data preparation, model training and evaluation\n",
    "exercise-number: 4\n",
    "other-links:\n",
    "  - text: Exercise 4 \n",
    "    href: \"../../../../_aufgaben/Aufgabenblaetter/4/04_Customer_data_DT_student.pdf\"\n",
    "    icon: file-pdf\n",
    "code-links:\n",
    "  - text: Exercise 4 \n",
    "    href: \"../../../../_aufgaben/Aufgabenblaetter/4/04_Customer_data_DT_student.ipynb\"\n",
    "    type: \"application/octet-stream\"\n",
    "    icon: file-code\n",
    "downloads: [ipynb]\n",
    "---\n"
   ]
  },
  {
   "cell_type": "markdown",
   "metadata": {},
   "source": [
    "# Exercise 4 - Data preparation, model training and evaluation\n",
    "\n",
    "Necessary libraries are being loaded."
   ]
  },
  {
   "cell_type": "code",
   "execution_count": 140,
   "metadata": {
    "scrolled": true
   },
   "outputs": [],
   "source": [
    "import pandas as pd\n",
    "import numpy as np\n",
    "import matplotlib.pyplot as plt"
   ]
  },
  {
   "cell_type": "markdown",
   "metadata": {},
   "source": [
    "Read in the customer data again and enter the first lines."
   ]
  },
  {
   "cell_type": "code",
   "execution_count": 141,
   "metadata": {},
   "outputs": [
    {
     "data": {
      "text/html": [
       "<div>\n",
       "<style scoped>\n",
       "    .dataframe tbody tr th:only-of-type {\n",
       "        vertical-align: middle;\n",
       "    }\n",
       "\n",
       "    .dataframe tbody tr th {\n",
       "        vertical-align: top;\n",
       "    }\n",
       "\n",
       "    .dataframe thead th {\n",
       "        text-align: right;\n",
       "    }\n",
       "</style>\n",
       "<table border=\"1\" class=\"dataframe\">\n",
       "  <thead>\n",
       "    <tr style=\"text-align: right;\">\n",
       "      <th></th>\n",
       "      <th>year</th>\n",
       "      <th>month</th>\n",
       "      <th>startClusterName</th>\n",
       "      <th>startClusterZip</th>\n",
       "      <th>startClusterID</th>\n",
       "      <th>endClusterName</th>\n",
       "      <th>endClusterZip</th>\n",
       "      <th>endClusterID</th>\n",
       "      <th>weekday</th>\n",
       "      <th>daytime</th>\n",
       "      <th>isHoliday</th>\n",
       "      <th>distance</th>\n",
       "      <th>count</th>\n",
       "      <th>total</th>\n",
       "    </tr>\n",
       "  </thead>\n",
       "  <tbody>\n",
       "    <tr>\n",
       "      <th>0</th>\n",
       "      <td>2021</td>\n",
       "      <td>3</td>\n",
       "      <td>Hunedoara</td>\n",
       "      <td>71171</td>\n",
       "      <td>3254026000002</td>\n",
       "      <td>Hunedoara</td>\n",
       "      <td>71171</td>\n",
       "      <td>3254026000007</td>\n",
       "      <td>Di</td>\n",
       "      <td>morning</td>\n",
       "      <td>Keine Ferien</td>\n",
       "      <td>medium</td>\n",
       "      <td>high</td>\n",
       "      <td>medium</td>\n",
       "    </tr>\n",
       "    <tr>\n",
       "      <th>1</th>\n",
       "      <td>2021</td>\n",
       "      <td>3</td>\n",
       "      <td>Turda</td>\n",
       "      <td>80982</td>\n",
       "      <td>3241013050002</td>\n",
       "      <td>Turda</td>\n",
       "      <td>80982</td>\n",
       "      <td>3241013050008</td>\n",
       "      <td>Mi</td>\n",
       "      <td>afternoon</td>\n",
       "      <td>Keine Ferien</td>\n",
       "      <td>low</td>\n",
       "      <td>medium</td>\n",
       "      <td>low</td>\n",
       "    </tr>\n",
       "    <tr>\n",
       "      <th>2</th>\n",
       "      <td>2021</td>\n",
       "      <td>3</td>\n",
       "      <td>Turda</td>\n",
       "      <td>80982</td>\n",
       "      <td>3241013050007</td>\n",
       "      <td>Turda</td>\n",
       "      <td>80982</td>\n",
       "      <td>3241013030001</td>\n",
       "      <td>Sa</td>\n",
       "      <td>morning</td>\n",
       "      <td>Keine Ferien</td>\n",
       "      <td>medium</td>\n",
       "      <td>medium</td>\n",
       "      <td>medium</td>\n",
       "    </tr>\n",
       "    <tr>\n",
       "      <th>3</th>\n",
       "      <td>2021</td>\n",
       "      <td>3</td>\n",
       "      <td>Bran</td>\n",
       "      <td>91157</td>\n",
       "      <td>3254028001012</td>\n",
       "      <td>Bran</td>\n",
       "      <td>91157</td>\n",
       "      <td>3254028001004</td>\n",
       "      <td>Fr</td>\n",
       "      <td>afternoon</td>\n",
       "      <td>Keine Ferien</td>\n",
       "      <td>low</td>\n",
       "      <td>high</td>\n",
       "      <td>low</td>\n",
       "    </tr>\n",
       "    <tr>\n",
       "      <th>4</th>\n",
       "      <td>2021</td>\n",
       "      <td>3</td>\n",
       "      <td>Bran</td>\n",
       "      <td>91157</td>\n",
       "      <td>3254028001003</td>\n",
       "      <td>Turda</td>\n",
       "      <td>80982</td>\n",
       "      <td>3241013070001</td>\n",
       "      <td>Fr</td>\n",
       "      <td>night</td>\n",
       "      <td>Keine Ferien</td>\n",
       "      <td>high</td>\n",
       "      <td>medium</td>\n",
       "      <td>high</td>\n",
       "    </tr>\n",
       "    <tr>\n",
       "      <th>...</th>\n",
       "      <td>...</td>\n",
       "      <td>...</td>\n",
       "      <td>...</td>\n",
       "      <td>...</td>\n",
       "      <td>...</td>\n",
       "      <td>...</td>\n",
       "      <td>...</td>\n",
       "      <td>...</td>\n",
       "      <td>...</td>\n",
       "      <td>...</td>\n",
       "      <td>...</td>\n",
       "      <td>...</td>\n",
       "      <td>...</td>\n",
       "      <td>...</td>\n",
       "    </tr>\n",
       "    <tr>\n",
       "      <th>265481</th>\n",
       "      <td>2020</td>\n",
       "      <td>10</td>\n",
       "      <td>Turda</td>\n",
       "      <td>80982</td>\n",
       "      <td>3241013050001</td>\n",
       "      <td>Turda</td>\n",
       "      <td>80982</td>\n",
       "      <td>3241013080001</td>\n",
       "      <td>Sun</td>\n",
       "      <td>afternoon</td>\n",
       "      <td>Keine Ferien</td>\n",
       "      <td>high</td>\n",
       "      <td>low</td>\n",
       "      <td>medium</td>\n",
       "    </tr>\n",
       "    <tr>\n",
       "      <th>265482</th>\n",
       "      <td>2020</td>\n",
       "      <td>10</td>\n",
       "      <td>Bran</td>\n",
       "      <td>91157</td>\n",
       "      <td>3254028001012</td>\n",
       "      <td>Bran</td>\n",
       "      <td>91157</td>\n",
       "      <td>3254028001003</td>\n",
       "      <td>Mo</td>\n",
       "      <td>morning</td>\n",
       "      <td>Ferien</td>\n",
       "      <td>low</td>\n",
       "      <td>high</td>\n",
       "      <td>low</td>\n",
       "    </tr>\n",
       "    <tr>\n",
       "      <th>265483</th>\n",
       "      <td>2020</td>\n",
       "      <td>10</td>\n",
       "      <td>Bran</td>\n",
       "      <td>91157</td>\n",
       "      <td>3254028001013</td>\n",
       "      <td>Bran</td>\n",
       "      <td>91157</td>\n",
       "      <td>3254028003001</td>\n",
       "      <td>Di</td>\n",
       "      <td>morning</td>\n",
       "      <td>Keine Ferien</td>\n",
       "      <td>medium</td>\n",
       "      <td>medium</td>\n",
       "      <td>medium</td>\n",
       "    </tr>\n",
       "    <tr>\n",
       "      <th>265484</th>\n",
       "      <td>2020</td>\n",
       "      <td>10</td>\n",
       "      <td>Hunedoara</td>\n",
       "      <td>71171</td>\n",
       "      <td>3254026000014</td>\n",
       "      <td>Hunedoara</td>\n",
       "      <td>71171</td>\n",
       "      <td>3254026000003</td>\n",
       "      <td>Mo</td>\n",
       "      <td>night</td>\n",
       "      <td>Keine Ferien</td>\n",
       "      <td>high</td>\n",
       "      <td>low</td>\n",
       "      <td>medium</td>\n",
       "    </tr>\n",
       "    <tr>\n",
       "      <th>265485</th>\n",
       "      <td>2020</td>\n",
       "      <td>10</td>\n",
       "      <td>Bran</td>\n",
       "      <td>91157</td>\n",
       "      <td>3254028004001</td>\n",
       "      <td>Bran</td>\n",
       "      <td>91157</td>\n",
       "      <td>3254028001013</td>\n",
       "      <td>Mi</td>\n",
       "      <td>afternoon</td>\n",
       "      <td>Ferien</td>\n",
       "      <td>medium</td>\n",
       "      <td>high</td>\n",
       "      <td>medium</td>\n",
       "    </tr>\n",
       "  </tbody>\n",
       "</table>\n",
       "<p>265486 rows × 14 columns</p>\n",
       "</div>"
      ],
      "text/plain": [
       "        year  month startClusterName  startClusterZip  startClusterID  \\\n",
       "0       2021      3        Hunedoara            71171   3254026000002   \n",
       "1       2021      3            Turda            80982   3241013050002   \n",
       "2       2021      3            Turda            80982   3241013050007   \n",
       "3       2021      3             Bran            91157   3254028001012   \n",
       "4       2021      3             Bran            91157   3254028001003   \n",
       "...      ...    ...              ...              ...             ...   \n",
       "265481  2020     10            Turda            80982   3241013050001   \n",
       "265482  2020     10             Bran            91157   3254028001012   \n",
       "265483  2020     10             Bran            91157   3254028001013   \n",
       "265484  2020     10        Hunedoara            71171   3254026000014   \n",
       "265485  2020     10             Bran            91157   3254028004001   \n",
       "\n",
       "       endClusterName  endClusterZip   endClusterID weekday    daytime  \\\n",
       "0           Hunedoara          71171  3254026000007      Di    morning   \n",
       "1               Turda          80982  3241013050008      Mi  afternoon   \n",
       "2               Turda          80982  3241013030001      Sa    morning   \n",
       "3                Bran          91157  3254028001004      Fr  afternoon   \n",
       "4               Turda          80982  3241013070001      Fr      night   \n",
       "...               ...            ...            ...     ...        ...   \n",
       "265481          Turda          80982  3241013080001     Sun  afternoon   \n",
       "265482           Bran          91157  3254028001003      Mo    morning   \n",
       "265483           Bran          91157  3254028003001      Di    morning   \n",
       "265484      Hunedoara          71171  3254026000003      Mo      night   \n",
       "265485           Bran          91157  3254028001013      Mi  afternoon   \n",
       "\n",
       "           isHoliday distance   count   total  \n",
       "0       Keine Ferien   medium    high  medium  \n",
       "1       Keine Ferien      low  medium     low  \n",
       "2       Keine Ferien   medium  medium  medium  \n",
       "3       Keine Ferien      low    high     low  \n",
       "4       Keine Ferien     high  medium    high  \n",
       "...              ...      ...     ...     ...  \n",
       "265481  Keine Ferien     high     low  medium  \n",
       "265482        Ferien      low    high     low  \n",
       "265483  Keine Ferien   medium  medium  medium  \n",
       "265484  Keine Ferien     high     low  medium  \n",
       "265485        Ferien   medium    high  medium  \n",
       "\n",
       "[265486 rows x 14 columns]"
      ]
     },
     "execution_count": 141,
     "metadata": {},
     "output_type": "execute_result"
    }
   ],
   "source": [
    "df = pd.read_csv('discrating_data.csv')\n",
    "df"
   ]
  },
  {
   "cell_type": "markdown",
   "metadata": {},
   "source": [
    "## 4.1 Business Understanding: What is your target variable?\n",
    "\n",
    "The aim is to develop a model that finds the customers with the highest revenue for the company. It is determined that a customer is considered to have the highest revenue if the total revenue is over 300.\n",
    "\n",
    "For this purpose, a new attribute \"high revenue\" is to be calculated using the total revenue of a customer \"total_sum\". If the threshold value of 300 is exceeded, \"high revenue\" is marked with \"1\", otherwise \"0\". You can use the numpy function np.where(condition,if true, if false) for this.\n",
    "\n",
    "Add the column \"high revenue\" to the data set and check the result."
   ]
  },
  {
   "cell_type": "markdown",
   "metadata": {},
   "source": [
    "1. Business Understanding\n",
    "Objective\n",
    "Classification: Predict whether a data item belongs to a particular class.\n",
    "Regression: Predict a continuous variable (e.g. distance or daytime).\n",
    "  how targert variable will be total (we see this variable as the total price of a travel)\n",
    "Classification : Transformer total as :\n",
    "low  : total <= 50\n",
    "medium  : 50 < total <= 200\n",
    "high  : total > 200"
   ]
  },
  {
   "cell_type": "code",
   "execution_count": 142,
   "metadata": {},
   "outputs": [
    {
     "data": {
      "image/png": "[encoded data removed]",
      "text/plain": [
       "<Figure size 640x480 with 1 Axes>"
      ]
     },
     "metadata": {},
     "output_type": "display_data"
    },
    {
     "data": {
      "image/png": "[encoded data removed]",
      "text/plain": [
       "<Figure size 1000x800 with 2 Axes>"
      ]
     },
     "metadata": {},
     "output_type": "display_data"
    }
   ],
   "source": [
    "import seaborn as sns\n",
    "import matplotlib.pyplot as plt\n",
    "\n",
    "# Distribution de 'distance'\n",
    "sns.histplot(df['total'], kde=True, bins=30)\n",
    "plt.title(\"Distribution of the 'distance' variable\")\n",
    "plt.xlabel(\"Distance\")\n",
    "plt.ylabel(\"Fréquence\")\n",
    "plt.show()\n",
    "\n",
    "# correlations matrix\n",
    "dfCorr = df.corr(numeric_only= True)\n",
    "correlation_matrix = dfCorr.corr()\n",
    "plt.figure(figsize=(10, 8))\n",
    "sns.heatmap(correlation_matrix, annot=True, cmap='coolwarm', fmt=\".2f\")\n",
    "plt.title(\"Matrice de corrélation\")\n",
    "plt.show()\n"
   ]
  },
  {
   "cell_type": "code",
   "execution_count": 143,
   "metadata": {},
   "outputs": [
    {
     "data": {
      "text/html": [
       "<div>\n",
       "<style scoped>\n",
       "    .dataframe tbody tr th:only-of-type {\n",
       "        vertical-align: middle;\n",
       "    }\n",
       "\n",
       "    .dataframe tbody tr th {\n",
       "        vertical-align: top;\n",
       "    }\n",
       "\n",
       "    .dataframe thead th {\n",
       "        text-align: right;\n",
       "    }\n",
       "</style>\n",
       "<table border=\"1\" class=\"dataframe\">\n",
       "  <thead>\n",
       "    <tr style=\"text-align: right;\">\n",
       "      <th></th>\n",
       "      <th>year</th>\n",
       "      <th>month</th>\n",
       "      <th>startClusterName</th>\n",
       "      <th>startClusterZip</th>\n",
       "      <th>startClusterID</th>\n",
       "      <th>endClusterName</th>\n",
       "      <th>endClusterZip</th>\n",
       "      <th>endClusterID</th>\n",
       "      <th>weekday</th>\n",
       "      <th>daytime</th>\n",
       "      <th>isHoliday</th>\n",
       "      <th>distance</th>\n",
       "      <th>count</th>\n",
       "      <th>total</th>\n",
       "      <th>total_categories</th>\n",
       "    </tr>\n",
       "  </thead>\n",
       "  <tbody>\n",
       "    <tr>\n",
       "      <th>0</th>\n",
       "      <td>2021</td>\n",
       "      <td>3</td>\n",
       "      <td>Hunedoara</td>\n",
       "      <td>71171</td>\n",
       "      <td>3254026000002</td>\n",
       "      <td>Hunedoara</td>\n",
       "      <td>71171</td>\n",
       "      <td>3254026000007</td>\n",
       "      <td>Di</td>\n",
       "      <td>morning</td>\n",
       "      <td>Keine Ferien</td>\n",
       "      <td>2</td>\n",
       "      <td>2</td>\n",
       "      <td>1</td>\n",
       "      <td>medium</td>\n",
       "    </tr>\n",
       "    <tr>\n",
       "      <th>1</th>\n",
       "      <td>2021</td>\n",
       "      <td>3</td>\n",
       "      <td>Turda</td>\n",
       "      <td>80982</td>\n",
       "      <td>3241013050002</td>\n",
       "      <td>Turda</td>\n",
       "      <td>80982</td>\n",
       "      <td>3241013050008</td>\n",
       "      <td>Mi</td>\n",
       "      <td>afternoon</td>\n",
       "      <td>Keine Ferien</td>\n",
       "      <td>0</td>\n",
       "      <td>1</td>\n",
       "      <td>0</td>\n",
       "      <td>low</td>\n",
       "    </tr>\n",
       "    <tr>\n",
       "      <th>2</th>\n",
       "      <td>2021</td>\n",
       "      <td>3</td>\n",
       "      <td>Turda</td>\n",
       "      <td>80982</td>\n",
       "      <td>3241013050007</td>\n",
       "      <td>Turda</td>\n",
       "      <td>80982</td>\n",
       "      <td>3241013030001</td>\n",
       "      <td>Sa</td>\n",
       "      <td>morning</td>\n",
       "      <td>Keine Ferien</td>\n",
       "      <td>2</td>\n",
       "      <td>1</td>\n",
       "      <td>1</td>\n",
       "      <td>medium</td>\n",
       "    </tr>\n",
       "    <tr>\n",
       "      <th>3</th>\n",
       "      <td>2021</td>\n",
       "      <td>3</td>\n",
       "      <td>Bran</td>\n",
       "      <td>91157</td>\n",
       "      <td>3254028001012</td>\n",
       "      <td>Bran</td>\n",
       "      <td>91157</td>\n",
       "      <td>3254028001004</td>\n",
       "      <td>Fr</td>\n",
       "      <td>afternoon</td>\n",
       "      <td>Keine Ferien</td>\n",
       "      <td>0</td>\n",
       "      <td>2</td>\n",
       "      <td>0</td>\n",
       "      <td>low</td>\n",
       "    </tr>\n",
       "    <tr>\n",
       "      <th>4</th>\n",
       "      <td>2021</td>\n",
       "      <td>3</td>\n",
       "      <td>Bran</td>\n",
       "      <td>91157</td>\n",
       "      <td>3254028001003</td>\n",
       "      <td>Turda</td>\n",
       "      <td>80982</td>\n",
       "      <td>3241013070001</td>\n",
       "      <td>Fr</td>\n",
       "      <td>night</td>\n",
       "      <td>Keine Ferien</td>\n",
       "      <td>2</td>\n",
       "      <td>1</td>\n",
       "      <td>2</td>\n",
       "      <td>high</td>\n",
       "    </tr>\n",
       "    <tr>\n",
       "      <th>...</th>\n",
       "      <td>...</td>\n",
       "      <td>...</td>\n",
       "      <td>...</td>\n",
       "      <td>...</td>\n",
       "      <td>...</td>\n",
       "      <td>...</td>\n",
       "      <td>...</td>\n",
       "      <td>...</td>\n",
       "      <td>...</td>\n",
       "      <td>...</td>\n",
       "      <td>...</td>\n",
       "      <td>...</td>\n",
       "      <td>...</td>\n",
       "      <td>...</td>\n",
       "      <td>...</td>\n",
       "    </tr>\n",
       "    <tr>\n",
       "      <th>265481</th>\n",
       "      <td>2020</td>\n",
       "      <td>10</td>\n",
       "      <td>Turda</td>\n",
       "      <td>80982</td>\n",
       "      <td>3241013050001</td>\n",
       "      <td>Turda</td>\n",
       "      <td>80982</td>\n",
       "      <td>3241013080001</td>\n",
       "      <td>Sun</td>\n",
       "      <td>afternoon</td>\n",
       "      <td>Keine Ferien</td>\n",
       "      <td>2</td>\n",
       "      <td>0</td>\n",
       "      <td>1</td>\n",
       "      <td>medium</td>\n",
       "    </tr>\n",
       "    <tr>\n",
       "      <th>265482</th>\n",
       "      <td>2020</td>\n",
       "      <td>10</td>\n",
       "      <td>Bran</td>\n",
       "      <td>91157</td>\n",
       "      <td>3254028001012</td>\n",
       "      <td>Bran</td>\n",
       "      <td>91157</td>\n",
       "      <td>3254028001003</td>\n",
       "      <td>Mo</td>\n",
       "      <td>morning</td>\n",
       "      <td>Ferien</td>\n",
       "      <td>0</td>\n",
       "      <td>2</td>\n",
       "      <td>0</td>\n",
       "      <td>low</td>\n",
       "    </tr>\n",
       "    <tr>\n",
       "      <th>265483</th>\n",
       "      <td>2020</td>\n",
       "      <td>10</td>\n",
       "      <td>Bran</td>\n",
       "      <td>91157</td>\n",
       "      <td>3254028001013</td>\n",
       "      <td>Bran</td>\n",
       "      <td>91157</td>\n",
       "      <td>3254028003001</td>\n",
       "      <td>Di</td>\n",
       "      <td>morning</td>\n",
       "      <td>Keine Ferien</td>\n",
       "      <td>2</td>\n",
       "      <td>1</td>\n",
       "      <td>1</td>\n",
       "      <td>medium</td>\n",
       "    </tr>\n",
       "    <tr>\n",
       "      <th>265484</th>\n",
       "      <td>2020</td>\n",
       "      <td>10</td>\n",
       "      <td>Hunedoara</td>\n",
       "      <td>71171</td>\n",
       "      <td>3254026000014</td>\n",
       "      <td>Hunedoara</td>\n",
       "      <td>71171</td>\n",
       "      <td>3254026000003</td>\n",
       "      <td>Mo</td>\n",
       "      <td>night</td>\n",
       "      <td>Keine Ferien</td>\n",
       "      <td>2</td>\n",
       "      <td>0</td>\n",
       "      <td>1</td>\n",
       "      <td>medium</td>\n",
       "    </tr>\n",
       "    <tr>\n",
       "      <th>265485</th>\n",
       "      <td>2020</td>\n",
       "      <td>10</td>\n",
       "      <td>Bran</td>\n",
       "      <td>91157</td>\n",
       "      <td>3254028004001</td>\n",
       "      <td>Bran</td>\n",
       "      <td>91157</td>\n",
       "      <td>3254028001013</td>\n",
       "      <td>Mi</td>\n",
       "      <td>afternoon</td>\n",
       "      <td>Ferien</td>\n",
       "      <td>2</td>\n",
       "      <td>2</td>\n",
       "      <td>1</td>\n",
       "      <td>medium</td>\n",
       "    </tr>\n",
       "  </tbody>\n",
       "</table>\n",
       "<p>265486 rows × 15 columns</p>\n",
       "</div>"
      ],
      "text/plain": [
       "        year  month startClusterName  startClusterZip  startClusterID  \\\n",
       "0       2021      3        Hunedoara            71171   3254026000002   \n",
       "1       2021      3            Turda            80982   3241013050002   \n",
       "2       2021      3            Turda            80982   3241013050007   \n",
       "3       2021      3             Bran            91157   3254028001012   \n",
       "4       2021      3             Bran            91157   3254028001003   \n",
       "...      ...    ...              ...              ...             ...   \n",
       "265481  2020     10            Turda            80982   3241013050001   \n",
       "265482  2020     10             Bran            91157   3254028001012   \n",
       "265483  2020     10             Bran            91157   3254028001013   \n",
       "265484  2020     10        Hunedoara            71171   3254026000014   \n",
       "265485  2020     10             Bran            91157   3254028004001   \n",
       "\n",
       "       endClusterName  endClusterZip   endClusterID weekday    daytime  \\\n",
       "0           Hunedoara          71171  3254026000007      Di    morning   \n",
       "1               Turda          80982  3241013050008      Mi  afternoon   \n",
       "2               Turda          80982  3241013030001      Sa    morning   \n",
       "3                Bran          91157  3254028001004      Fr  afternoon   \n",
       "4               Turda          80982  3241013070001      Fr      night   \n",
       "...               ...            ...            ...     ...        ...   \n",
       "265481          Turda          80982  3241013080001     Sun  afternoon   \n",
       "265482           Bran          91157  3254028001003      Mo    morning   \n",
       "265483           Bran          91157  3254028003001      Di    morning   \n",
       "265484      Hunedoara          71171  3254026000003      Mo      night   \n",
       "265485           Bran          91157  3254028001013      Mi  afternoon   \n",
       "\n",
       "           isHoliday  distance  count  total total_categories  \n",
       "0       Keine Ferien         2      2      1           medium  \n",
       "1       Keine Ferien         0      1      0              low  \n",
       "2       Keine Ferien         2      1      1           medium  \n",
       "3       Keine Ferien         0      2      0              low  \n",
       "4       Keine Ferien         2      1      2             high  \n",
       "...              ...       ...    ...    ...              ...  \n",
       "265481  Keine Ferien         2      0      1           medium  \n",
       "265482        Ferien         0      2      0              low  \n",
       "265483  Keine Ferien         2      1      1           medium  \n",
       "265484  Keine Ferien         2      0      1           medium  \n",
       "265485        Ferien         2      2      1           medium  \n",
       "\n",
       "[265486 rows x 15 columns]"
      ]
     },
     "execution_count": 143,
     "metadata": {},
     "output_type": "execute_result"
    }
   ],
   "source": [
    "\n",
    "df['total_categories'] = df['total']\n",
    "\n",
    "df['total'] = np.where(df['total']=='low', 0, \n",
    "                               np.where(df['total']=='medium', 1, 2))\n",
    "df['count'] = np.where(df['count']=='low', 0, \n",
    "                               np.where(df['count']=='medium', 1, 2))\n",
    "df['distance'] = np.where(df['distance']=='low', 0, \n",
    "                               np.where(df['total']=='medium', 1, 2))\n",
    "\n",
    "df"
   ]
  },
  {
   "cell_type": "markdown",
   "metadata": {},
   "source": [
    "## 4.2 Distribution of the target variable\n",
    "\n",
    "First of all, we want to know how \"high revenue\" is distributed in the data.\n",
    "\n",
    "To do this, the values of \"high revenue\" are counted using the groupby function and displayed as a bar chart."
   ]
  },
  {
   "cell_type": "code",
   "execution_count": 144,
   "metadata": {},
   "outputs": [
    {
     "data": {
      "text/plain": [
       "<Axes: xlabel='total'>"
      ]
     },
     "execution_count": 144,
     "metadata": {},
     "output_type": "execute_result"
    },
    {
     "data": {
      "image/png": "[encoded data removed]",
      "text/plain": [
       "<Figure size 640x480 with 1 Axes>"
      ]
     },
     "metadata": {},
     "output_type": "display_data"
    }
   ],
   "source": [
    "bc = df.groupby('total').agg({'count':'sum'})\n",
    "\n",
    "bc.plot.bar()"
   ]
  },
  {
   "cell_type": "markdown",
   "metadata": {},
   "source": [
    "## 4.3 Data reduction & cleansing\n",
    "\n",
    "With regard to data understanding, the department was consulted and it was determined that not all existing attributes are relevant. Only the following should be used in the data set:\n"
   ]
  },
  {
   "cell_type": "markdown",
   "metadata": {},
   "source": [
    "we did'nt choose to delete an attribut because all of them are usefull for our model's training"
   ]
  },
  {
   "cell_type": "markdown",
   "metadata": {},
   "source": [
    "This is followed by df cleansing. Display the missing values and carry out the following data cleansing steps:\n",
    "\n",
    "1. Replace missing values (NaN) with the most common value (dfClean['Attribute'].mode()[0])\n",
    "The result should be in the variable dfClean."
   ]
  },
  {
   "cell_type": "code",
   "execution_count": 145,
   "metadata": {},
   "outputs": [
    {
     "name": "stdout",
     "output_type": "stream",
     "text": [
      "year                0\n",
      "month               0\n",
      "startClusterName    0\n",
      "startClusterZip     0\n",
      "startClusterID      0\n",
      "endClusterName      0\n",
      "endClusterZip       0\n",
      "endClusterID        0\n",
      "weekday             0\n",
      "daytime             0\n",
      "isHoliday           0\n",
      "distance            0\n",
      "count               0\n",
      "total               0\n",
      "total_categories    0\n",
      "dtype: int64\n"
     ]
    }
   ],
   "source": [
    "# space\n",
    "print(df.isnull().sum())"
   ]
  },
  {
   "cell_type": "markdown",
   "metadata": {},
   "source": [
    "In the data transformation, we want to perform an encoding into numerical values (even if we do not have ordinal attributes here). We use the LabelEncoder() for this. Apply this to user_agent_os and user_agent_brand as well and see how useful you find the result."
   ]
  },
  {
   "cell_type": "code",
   "execution_count": 146,
   "metadata": {},
   "outputs": [
    {
     "data": {
      "text/html": [
       "<div>\n",
       "<style scoped>\n",
       "    .dataframe tbody tr th:only-of-type {\n",
       "        vertical-align: middle;\n",
       "    }\n",
       "\n",
       "    .dataframe tbody tr th {\n",
       "        vertical-align: top;\n",
       "    }\n",
       "\n",
       "    .dataframe thead th {\n",
       "        text-align: right;\n",
       "    }\n",
       "</style>\n",
       "<table border=\"1\" class=\"dataframe\">\n",
       "  <thead>\n",
       "    <tr style=\"text-align: right;\">\n",
       "      <th></th>\n",
       "      <th>year</th>\n",
       "      <th>month</th>\n",
       "      <th>startClusterName</th>\n",
       "      <th>startClusterZip</th>\n",
       "      <th>startClusterID</th>\n",
       "      <th>endClusterName</th>\n",
       "      <th>endClusterZip</th>\n",
       "      <th>endClusterID</th>\n",
       "      <th>weekday</th>\n",
       "      <th>daytime</th>\n",
       "      <th>isHoliday</th>\n",
       "      <th>distance</th>\n",
       "      <th>count</th>\n",
       "      <th>total</th>\n",
       "      <th>total_categories</th>\n",
       "    </tr>\n",
       "  </thead>\n",
       "  <tbody>\n",
       "    <tr>\n",
       "      <th>0</th>\n",
       "      <td>2021</td>\n",
       "      <td>3</td>\n",
       "      <td>1</td>\n",
       "      <td>71171</td>\n",
       "      <td>3254026000002</td>\n",
       "      <td>1</td>\n",
       "      <td>71171</td>\n",
       "      <td>3254026000007</td>\n",
       "      <td>0</td>\n",
       "      <td>1</td>\n",
       "      <td>1</td>\n",
       "      <td>2</td>\n",
       "      <td>2</td>\n",
       "      <td>1</td>\n",
       "      <td>medium</td>\n",
       "    </tr>\n",
       "    <tr>\n",
       "      <th>1</th>\n",
       "      <td>2021</td>\n",
       "      <td>3</td>\n",
       "      <td>2</td>\n",
       "      <td>80982</td>\n",
       "      <td>3241013050002</td>\n",
       "      <td>2</td>\n",
       "      <td>80982</td>\n",
       "      <td>3241013050008</td>\n",
       "      <td>3</td>\n",
       "      <td>0</td>\n",
       "      <td>1</td>\n",
       "      <td>0</td>\n",
       "      <td>1</td>\n",
       "      <td>0</td>\n",
       "      <td>low</td>\n",
       "    </tr>\n",
       "    <tr>\n",
       "      <th>2</th>\n",
       "      <td>2021</td>\n",
       "      <td>3</td>\n",
       "      <td>2</td>\n",
       "      <td>80982</td>\n",
       "      <td>3241013050007</td>\n",
       "      <td>2</td>\n",
       "      <td>80982</td>\n",
       "      <td>3241013030001</td>\n",
       "      <td>5</td>\n",
       "      <td>1</td>\n",
       "      <td>1</td>\n",
       "      <td>2</td>\n",
       "      <td>1</td>\n",
       "      <td>1</td>\n",
       "      <td>medium</td>\n",
       "    </tr>\n",
       "    <tr>\n",
       "      <th>3</th>\n",
       "      <td>2021</td>\n",
       "      <td>3</td>\n",
       "      <td>0</td>\n",
       "      <td>91157</td>\n",
       "      <td>3254028001012</td>\n",
       "      <td>0</td>\n",
       "      <td>91157</td>\n",
       "      <td>3254028001004</td>\n",
       "      <td>2</td>\n",
       "      <td>0</td>\n",
       "      <td>1</td>\n",
       "      <td>0</td>\n",
       "      <td>2</td>\n",
       "      <td>0</td>\n",
       "      <td>low</td>\n",
       "    </tr>\n",
       "    <tr>\n",
       "      <th>4</th>\n",
       "      <td>2021</td>\n",
       "      <td>3</td>\n",
       "      <td>0</td>\n",
       "      <td>91157</td>\n",
       "      <td>3254028001003</td>\n",
       "      <td>2</td>\n",
       "      <td>80982</td>\n",
       "      <td>3241013070001</td>\n",
       "      <td>2</td>\n",
       "      <td>2</td>\n",
       "      <td>1</td>\n",
       "      <td>2</td>\n",
       "      <td>1</td>\n",
       "      <td>2</td>\n",
       "      <td>high</td>\n",
       "    </tr>\n",
       "    <tr>\n",
       "      <th>...</th>\n",
       "      <td>...</td>\n",
       "      <td>...</td>\n",
       "      <td>...</td>\n",
       "      <td>...</td>\n",
       "      <td>...</td>\n",
       "      <td>...</td>\n",
       "      <td>...</td>\n",
       "      <td>...</td>\n",
       "      <td>...</td>\n",
       "      <td>...</td>\n",
       "      <td>...</td>\n",
       "      <td>...</td>\n",
       "      <td>...</td>\n",
       "      <td>...</td>\n",
       "      <td>...</td>\n",
       "    </tr>\n",
       "    <tr>\n",
       "      <th>265481</th>\n",
       "      <td>2020</td>\n",
       "      <td>10</td>\n",
       "      <td>2</td>\n",
       "      <td>80982</td>\n",
       "      <td>3241013050001</td>\n",
       "      <td>2</td>\n",
       "      <td>80982</td>\n",
       "      <td>3241013080001</td>\n",
       "      <td>6</td>\n",
       "      <td>0</td>\n",
       "      <td>1</td>\n",
       "      <td>2</td>\n",
       "      <td>0</td>\n",
       "      <td>1</td>\n",
       "      <td>medium</td>\n",
       "    </tr>\n",
       "    <tr>\n",
       "      <th>265482</th>\n",
       "      <td>2020</td>\n",
       "      <td>10</td>\n",
       "      <td>0</td>\n",
       "      <td>91157</td>\n",
       "      <td>3254028001012</td>\n",
       "      <td>0</td>\n",
       "      <td>91157</td>\n",
       "      <td>3254028001003</td>\n",
       "      <td>4</td>\n",
       "      <td>1</td>\n",
       "      <td>0</td>\n",
       "      <td>0</td>\n",
       "      <td>2</td>\n",
       "      <td>0</td>\n",
       "      <td>low</td>\n",
       "    </tr>\n",
       "    <tr>\n",
       "      <th>265483</th>\n",
       "      <td>2020</td>\n",
       "      <td>10</td>\n",
       "      <td>0</td>\n",
       "      <td>91157</td>\n",
       "      <td>3254028001013</td>\n",
       "      <td>0</td>\n",
       "      <td>91157</td>\n",
       "      <td>3254028003001</td>\n",
       "      <td>0</td>\n",
       "      <td>1</td>\n",
       "      <td>1</td>\n",
       "      <td>2</td>\n",
       "      <td>1</td>\n",
       "      <td>1</td>\n",
       "      <td>medium</td>\n",
       "    </tr>\n",
       "    <tr>\n",
       "      <th>265484</th>\n",
       "      <td>2020</td>\n",
       "      <td>10</td>\n",
       "      <td>1</td>\n",
       "      <td>71171</td>\n",
       "      <td>3254026000014</td>\n",
       "      <td>1</td>\n",
       "      <td>71171</td>\n",
       "      <td>3254026000003</td>\n",
       "      <td>4</td>\n",
       "      <td>2</td>\n",
       "      <td>1</td>\n",
       "      <td>2</td>\n",
       "      <td>0</td>\n",
       "      <td>1</td>\n",
       "      <td>medium</td>\n",
       "    </tr>\n",
       "    <tr>\n",
       "      <th>265485</th>\n",
       "      <td>2020</td>\n",
       "      <td>10</td>\n",
       "      <td>0</td>\n",
       "      <td>91157</td>\n",
       "      <td>3254028004001</td>\n",
       "      <td>0</td>\n",
       "      <td>91157</td>\n",
       "      <td>3254028001013</td>\n",
       "      <td>3</td>\n",
       "      <td>0</td>\n",
       "      <td>0</td>\n",
       "      <td>2</td>\n",
       "      <td>2</td>\n",
       "      <td>1</td>\n",
       "      <td>medium</td>\n",
       "    </tr>\n",
       "  </tbody>\n",
       "</table>\n",
       "<p>265486 rows × 15 columns</p>\n",
       "</div>"
      ],
      "text/plain": [
       "        year  month  startClusterName  startClusterZip  startClusterID  \\\n",
       "0       2021      3                 1            71171   3254026000002   \n",
       "1       2021      3                 2            80982   3241013050002   \n",
       "2       2021      3                 2            80982   3241013050007   \n",
       "3       2021      3                 0            91157   3254028001012   \n",
       "4       2021      3                 0            91157   3254028001003   \n",
       "...      ...    ...               ...              ...             ...   \n",
       "265481  2020     10                 2            80982   3241013050001   \n",
       "265482  2020     10                 0            91157   3254028001012   \n",
       "265483  2020     10                 0            91157   3254028001013   \n",
       "265484  2020     10                 1            71171   3254026000014   \n",
       "265485  2020     10                 0            91157   3254028004001   \n",
       "\n",
       "        endClusterName  endClusterZip   endClusterID  weekday  daytime  \\\n",
       "0                    1          71171  3254026000007        0        1   \n",
       "1                    2          80982  3241013050008        3        0   \n",
       "2                    2          80982  3241013030001        5        1   \n",
       "3                    0          91157  3254028001004        2        0   \n",
       "4                    2          80982  3241013070001        2        2   \n",
       "...                ...            ...            ...      ...      ...   \n",
       "265481               2          80982  3241013080001        6        0   \n",
       "265482               0          91157  3254028001003        4        1   \n",
       "265483               0          91157  3254028003001        0        1   \n",
       "265484               1          71171  3254026000003        4        2   \n",
       "265485               0          91157  3254028001013        3        0   \n",
       "\n",
       "        isHoliday  distance  count  total total_categories  \n",
       "0               1         2      2      1           medium  \n",
       "1               1         0      1      0              low  \n",
       "2               1         2      1      1           medium  \n",
       "3               1         0      2      0              low  \n",
       "4               1         2      1      2             high  \n",
       "...           ...       ...    ...    ...              ...  \n",
       "265481          1         2      0      1           medium  \n",
       "265482          0         0      2      0              low  \n",
       "265483          1         2      1      1           medium  \n",
       "265484          1         2      0      1           medium  \n",
       "265485          0         2      2      1           medium  \n",
       "\n",
       "[265486 rows x 15 columns]"
      ]
     },
     "execution_count": 146,
     "metadata": {},
     "output_type": "execute_result"
    }
   ],
   "source": [
    "from sklearn import preprocessing\n",
    "labelenc = preprocessing.LabelEncoder()\n",
    "\n",
    "dfPrepared = df.copy()\n",
    "\n",
    "labelenc.fit(dfPrepared.weekday)\n",
    "dfPrepared['weekday'] = labelenc.transform(dfPrepared.weekday)\n",
    "labelenc.fit(dfPrepared.startClusterName)\n",
    "dfPrepared['startClusterName'] = labelenc.transform(dfPrepared.startClusterName)\n",
    "labelenc.fit(dfPrepared.endClusterName)\n",
    "dfPrepared['endClusterName'] = labelenc.transform(dfPrepared.endClusterName)\n",
    "labelenc.fit(dfPrepared.daytime)\n",
    "dfPrepared['daytime'] = labelenc.transform(dfPrepared.daytime)\n",
    "labelenc.fit(dfPrepared.isHoliday)\n",
    "dfPrepared['isHoliday'] = labelenc.transform(dfPrepared.isHoliday)\n",
    "dfPrepared.to_csv('prepared_data2.csv', index=False)\n",
    "\n",
    "dfPrepared"
   ]
  },
  {
   "cell_type": "markdown",
   "metadata": {},
   "source": [
    "## 4.4 Splitting into training & test data\n",
    "The target attribute is separated from the data frame. Training and test data are split in a ratio of 70:30. Using the \"stratify\" option, the distribution of the target attribute is identical to that in the source data."
   ]
  },
  {
   "cell_type": "code",
   "execution_count": 147,
   "metadata": {},
   "outputs": [],
   "source": [
    "from sklearn.model_selection import train_test_split\n",
    "\n",
    "# Définir la variable cible et les prédicteurs\n",
    "y_classification = dfPrepared['total_categories']\n",
    "y_regression = dfPrepared['total']\n",
    "X = dfPrepared.drop(['total'], axis=1).drop(['total_categories'], axis=1)\n",
    "\n",
    "\n",
    "# Séparation des données pour la classification\n",
    "X_train_class, X_test_class, y_train_class, y_test_class = train_test_split(\n",
    "    X, y_classification, test_size=0.2, random_state=42, stratify=y_classification)\n",
    "\n",
    "# Séparation des données pour la régression\n",
    "X_train_reg, X_test_reg, y_train_reg, y_test_reg = train_test_split(\n",
    "    X, y_regression, test_size=0.2, random_state=42)\n"
   ]
  },
  {
   "cell_type": "code",
   "execution_count": 148,
   "metadata": {
    "scrolled": true
   },
   "outputs": [],
   "source": [
    "# from sklearn.model_selection import train_test_split\n",
    "\n",
    "# x = dfPrepared.drop(['total'], axis = 1)\n",
    "# y = dfPrepared['total']\n",
    "\n",
    "# x_train, x_test, y_train, y_test = train_test_split(x, y,\n",
    "#                                     random_state = 101, stratify = y, test_size = 0.2)"
   ]
  },
  {
   "cell_type": "markdown",
   "metadata": {},
   "source": [
    "## 4.5 Decision Tree model\n",
    "For example, a decision tree is trained with the split data set and then evaluated on the test data. "
   ]
  },
  {
   "cell_type": "code",
   "execution_count": 149,
   "metadata": {},
   "outputs": [],
   "source": [
    "from sklearn.tree import DecisionTreeClassifier\n",
    "from sklearn.metrics import classification_report, confusion_matrix, roc_curve, auc\n",
    "\n",
    "# Entraîner le modèle\n",
    "dt_classifier = DecisionTreeClassifier(random_state=42)\n",
    "dt_classifier.fit(X_train_class, y_train_class)\n",
    "\n",
    "# Prédictions\n",
    "y_pred_class = dt_classifier.predict(X_test_class)\n",
    "\n"
   ]
  },
  {
   "cell_type": "code",
   "execution_count": 121,
   "metadata": {},
   "outputs": [],
   "source": [
    "# from sklearn.tree import DecisionTreeClassifier\n",
    "\n",
    "# dt_model = DecisionTreeClassifier(random_state = 10)\n",
    "# dt_model.fit(x_train, y_train)\n",
    "\n",
    "# y_pred = dt_model.predict(x_test)\n"
   ]
  },
  {
   "cell_type": "markdown",
   "metadata": {},
   "source": [
    "## 4.6 Evaluation of the model\n",
    "This is followed by the evaluation of the model on the test data."
   ]
  },
  {
   "cell_type": "code",
   "execution_count": 150,
   "metadata": {},
   "outputs": [
    {
     "name": "stdout",
     "output_type": "stream",
     "text": [
      "              precision    recall  f1-score   support\n",
      "\n",
      "        high       0.49      0.16      0.24      5053\n",
      "         low       0.85      0.91      0.88     22826\n",
      "      medium       0.78      0.83      0.81     25219\n",
      "\n",
      "    accuracy                           0.80     53098\n",
      "   macro avg       0.71      0.64      0.64     53098\n",
      "weighted avg       0.78      0.80      0.78     53098\n",
      "\n",
      "Confusion Matrix:\n",
      " [[  818   285  3950]\n",
      " [    2 20845  1979]\n",
      " [  858  3343 21018]]\n"
     ]
    }
   ],
   "source": [
    "from sklearn.metrics import classification_report\n",
    "\n",
    "# Évaluation\n",
    "print(classification_report(y_test_class, y_pred_class))\n",
    "print(\"Confusion Matrix:\\n\", confusion_matrix(y_test_class, y_pred_class))"
   ]
  },
  {
   "cell_type": "markdown",
   "metadata": {},
   "source": [
    "The absolute distribution is shown in the form of a confusion matrix."
   ]
  },
  {
   "cell_type": "code",
   "execution_count": 152,
   "metadata": {},
   "outputs": [],
   "source": [
    "# from sklearn.metrics import confusion_matrix\n",
    "\n",
    "# print(confusion_matrix(y_test, y_pred))"
   ]
  },
  {
   "cell_type": "markdown",
   "metadata": {},
   "source": [
    "How would you rate the quality of the model?"
   ]
  },
  {
   "cell_type": "markdown",
   "metadata": {},
   "source": [
    "# 4.6.1 Error Rate"
   ]
  },
  {
   "cell_type": "markdown",
   "metadata": {},
   "source": [
    "Now we want to calculate the error rate of our classifier. You can simply calculate it using the confusion matrix (we simply add up the misclassified ones and divide by n) or with y_pred and y_test."
   ]
  },
  {
   "cell_type": "code",
   "execution_count": 153,
   "metadata": {},
   "outputs": [
    {
     "name": "stdout",
     "output_type": "stream",
     "text": [
      "Error rate: 0.54%\n"
     ]
    }
   ],
   "source": [
    "# simple logic but more lines of code\n",
    "# X_train_class, X_test_class, y_train_class, y_test_class = train_test_split(\n",
    "#     X, y_classification, test_size=0.2, random_state=42, stratify=y_classification)\n",
    "from sklearn.metrics import confusion_matrix\n",
    "\n",
    "# Calculate the confusion matrix\n",
    "cm = confusion_matrix(y_test_class, y_pred_class)\n",
    "\n",
    "# False positives are generally the value in the first row, second column of the confusion matrix\n",
    "false_positives = cm[0, 1]\n",
    "\n",
    "# False negatives are generally the value in the second row, first column of the confusion matrix\n",
    "false_negatives = cm[1, 0]\n",
    "\n",
    "# Add up false positives and false negatives\n",
    "total_errors = false_positives + false_negatives\n",
    "\n",
    "# Calculate the total number of predictions\n",
    "total_predictions = cm.sum()\n",
    "\n",
    "# Calculate the error rate\n",
    "error_rate = (total_errors / total_predictions) * 100\n",
    "\n",
    "print(f\"Error rate: {error_rate:.2f}%\")"
   ]
  },
  {
   "cell_type": "code",
   "execution_count": 99,
   "metadata": {},
   "outputs": [
    {
     "name": "stdout",
     "output_type": "stream",
     "text": [
      "Error Rate: 19.31%\n"
     ]
    }
   ],
   "source": [
    "# also possible, less lines of code\n",
    "# Calculate the number of incorrect predictions\n",
    "incorrect_predictions = (y_pred_class != y_test_class).sum()\n",
    "\n",
    "# Calculate the total number of predictions\n",
    "total_predictions = y_test.shape[0]\n",
    "\n",
    "# Calculate the error rate\n",
    "error_rate = (incorrect_predictions / total_predictions) * 100\n",
    "\n",
    "print(f\"Error Rate: {error_rate:.2f}%\")"
   ]
  },
  {
   "cell_type": "markdown",
   "metadata": {},
   "source": [
    "# 4.6.2 derive information from the confusion matrix"
   ]
  },
  {
   "cell_type": "markdown",
   "metadata": {},
   "source": [
    "We do have the classification report, but I personally find it sometimes cumbersome to read and perhaps we only want to know a certain key figure. simply replace the variables a-i"
   ]
  },
  {
   "cell_type": "code",
   "execution_count": 100,
   "metadata": {},
   "outputs": [
    {
     "name": "stdout",
     "output_type": "stream",
     "text": [
      "0.7947003653621605\n",
      "0.2052996346378395\n",
      "0.8655373213340392\n",
      "0.08253745728555156\n"
     ]
    }
   ],
   "source": [
    "# simple logic but more lines of code\n",
    "from sklearn.metrics import confusion_matrix\n",
    "\n",
    "# Calculate the confusion matrix\n",
    "cm = confusion_matrix(y_test, y_pred)\n",
    "\n",
    "# False positives are generally the value in the first row, second column of the confusion matrix\n",
    "false_positives = cm[0, 1]\n",
    "\n",
    "# False negatives are generally the value in the second row, first column of the confusion matrix\n",
    "false_negatives = cm[1, 0]\n",
    "\n",
    "# true negatives are generally the value in the first row, first column of the confusion matrix\n",
    "true_negatives = cm[0, 0]\n",
    "\n",
    "# true positives are generally the value in the second row, second column of the confusion matrix\n",
    "true_positives = cm[1, 1]\n",
    "\n",
    "# calculate the key figures now. just look at the formulae.\n",
    "\n",
    "#Accuracy\n",
    "Accuracy = (true_positives + true_negatives)/ (cm.sum())\n",
    "print (Accuracy)\n",
    "\n",
    "#Missclassification Rate (Accuracy + Missclassification Rate = 1)\n",
    "Missclassification_Rate = 1 - Accuracy\n",
    "print (Missclassification_Rate)\n",
    "\n",
    "# True positive Rate\n",
    "TruePositive_Rate = true_positives /(true_positives + false_negatives)\n",
    "print (TruePositive_Rate)\n",
    "\n",
    "# True negative Rate\n",
    "TrueNegative_Rate = false_positives /(false_positives + true_negatives)\n",
    "print (TrueNegative_Rate)"
   ]
  },
  {
   "cell_type": "markdown",
   "metadata": {},
   "source": [
    "# 4.6.3 ROC Curve"
   ]
  },
  {
   "cell_type": "markdown",
   "metadata": {},
   "source": [
    "This is how the ROC Curve of an perfect classifier looks like. ignore the code."
   ]
  },
  {
   "cell_type": "code",
   "execution_count": 151,
   "metadata": {},
   "outputs": [
    {
     "data": {
      "image/png": "[encoded data removed]",
      "text/plain": [
       "<Figure size 640x480 with 1 Axes>"
      ]
     },
     "metadata": {},
     "output_type": "display_data"
    }
   ],
   "source": [
    "# Courbe ROC\n",
    "from sklearn.preprocessing import label_binarize\n",
    "y_test_class_binarized = label_binarize(y_test_class, classes=['low', 'medium', 'high'])\n",
    "y_scores = dt_classifier.predict_proba(X_test_class)\n",
    "\n",
    "for i, label in enumerate(['low', 'medium', 'high']):\n",
    "    fpr, tpr, thresholds = roc_curve(y_test_class_binarized[:, i], y_scores[:, i])\n",
    "    plt.plot(fpr, tpr, label=f\"ROC Curve for {label} (AUC = {auc(fpr, tpr):.2f})\")\n",
    "\n",
    "plt.xlabel(\"Taux de Faux Positifs\")\n",
    "plt.ylabel(\"Taux de Vrais Positifs\")\n",
    "plt.title(\"Courbes ROC\")\n",
    "plt.legend(loc=\"best\")\n",
    "plt.grid()\n",
    "plt.show()"
   ]
  },
  {
   "cell_type": "code",
   "execution_count": 101,
   "metadata": {},
   "outputs": [
    {
     "data": {
      "image/png": "[encoded data removed]",
      "text/plain": [
       "<Figure size 640x480 with 1 Axes>"
      ]
     },
     "metadata": {},
     "output_type": "display_data"
    }
   ],
   "source": [
    "# import matplotlib.pyplot as plt\n",
    "# from sklearn.metrics import roc_curve, auc\n",
    "\n",
    "# # Simulate perfect classifier scores\n",
    "# # We assume scores are perfect, such that all positives are ranked higher than all negatives\n",
    "# y_true = [0, 0, 1, 1]  # Actual classes\n",
    "# y_scores = [0, 0.1, 0.9, 1]  # Predicted scores\n",
    "\n",
    "# # Compute the ROC curve\n",
    "# fpr, tpr, thresholds = roc_curve(y_true, y_scores)\n",
    "# roc_auc = auc(fpr, tpr)\n",
    "\n",
    "# # Plotting the ROC curve\n",
    "# plt.figure()\n",
    "# plt.plot(fpr, tpr, color='darkorange', lw=2, label='Perfect ROC curve (area = %0.2f)' % roc_auc)\n",
    "# plt.plot([0, 1], [0, 1], color='navy', lw=2, linestyle='--')\n",
    "# plt.xlim([0.0, 1.0])\n",
    "# plt.ylim([0.0, 1.05])\n",
    "# plt.xlabel('False Positive Rate')\n",
    "# plt.ylabel('True Positive Rate')\n",
    "# plt.title('Receiver Operating Characteristic')\n",
    "# plt.legend(loc=\"lower right\")\n",
    "# plt.show()"
   ]
  },
  {
   "cell_type": "markdown",
   "metadata": {},
   "source": [
    "### the better the classifier, the stronger the curve in the upper left corner"
   ]
  },
  {
   "cell_type": "markdown",
   "metadata": {},
   "source": [
    "### let's look at our roc curve now"
   ]
  },
  {
   "cell_type": "code",
   "execution_count": 102,
   "metadata": {},
   "outputs": [
    {
     "ename": "ValueError",
     "evalue": "multiclass format is not supported",
     "output_type": "error",
     "traceback": [
      "\u001b[0;31m---------------------------------------------------------------------------\u001b[0m",
      "\u001b[0;31mValueError\u001b[0m                                Traceback (most recent call last)",
      "Cell \u001b[0;32mIn[102], line 8\u001b[0m\n\u001b[1;32m      5\u001b[0m y_scores \u001b[38;5;241m=\u001b[39m dt_model\u001b[38;5;241m.\u001b[39mpredict_proba(x_test)[:, \u001b[38;5;241m1\u001b[39m]  \u001b[38;5;66;03m# get the probabilities of the positive class\u001b[39;00m\n\u001b[1;32m      7\u001b[0m \u001b[38;5;66;03m# Compute the ROC curve and the AUC (Area Under Curve)\u001b[39;00m\n\u001b[0;32m----> 8\u001b[0m fpr, tpr, thresholds \u001b[38;5;241m=\u001b[39m \u001b[43mroc_curve\u001b[49m\u001b[43m(\u001b[49m\u001b[43my_test\u001b[49m\u001b[43m,\u001b[49m\u001b[43m \u001b[49m\u001b[43my_scores\u001b[49m\u001b[43m)\u001b[49m\n\u001b[1;32m      9\u001b[0m roc_auc \u001b[38;5;241m=\u001b[39m auc(fpr, tpr)\n\u001b[1;32m     11\u001b[0m \u001b[38;5;66;03m# Plotting the ROC curve\u001b[39;00m\n",
      "File \u001b[0;32m/opt/conda/lib/python3.11/site-packages/sklearn/utils/_param_validation.py:213\u001b[0m, in \u001b[0;36mvalidate_params.<locals>.decorator.<locals>.wrapper\u001b[0;34m(*args, **kwargs)\u001b[0m\n\u001b[1;32m    207\u001b[0m \u001b[38;5;28;01mtry\u001b[39;00m:\n\u001b[1;32m    208\u001b[0m     \u001b[38;5;28;01mwith\u001b[39;00m config_context(\n\u001b[1;32m    209\u001b[0m         skip_parameter_validation\u001b[38;5;241m=\u001b[39m(\n\u001b[1;32m    210\u001b[0m             prefer_skip_nested_validation \u001b[38;5;129;01mor\u001b[39;00m global_skip_validation\n\u001b[1;32m    211\u001b[0m         )\n\u001b[1;32m    212\u001b[0m     ):\n\u001b[0;32m--> 213\u001b[0m         \u001b[38;5;28;01mreturn\u001b[39;00m \u001b[43mfunc\u001b[49m\u001b[43m(\u001b[49m\u001b[38;5;241;43m*\u001b[39;49m\u001b[43margs\u001b[49m\u001b[43m,\u001b[49m\u001b[43m \u001b[49m\u001b[38;5;241;43m*\u001b[39;49m\u001b[38;5;241;43m*\u001b[39;49m\u001b[43mkwargs\u001b[49m\u001b[43m)\u001b[49m\n\u001b[1;32m    214\u001b[0m \u001b[38;5;28;01mexcept\u001b[39;00m InvalidParameterError \u001b[38;5;28;01mas\u001b[39;00m e:\n\u001b[1;32m    215\u001b[0m     \u001b[38;5;66;03m# When the function is just a wrapper around an estimator, we allow\u001b[39;00m\n\u001b[1;32m    216\u001b[0m     \u001b[38;5;66;03m# the function to delegate validation to the estimator, but we replace\u001b[39;00m\n\u001b[1;32m    217\u001b[0m     \u001b[38;5;66;03m# the name of the estimator by the name of the function in the error\u001b[39;00m\n\u001b[1;32m    218\u001b[0m     \u001b[38;5;66;03m# message to avoid confusion.\u001b[39;00m\n\u001b[1;32m    219\u001b[0m     msg \u001b[38;5;241m=\u001b[39m re\u001b[38;5;241m.\u001b[39msub(\n\u001b[1;32m    220\u001b[0m         \u001b[38;5;124mr\u001b[39m\u001b[38;5;124m\"\u001b[39m\u001b[38;5;124mparameter of \u001b[39m\u001b[38;5;124m\\\u001b[39m\u001b[38;5;124mw+ must be\u001b[39m\u001b[38;5;124m\"\u001b[39m,\n\u001b[1;32m    221\u001b[0m         \u001b[38;5;124mf\u001b[39m\u001b[38;5;124m\"\u001b[39m\u001b[38;5;124mparameter of \u001b[39m\u001b[38;5;132;01m{\u001b[39;00mfunc\u001b[38;5;241m.\u001b[39m\u001b[38;5;18m__qualname__\u001b[39m\u001b[38;5;132;01m}\u001b[39;00m\u001b[38;5;124m must be\u001b[39m\u001b[38;5;124m\"\u001b[39m,\n\u001b[1;32m    222\u001b[0m         \u001b[38;5;28mstr\u001b[39m(e),\n\u001b[1;32m    223\u001b[0m     )\n",
      "File \u001b[0;32m/opt/conda/lib/python3.11/site-packages/sklearn/metrics/_ranking.py:1145\u001b[0m, in \u001b[0;36mroc_curve\u001b[0;34m(y_true, y_score, pos_label, sample_weight, drop_intermediate)\u001b[0m\n\u001b[1;32m   1043\u001b[0m \u001b[38;5;129m@validate_params\u001b[39m(\n\u001b[1;32m   1044\u001b[0m     {\n\u001b[1;32m   1045\u001b[0m         \u001b[38;5;124m\"\u001b[39m\u001b[38;5;124my_true\u001b[39m\u001b[38;5;124m\"\u001b[39m: [\u001b[38;5;124m\"\u001b[39m\u001b[38;5;124marray-like\u001b[39m\u001b[38;5;124m\"\u001b[39m],\n\u001b[0;32m   (...)\u001b[0m\n\u001b[1;32m   1054\u001b[0m     y_true, y_score, \u001b[38;5;241m*\u001b[39m, pos_label\u001b[38;5;241m=\u001b[39m\u001b[38;5;28;01mNone\u001b[39;00m, sample_weight\u001b[38;5;241m=\u001b[39m\u001b[38;5;28;01mNone\u001b[39;00m, drop_intermediate\u001b[38;5;241m=\u001b[39m\u001b[38;5;28;01mTrue\u001b[39;00m\n\u001b[1;32m   1055\u001b[0m ):\n\u001b[1;32m   1056\u001b[0m \u001b[38;5;250m    \u001b[39m\u001b[38;5;124;03m\"\"\"Compute Receiver operating characteristic (ROC).\u001b[39;00m\n\u001b[1;32m   1057\u001b[0m \n\u001b[1;32m   1058\u001b[0m \u001b[38;5;124;03m    Note: this implementation is restricted to the binary classification task.\u001b[39;00m\n\u001b[0;32m   (...)\u001b[0m\n\u001b[1;32m   1143\u001b[0m \u001b[38;5;124;03m    array([ inf, 0.8 , 0.4 , 0.35, 0.1 ])\u001b[39;00m\n\u001b[1;32m   1144\u001b[0m \u001b[38;5;124;03m    \"\"\"\u001b[39;00m\n\u001b[0;32m-> 1145\u001b[0m     fps, tps, thresholds \u001b[38;5;241m=\u001b[39m \u001b[43m_binary_clf_curve\u001b[49m\u001b[43m(\u001b[49m\n\u001b[1;32m   1146\u001b[0m \u001b[43m        \u001b[49m\u001b[43my_true\u001b[49m\u001b[43m,\u001b[49m\u001b[43m \u001b[49m\u001b[43my_score\u001b[49m\u001b[43m,\u001b[49m\u001b[43m \u001b[49m\u001b[43mpos_label\u001b[49m\u001b[38;5;241;43m=\u001b[39;49m\u001b[43mpos_label\u001b[49m\u001b[43m,\u001b[49m\u001b[43m \u001b[49m\u001b[43msample_weight\u001b[49m\u001b[38;5;241;43m=\u001b[39;49m\u001b[43msample_weight\u001b[49m\n\u001b[1;32m   1147\u001b[0m \u001b[43m    \u001b[49m\u001b[43m)\u001b[49m\n\u001b[1;32m   1149\u001b[0m     \u001b[38;5;66;03m# Attempt to drop thresholds corresponding to points in between and\u001b[39;00m\n\u001b[1;32m   1150\u001b[0m     \u001b[38;5;66;03m# collinear with other points. These are always suboptimal and do not\u001b[39;00m\n\u001b[1;32m   1151\u001b[0m     \u001b[38;5;66;03m# appear on a plotted ROC curve (and thus do not affect the AUC).\u001b[39;00m\n\u001b[0;32m   (...)\u001b[0m\n\u001b[1;32m   1156\u001b[0m     \u001b[38;5;66;03m# but does not drop more complicated cases like fps = [1, 3, 7],\u001b[39;00m\n\u001b[1;32m   1157\u001b[0m     \u001b[38;5;66;03m# tps = [1, 2, 4]; there is no harm in keeping too many thresholds.\u001b[39;00m\n\u001b[1;32m   1158\u001b[0m     \u001b[38;5;28;01mif\u001b[39;00m drop_intermediate \u001b[38;5;129;01mand\u001b[39;00m \u001b[38;5;28mlen\u001b[39m(fps) \u001b[38;5;241m>\u001b[39m \u001b[38;5;241m2\u001b[39m:\n",
      "File \u001b[0;32m/opt/conda/lib/python3.11/site-packages/sklearn/metrics/_ranking.py:817\u001b[0m, in \u001b[0;36m_binary_clf_curve\u001b[0;34m(y_true, y_score, pos_label, sample_weight)\u001b[0m\n\u001b[1;32m    815\u001b[0m y_type \u001b[38;5;241m=\u001b[39m type_of_target(y_true, input_name\u001b[38;5;241m=\u001b[39m\u001b[38;5;124m\"\u001b[39m\u001b[38;5;124my_true\u001b[39m\u001b[38;5;124m\"\u001b[39m)\n\u001b[1;32m    816\u001b[0m \u001b[38;5;28;01mif\u001b[39;00m \u001b[38;5;129;01mnot\u001b[39;00m (y_type \u001b[38;5;241m==\u001b[39m \u001b[38;5;124m\"\u001b[39m\u001b[38;5;124mbinary\u001b[39m\u001b[38;5;124m\"\u001b[39m \u001b[38;5;129;01mor\u001b[39;00m (y_type \u001b[38;5;241m==\u001b[39m \u001b[38;5;124m\"\u001b[39m\u001b[38;5;124mmulticlass\u001b[39m\u001b[38;5;124m\"\u001b[39m \u001b[38;5;129;01mand\u001b[39;00m pos_label \u001b[38;5;129;01mis\u001b[39;00m \u001b[38;5;129;01mnot\u001b[39;00m \u001b[38;5;28;01mNone\u001b[39;00m)):\n\u001b[0;32m--> 817\u001b[0m     \u001b[38;5;28;01mraise\u001b[39;00m \u001b[38;5;167;01mValueError\u001b[39;00m(\u001b[38;5;124m\"\u001b[39m\u001b[38;5;132;01m{0}\u001b[39;00m\u001b[38;5;124m format is not supported\u001b[39m\u001b[38;5;124m\"\u001b[39m\u001b[38;5;241m.\u001b[39mformat(y_type))\n\u001b[1;32m    819\u001b[0m check_consistent_length(y_true, y_score, sample_weight)\n\u001b[1;32m    820\u001b[0m y_true \u001b[38;5;241m=\u001b[39m column_or_1d(y_true)\n",
      "\u001b[0;31mValueError\u001b[0m: multiclass format is not supported"
     ]
    }
   ],
   "source": [
    "import matplotlib.pyplot as plt\n",
    "from sklearn.metrics import roc_curve, auc\n",
    "\n",
    "# First, you need to predict the probabilities instead of the class labels\n",
    "y_scores = dt_model.predict_proba(x_test)[:, 1]  # get the probabilities of the positive class\n",
    "\n",
    "# Compute the ROC curve and the AUC (Area Under Curve)\n",
    "fpr, tpr, thresholds = roc_curve(y_test, y_scores)\n",
    "roc_auc = auc(fpr, tpr)\n",
    "\n",
    "# Plotting the ROC curve\n",
    "plt.figure()\n",
    "plt.plot(fpr, tpr, color='darkorange', lw=2, label='ROC curve (area = %0.2f)' % roc_auc)\n",
    "plt.plot([0, 1], [0, 1], color='navy', lw=2, linestyle='--')\n",
    "plt.xlim([0.0, 1.0])\n",
    "plt.ylim([0.0, 1.05])\n",
    "plt.xlabel('False Positive Rate')\n",
    "plt.ylabel('True Positive Rate')\n",
    "plt.title('Receiver Operating Characteristic')\n",
    "plt.legend(loc=\"lower right\")\n",
    "plt.show()"
   ]
  },
  {
   "cell_type": "markdown",
   "metadata": {},
   "source": [
    "## 4.7 k-fold Cross-Validation\n",
    "Step 5 is repeated with a k-fold cross validation with k = 10. Previously, the score only referred to one test data set. Cross-validation generates 10 scores through 10 iterations. The mean value of the scores is then displayed."
   ]
  },
  {
   "cell_type": "code",
   "execution_count": 51,
   "metadata": {},
   "outputs": [
    {
     "data": {
      "text/plain": [
       "1.0"
      ]
     },
     "execution_count": 51,
     "metadata": {},
     "output_type": "execute_result"
    }
   ],
   "source": [
    "from sklearn.model_selection import cross_validate\n",
    "\n",
    "scores = cross_validate(estimator = dt_model, X = x, y = y, cv = 10, n_jobs = 4,\n",
    "                        return_estimator = True, return_train_score = True)\n",
    "\n",
    "dfScores = pd.DataFrame.from_dict(scores)\n",
    "dfScores['test_score'].mean()"
   ]
  },
  {
   "cell_type": "markdown",
   "metadata": {},
   "source": [
    "Now compare the cross-validation score with the one above. What does the difference tell you? Display the individual scores."
   ]
  },
  {
   "cell_type": "code",
   "execution_count": null,
   "metadata": {},
   "outputs": [],
   "source": [
    "# space"
   ]
  },
  {
   "cell_type": "markdown",
   "metadata": {},
   "source": [
    "### Why should you not test the leave-one-out variant?"
   ]
  },
  {
   "cell_type": "code",
   "execution_count": null,
   "metadata": {},
   "outputs": [],
   "source": [
    "# space"
   ]
  },
  {
   "cell_type": "markdown",
   "metadata": {},
   "source": [
    "# Additional Excercise: let's evaluate a regression\n",
    "I have only created an exemplary regression here. you can ignore the code."
   ]
  },
  {
   "cell_type": "code",
   "execution_count": 52,
   "metadata": {},
   "outputs": [
    {
     "data": {
      "image/png": "[encoded data removed]",
      "text/plain": [
       "<Figure size 640x480 with 1 Axes>"
      ]
     },
     "metadata": {},
     "output_type": "display_data"
    }
   ],
   "source": [
    "import numpy as np\n",
    "import matplotlib.pyplot as plt\n",
    "from sklearn.model_selection import train_test_split\n",
    "from sklearn.linear_model import LinearRegression\n",
    "\n",
    "np.random.seed(0)\n",
    "X = 2.5 * np.random.randn(100) + 1.5   \n",
    "res = 0.5 * np.random.randn(100)       \n",
    "y = 2 + 0.3 * X + res                 \n",
    "\n",
    "X_train, X_test, y_train, y_test = train_test_split(X.reshape(-1,1), y, test_size=0.2, random_state=0)\n",
    "\n",
    "model = LinearRegression()\n",
    "model.fit(X_train, y_train)\n",
    "\n",
    "line_x = np.linspace(min(X_train), max(X_train), 100)\n",
    "line_y = model.intercept_ + model.coef_ * line_x\n",
    "\n",
    "plt.scatter(X_train, y_train, color='blue', label='Trainingsdaten')\n",
    "plt.scatter(X_test, y_test, color='green', label='Testdaten')\n",
    "plt.plot(line_x, line_y, color='red', label='Regressionslinie')\n",
    "plt.title('Lineare Regression')\n",
    "plt.xlabel('X')\n",
    "plt.ylabel('y')\n",
    "plt.legend()\n",
    "plt.show()\n"
   ]
  },
  {
   "cell_type": "markdown",
   "metadata": {},
   "source": [
    "### we do not derive the key figures here from other figures, but calculate them directly with python libraries "
   ]
  },
  {
   "cell_type": "code",
   "execution_count": 53,
   "metadata": {},
   "outputs": [
    {
     "name": "stdout",
     "output_type": "stream",
     "text": [
      "Mean Squared Error: 0.245222733362597\n"
     ]
    }
   ],
   "source": [
    "from sklearn.metrics import mean_squared_error\n",
    "\n",
    "# Make predictions on the test data\n",
    "y_pred = model.predict(X_test)\n",
    "\n",
    "# calculate Mean Squared Error (MSE) \n",
    "mse = mean_squared_error(y_test, y_pred)\n",
    "print(\"Mean Squared Error:\", mse)"
   ]
  },
  {
   "cell_type": "markdown",
   "metadata": {},
   "source": [
    "I think the RMSE is even cooler because the RMSE is in the same unit as the data points. you can simply take the root of the MSE."
   ]
  },
  {
   "cell_type": "code",
   "execution_count": 54,
   "metadata": {},
   "outputs": [
    {
     "name": "stdout",
     "output_type": "stream",
     "text": [
      "Root Mean Squared Error: 0.4951996903902475\n"
     ]
    }
   ],
   "source": [
    "import numpy as np\n",
    "\n",
    "rmse = np.sqrt(mse)\n",
    "print(\"Root Mean Squared Error:\", rmse)"
   ]
  },
  {
   "cell_type": "code",
   "execution_count": 55,
   "metadata": {},
   "outputs": [
    {
     "name": "stdout",
     "output_type": "stream",
     "text": [
      "Mean Absolute Percentage Error: 0.1742962792727952\n"
     ]
    }
   ],
   "source": [
    "from sklearn.metrics import mean_absolute_percentage_error\n",
    "\n",
    "#calculate Mean Absolute Percentage Error (MAPE) \n",
    "mape = mean_absolute_percentage_error(y_test, y_pred)\n",
    "print(\"Mean Absolute Percentage Error:\", mape)"
   ]
  },
  {
   "cell_type": "code",
   "execution_count": 56,
   "metadata": {},
   "outputs": [
    {
     "name": "stdout",
     "output_type": "stream",
     "text": [
      "R^2 Score: 0.6280065468471038\n"
     ]
    }
   ],
   "source": [
    "from sklearn.metrics import r2_score\n",
    "# calculate R^2 Score \n",
    "r2 = r2_score(y_test, y_pred)\n",
    "print(\"R^2 Score:\", r2)"
   ]
  },
  {
   "cell_type": "code",
   "execution_count": null,
   "metadata": {},
   "outputs": [],
   "source": []
  }
 ],
 "metadata": {
  "kernelspec": {
   "display_name": "Python 3 (ipykernel)",
   "language": "python",
   "name": "python3"
  },
  "language_info": {
   "codemirror_mode": {
    "name": "ipython",
    "version": 3
   },
   "file_extension": ".py",
   "mimetype": "text/x-python",
   "name": "python",
   "nbconvert_exporter": "python",
   "pygments_lexer": "ipython3",
   "version": "3.11.9"
  }
 },
 "nbformat": 4,
 "nbformat_minor": 4
}
