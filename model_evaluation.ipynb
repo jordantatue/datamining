{
 "cells": [
  {
   "cell_type": "raw",
   "metadata": {
    "vscode": {
     "languageId": "raw"
    }
   },
   "source": [
    "---\n",
    "title: Data Mining Exercise 4 - Data preparation, model training and evaluation\n",
    "exercise-number: 4\n",
    "other-links:\n",
    "  - text: Exercise 4 \n",
    "    href: \"../../../../_aufgaben/Aufgabenblaetter/4/04_Customer_data_DT_student.pdf\"\n",
    "    icon: file-pdf\n",
    "code-links:\n",
    "  - text: Exercise 4 \n",
    "    href: \"../../../../_aufgaben/Aufgabenblaetter/4/04_Customer_data_DT_student.ipynb\"\n",
    "    type: \"application/octet-stream\"\n",
    "    icon: file-code\n",
    "downloads: [ipynb]\n",
    "---\n"
   ]
  },
  {
   "cell_type": "markdown",
   "metadata": {},
   "source": [
    "# Exercise 4 - Data preparation, model training and evaluation\n",
    "\n",
    "Necessary libraries are being loaded."
   ]
  },
  {
   "cell_type": "code",
   "execution_count": 2,
   "metadata": {
    "scrolled": true
   },
   "outputs": [],
   "source": [
    "import pandas as pd\n",
    "import numpy as np\n",
    "import matplotlib.pyplot as plt"
   ]
  },
  {
   "cell_type": "markdown",
   "metadata": {},
   "source": [
    "Read in the customer data again and enter the first lines."
   ]
  },
  {
   "cell_type": "code",
   "execution_count": 3,
   "metadata": {},
   "outputs": [
    {
     "data": {
      "text/html": [
       "<div>\n",
       "<style scoped>\n",
       "    .dataframe tbody tr th:only-of-type {\n",
       "        vertical-align: middle;\n",
       "    }\n",
       "\n",
       "    .dataframe tbody tr th {\n",
       "        vertical-align: top;\n",
       "    }\n",
       "\n",
       "    .dataframe thead th {\n",
       "        text-align: right;\n",
       "    }\n",
       "</style>\n",
       "<table border=\"1\" class=\"dataframe\">\n",
       "  <thead>\n",
       "    <tr style=\"text-align: right;\">\n",
       "      <th></th>\n",
       "      <th>weekday</th>\n",
       "      <th>daytime</th>\n",
       "      <th>isHoliday</th>\n",
       "      <th>distance</th>\n",
       "      <th>count</th>\n",
       "      <th>startClusterName</th>\n",
       "      <th>startClusterZip</th>\n",
       "      <th>startClusterID</th>\n",
       "      <th>endClusterName</th>\n",
       "      <th>endClusterZip</th>\n",
       "      <th>endClusterID</th>\n",
       "      <th>year</th>\n",
       "      <th>month</th>\n",
       "      <th>total</th>\n",
       "    </tr>\n",
       "  </thead>\n",
       "  <tbody>\n",
       "    <tr>\n",
       "      <th>0</th>\n",
       "      <td>Di</td>\n",
       "      <td>7</td>\n",
       "      <td>0</td>\n",
       "      <td>3</td>\n",
       "      <td>15</td>\n",
       "      <td>Hunedoara</td>\n",
       "      <td>71171</td>\n",
       "      <td>3254026000002</td>\n",
       "      <td>Hunedoara</td>\n",
       "      <td>71171</td>\n",
       "      <td>3254026000007</td>\n",
       "      <td>2021</td>\n",
       "      <td>3</td>\n",
       "      <td>45</td>\n",
       "    </tr>\n",
       "    <tr>\n",
       "      <th>1</th>\n",
       "      <td>Mi</td>\n",
       "      <td>17</td>\n",
       "      <td>0</td>\n",
       "      <td>0</td>\n",
       "      <td>10</td>\n",
       "      <td>Turda</td>\n",
       "      <td>80982</td>\n",
       "      <td>3241013050002</td>\n",
       "      <td>Turda</td>\n",
       "      <td>80982</td>\n",
       "      <td>3241013050008</td>\n",
       "      <td>2021</td>\n",
       "      <td>3</td>\n",
       "      <td>0</td>\n",
       "    </tr>\n",
       "    <tr>\n",
       "      <th>2</th>\n",
       "      <td>Sa</td>\n",
       "      <td>11</td>\n",
       "      <td>0</td>\n",
       "      <td>3</td>\n",
       "      <td>10</td>\n",
       "      <td>Turda</td>\n",
       "      <td>80982</td>\n",
       "      <td>3241013050007</td>\n",
       "      <td>Turda</td>\n",
       "      <td>80982</td>\n",
       "      <td>3241013030001</td>\n",
       "      <td>2021</td>\n",
       "      <td>3</td>\n",
       "      <td>30</td>\n",
       "    </tr>\n",
       "    <tr>\n",
       "      <th>3</th>\n",
       "      <td>Fr</td>\n",
       "      <td>13</td>\n",
       "      <td>0</td>\n",
       "      <td>0</td>\n",
       "      <td>15</td>\n",
       "      <td>Bran</td>\n",
       "      <td>91157</td>\n",
       "      <td>3254028001012</td>\n",
       "      <td>Bran</td>\n",
       "      <td>91157</td>\n",
       "      <td>3254028001004</td>\n",
       "      <td>2021</td>\n",
       "      <td>3</td>\n",
       "      <td>0</td>\n",
       "    </tr>\n",
       "    <tr>\n",
       "      <th>4</th>\n",
       "      <td>Fr</td>\n",
       "      <td>18</td>\n",
       "      <td>0</td>\n",
       "      <td>7</td>\n",
       "      <td>10</td>\n",
       "      <td>Bran</td>\n",
       "      <td>91157</td>\n",
       "      <td>3254028001003</td>\n",
       "      <td>Turda</td>\n",
       "      <td>80982</td>\n",
       "      <td>3241013070001</td>\n",
       "      <td>2021</td>\n",
       "      <td>3</td>\n",
       "      <td>70</td>\n",
       "    </tr>\n",
       "    <tr>\n",
       "      <th>...</th>\n",
       "      <td>...</td>\n",
       "      <td>...</td>\n",
       "      <td>...</td>\n",
       "      <td>...</td>\n",
       "      <td>...</td>\n",
       "      <td>...</td>\n",
       "      <td>...</td>\n",
       "      <td>...</td>\n",
       "      <td>...</td>\n",
       "      <td>...</td>\n",
       "      <td>...</td>\n",
       "      <td>...</td>\n",
       "      <td>...</td>\n",
       "      <td>...</td>\n",
       "    </tr>\n",
       "    <tr>\n",
       "      <th>277022</th>\n",
       "      <td>Mo</td>\n",
       "      <td>9</td>\n",
       "      <td>1</td>\n",
       "      <td>0</td>\n",
       "      <td>15</td>\n",
       "      <td>Bran</td>\n",
       "      <td>91157</td>\n",
       "      <td>3254028001012</td>\n",
       "      <td>Bran</td>\n",
       "      <td>91157</td>\n",
       "      <td>3254028001003</td>\n",
       "      <td>2020</td>\n",
       "      <td>10</td>\n",
       "      <td>0</td>\n",
       "    </tr>\n",
       "    <tr>\n",
       "      <th>277023</th>\n",
       "      <td>Di</td>\n",
       "      <td>18</td>\n",
       "      <td>0</td>\n",
       "      <td>7</td>\n",
       "      <td>15</td>\n",
       "      <td>Bran</td>\n",
       "      <td>91157</td>\n",
       "      <td>3254028001013</td>\n",
       "      <td>Turda</td>\n",
       "      <td>80982</td>\n",
       "      <td>3241013070001</td>\n",
       "      <td>2020</td>\n",
       "      <td>10</td>\n",
       "      <td>105</td>\n",
       "    </tr>\n",
       "    <tr>\n",
       "      <th>277024</th>\n",
       "      <td>Di</td>\n",
       "      <td>9</td>\n",
       "      <td>0</td>\n",
       "      <td>2</td>\n",
       "      <td>10</td>\n",
       "      <td>Bran</td>\n",
       "      <td>91157</td>\n",
       "      <td>3254028001013</td>\n",
       "      <td>Bran</td>\n",
       "      <td>91157</td>\n",
       "      <td>3254028003001</td>\n",
       "      <td>2020</td>\n",
       "      <td>10</td>\n",
       "      <td>20</td>\n",
       "    </tr>\n",
       "    <tr>\n",
       "      <th>277025</th>\n",
       "      <td>Mo</td>\n",
       "      <td>18</td>\n",
       "      <td>0</td>\n",
       "      <td>5</td>\n",
       "      <td>5</td>\n",
       "      <td>Hunedoara</td>\n",
       "      <td>71171</td>\n",
       "      <td>3254026000014</td>\n",
       "      <td>Hunedoara</td>\n",
       "      <td>71171</td>\n",
       "      <td>3254026000003</td>\n",
       "      <td>2020</td>\n",
       "      <td>10</td>\n",
       "      <td>25</td>\n",
       "    </tr>\n",
       "    <tr>\n",
       "      <th>277026</th>\n",
       "      <td>Mi</td>\n",
       "      <td>12</td>\n",
       "      <td>1</td>\n",
       "      <td>2</td>\n",
       "      <td>15</td>\n",
       "      <td>Bran</td>\n",
       "      <td>91157</td>\n",
       "      <td>3254028004001</td>\n",
       "      <td>Bran</td>\n",
       "      <td>91157</td>\n",
       "      <td>3254028001013</td>\n",
       "      <td>2020</td>\n",
       "      <td>10</td>\n",
       "      <td>30</td>\n",
       "    </tr>\n",
       "  </tbody>\n",
       "</table>\n",
       "<p>277027 rows × 14 columns</p>\n",
       "</div>"
      ],
      "text/plain": [
       "       weekday  daytime  isHoliday  distance  count startClusterName  \\\n",
       "0           Di        7          0         3     15        Hunedoara   \n",
       "1           Mi       17          0         0     10            Turda   \n",
       "2           Sa       11          0         3     10            Turda   \n",
       "3           Fr       13          0         0     15             Bran   \n",
       "4           Fr       18          0         7     10             Bran   \n",
       "...        ...      ...        ...       ...    ...              ...   \n",
       "277022      Mo        9          1         0     15             Bran   \n",
       "277023      Di       18          0         7     15             Bran   \n",
       "277024      Di        9          0         2     10             Bran   \n",
       "277025      Mo       18          0         5      5        Hunedoara   \n",
       "277026      Mi       12          1         2     15             Bran   \n",
       "\n",
       "        startClusterZip  startClusterID endClusterName  endClusterZip  \\\n",
       "0                 71171   3254026000002      Hunedoara          71171   \n",
       "1                 80982   3241013050002          Turda          80982   \n",
       "2                 80982   3241013050007          Turda          80982   \n",
       "3                 91157   3254028001012           Bran          91157   \n",
       "4                 91157   3254028001003          Turda          80982   \n",
       "...                 ...             ...            ...            ...   \n",
       "277022            91157   3254028001012           Bran          91157   \n",
       "277023            91157   3254028001013          Turda          80982   \n",
       "277024            91157   3254028001013           Bran          91157   \n",
       "277025            71171   3254026000014      Hunedoara          71171   \n",
       "277026            91157   3254028004001           Bran          91157   \n",
       "\n",
       "         endClusterID  year  month  total  \n",
       "0       3254026000007  2021      3     45  \n",
       "1       3241013050008  2021      3      0  \n",
       "2       3241013030001  2021      3     30  \n",
       "3       3254028001004  2021      3      0  \n",
       "4       3241013070001  2021      3     70  \n",
       "...               ...   ...    ...    ...  \n",
       "277022  3254028001003  2020     10      0  \n",
       "277023  3241013070001  2020     10    105  \n",
       "277024  3254028003001  2020     10     20  \n",
       "277025  3254026000003  2020     10     25  \n",
       "277026  3254028001013  2020     10     30  \n",
       "\n",
       "[277027 rows x 14 columns]"
      ]
     },
     "execution_count": 3,
     "metadata": {},
     "output_type": "execute_result"
    }
   ],
   "source": [
    "df = pd.read_csv('prepared_data.csv')\n",
    "df"
   ]
  },
  {
   "cell_type": "markdown",
   "metadata": {},
   "source": [
    "## 4.1 Business Understanding: What is your target variable?\n",
    "\n",
    "The aim is to develop a model that finds the customers with the highest revenue for the company. It is determined that a customer is considered to have the highest revenue if the total revenue is over 300.\n",
    "\n",
    "For this purpose, a new attribute \"high revenue\" is to be calculated using the total revenue of a customer \"total_sum\". If the threshold value of 300 is exceeded, \"high revenue\" is marked with \"1\", otherwise \"0\". You can use the numpy function np.where(condition,if true, if false) for this.\n",
    "\n",
    "Add the column \"high revenue\" to the data set and check the result."
   ]
  },
  {
   "cell_type": "code",
   "execution_count": 4,
   "metadata": {},
   "outputs": [
    {
     "data": {
      "text/plain": [
       "array(['Di', 'Mi', 'Sa', 'Fr', 'So/Fe', 'Mo', 'Do', 'Donn', 'Mon', 'Sam'],\n",
       "      dtype=object)"
      ]
     },
     "execution_count": 4,
     "metadata": {},
     "output_type": "execute_result"
    }
   ],
   "source": [
    "df['weekday'].unique()"
   ]
  },
  {
   "cell_type": "code",
   "execution_count": 84,
   "metadata": {},
   "outputs": [
    {
     "name": "stdout",
     "output_type": "stream",
     "text": [
      "10.0 20.0\n"
     ]
    }
   ],
   "source": [
    "q1 = df['total'].quantile(0.25)  # first quartil\n",
    "q2 = df['total'].quantile(0.5)  # third quartile\n",
    "\n",
    "print(q1, q2)"
   ]
  },
  {
   "cell_type": "code",
   "execution_count": 97,
   "metadata": {
    "scrolled": true
   },
   "outputs": [],
   "source": [
    "\n",
    "df['high_distance'] = np.where(df['total'] > q2, 2, \n",
    "                               np.where(df['total'] > q1, 1, 0))\n",
    "df"
   ]
  },
  {
   "cell_type": "markdown",
   "metadata": {},
   "source": [
    "## 4.2 Distribution of the target variable\n",
    "\n",
    "First of all, we want to know how \"high revenue\" is distributed in the data.\n",
    "\n",
    "To do this, the values of \"high revenue\" are counted using the groupby function and displayed as a bar chart."
   ]
  },
  {
   "cell_type": "code",
   "execution_count": 86,
   "metadata": {},
   "outputs": [
    {
     "data": {
      "text/plain": [
       "<Axes: xlabel='high_distance'>"
      ]
     },
     "execution_count": 86,
     "metadata": {},
     "output_type": "execute_result"
    },
    {
     "data": {
      "image/png": "[encoded data removed]",
      "text/plain": [
       "<Figure size 640x480 with 1 Axes>"
      ]
     },
     "metadata": {},
     "output_type": "display_data"
    }
   ],
   "source": [
    "bc = df.groupby('high_distance').agg({'count':'sum'})\n",
    "\n",
    "bc.plot.bar()"
   ]
  },
  {
   "cell_type": "markdown",
   "metadata": {},
   "source": [
    "## 4.3 Data reduction & cleansing\n",
    "\n",
    "With regard to data understanding, the department was consulted and it was determined that not all existing attributes are relevant. Only the following should be used in the data set:\n",
    "\n",
    "- gender\n",
    "- age_first_order\n",
    "- user_agent_brand, user_agent_os\n",
    "- campaign\n",
    "- pages_visited_average\n",
    "- high revenue"
   ]
  },
  {
   "cell_type": "code",
   "execution_count": 87,
   "metadata": {},
   "outputs": [],
   "source": [
    "# space"
   ]
  },
  {
   "cell_type": "markdown",
   "metadata": {},
   "source": [
    "This is followed by data cleansing. Display the missing values and carry out the following data cleansing steps:\n",
    "\n",
    "1. Replace missing values (NaN) with the most common value (dfClean['Attribute'].mode()[0])\n",
    "The result should be in the variable dfClean."
   ]
  },
  {
   "cell_type": "code",
   "execution_count": 88,
   "metadata": {},
   "outputs": [
    {
     "name": "stdout",
     "output_type": "stream",
     "text": [
      "weekday             0\n",
      "daytime             0\n",
      "isHoliday           0\n",
      "distance            0\n",
      "count               0\n",
      "startClusterName    0\n",
      "startClusterZip     0\n",
      "startClusterID      0\n",
      "endClusterName      0\n",
      "endClusterZip       0\n",
      "endClusterID        0\n",
      "year                0\n",
      "month               0\n",
      "total               0\n",
      "high_distance       0\n",
      "dtype: int64\n"
     ]
    }
   ],
   "source": [
    "# space\n",
    "print(df.isnull().sum())"
   ]
  },
  {
   "cell_type": "code",
   "execution_count": 89,
   "metadata": {},
   "outputs": [
    {
     "data": {
      "text/html": [
       "<div>\n",
       "<style scoped>\n",
       "    .dataframe tbody tr th:only-of-type {\n",
       "        vertical-align: middle;\n",
       "    }\n",
       "\n",
       "    .dataframe tbody tr th {\n",
       "        vertical-align: top;\n",
       "    }\n",
       "\n",
       "    .dataframe thead th {\n",
       "        text-align: right;\n",
       "    }\n",
       "</style>\n",
       "<table border=\"1\" class=\"dataframe\">\n",
       "  <thead>\n",
       "    <tr style=\"text-align: right;\">\n",
       "      <th></th>\n",
       "      <th>weekday</th>\n",
       "      <th>daytime</th>\n",
       "      <th>isHoliday</th>\n",
       "      <th>distance</th>\n",
       "      <th>count</th>\n",
       "      <th>startClusterName</th>\n",
       "      <th>startClusterZip</th>\n",
       "      <th>startClusterID</th>\n",
       "      <th>endClusterName</th>\n",
       "      <th>endClusterZip</th>\n",
       "      <th>endClusterID</th>\n",
       "      <th>year</th>\n",
       "      <th>month</th>\n",
       "      <th>total</th>\n",
       "      <th>high_distance</th>\n",
       "    </tr>\n",
       "  </thead>\n",
       "  <tbody>\n",
       "    <tr>\n",
       "      <th>0</th>\n",
       "      <td>Di</td>\n",
       "      <td>7</td>\n",
       "      <td>0</td>\n",
       "      <td>3</td>\n",
       "      <td>15</td>\n",
       "      <td>Hunedoara</td>\n",
       "      <td>71171</td>\n",
       "      <td>3254026000002</td>\n",
       "      <td>Hunedoara</td>\n",
       "      <td>71171</td>\n",
       "      <td>3254026000007</td>\n",
       "      <td>2021</td>\n",
       "      <td>3</td>\n",
       "      <td>45</td>\n",
       "      <td>2</td>\n",
       "    </tr>\n",
       "    <tr>\n",
       "      <th>1</th>\n",
       "      <td>Mi</td>\n",
       "      <td>17</td>\n",
       "      <td>0</td>\n",
       "      <td>0</td>\n",
       "      <td>10</td>\n",
       "      <td>Turda</td>\n",
       "      <td>80982</td>\n",
       "      <td>3241013050002</td>\n",
       "      <td>Turda</td>\n",
       "      <td>80982</td>\n",
       "      <td>3241013050008</td>\n",
       "      <td>2021</td>\n",
       "      <td>3</td>\n",
       "      <td>0</td>\n",
       "      <td>0</td>\n",
       "    </tr>\n",
       "    <tr>\n",
       "      <th>2</th>\n",
       "      <td>Sa</td>\n",
       "      <td>11</td>\n",
       "      <td>0</td>\n",
       "      <td>3</td>\n",
       "      <td>10</td>\n",
       "      <td>Turda</td>\n",
       "      <td>80982</td>\n",
       "      <td>3241013050007</td>\n",
       "      <td>Turda</td>\n",
       "      <td>80982</td>\n",
       "      <td>3241013030001</td>\n",
       "      <td>2021</td>\n",
       "      <td>3</td>\n",
       "      <td>30</td>\n",
       "      <td>2</td>\n",
       "    </tr>\n",
       "    <tr>\n",
       "      <th>3</th>\n",
       "      <td>Fr</td>\n",
       "      <td>13</td>\n",
       "      <td>0</td>\n",
       "      <td>0</td>\n",
       "      <td>15</td>\n",
       "      <td>Bran</td>\n",
       "      <td>91157</td>\n",
       "      <td>3254028001012</td>\n",
       "      <td>Bran</td>\n",
       "      <td>91157</td>\n",
       "      <td>3254028001004</td>\n",
       "      <td>2021</td>\n",
       "      <td>3</td>\n",
       "      <td>0</td>\n",
       "      <td>0</td>\n",
       "    </tr>\n",
       "    <tr>\n",
       "      <th>4</th>\n",
       "      <td>Fr</td>\n",
       "      <td>18</td>\n",
       "      <td>0</td>\n",
       "      <td>7</td>\n",
       "      <td>10</td>\n",
       "      <td>Bran</td>\n",
       "      <td>91157</td>\n",
       "      <td>3254028001003</td>\n",
       "      <td>Turda</td>\n",
       "      <td>80982</td>\n",
       "      <td>3241013070001</td>\n",
       "      <td>2021</td>\n",
       "      <td>3</td>\n",
       "      <td>70</td>\n",
       "      <td>2</td>\n",
       "    </tr>\n",
       "    <tr>\n",
       "      <th>...</th>\n",
       "      <td>...</td>\n",
       "      <td>...</td>\n",
       "      <td>...</td>\n",
       "      <td>...</td>\n",
       "      <td>...</td>\n",
       "      <td>...</td>\n",
       "      <td>...</td>\n",
       "      <td>...</td>\n",
       "      <td>...</td>\n",
       "      <td>...</td>\n",
       "      <td>...</td>\n",
       "      <td>...</td>\n",
       "      <td>...</td>\n",
       "      <td>...</td>\n",
       "      <td>...</td>\n",
       "    </tr>\n",
       "    <tr>\n",
       "      <th>277022</th>\n",
       "      <td>Mo</td>\n",
       "      <td>9</td>\n",
       "      <td>1</td>\n",
       "      <td>0</td>\n",
       "      <td>15</td>\n",
       "      <td>Bran</td>\n",
       "      <td>91157</td>\n",
       "      <td>3254028001012</td>\n",
       "      <td>Bran</td>\n",
       "      <td>91157</td>\n",
       "      <td>3254028001003</td>\n",
       "      <td>2020</td>\n",
       "      <td>10</td>\n",
       "      <td>0</td>\n",
       "      <td>0</td>\n",
       "    </tr>\n",
       "    <tr>\n",
       "      <th>277023</th>\n",
       "      <td>Di</td>\n",
       "      <td>18</td>\n",
       "      <td>0</td>\n",
       "      <td>7</td>\n",
       "      <td>15</td>\n",
       "      <td>Bran</td>\n",
       "      <td>91157</td>\n",
       "      <td>3254028001013</td>\n",
       "      <td>Turda</td>\n",
       "      <td>80982</td>\n",
       "      <td>3241013070001</td>\n",
       "      <td>2020</td>\n",
       "      <td>10</td>\n",
       "      <td>105</td>\n",
       "      <td>2</td>\n",
       "    </tr>\n",
       "    <tr>\n",
       "      <th>277024</th>\n",
       "      <td>Di</td>\n",
       "      <td>9</td>\n",
       "      <td>0</td>\n",
       "      <td>2</td>\n",
       "      <td>10</td>\n",
       "      <td>Bran</td>\n",
       "      <td>91157</td>\n",
       "      <td>3254028001013</td>\n",
       "      <td>Bran</td>\n",
       "      <td>91157</td>\n",
       "      <td>3254028003001</td>\n",
       "      <td>2020</td>\n",
       "      <td>10</td>\n",
       "      <td>20</td>\n",
       "      <td>1</td>\n",
       "    </tr>\n",
       "    <tr>\n",
       "      <th>277025</th>\n",
       "      <td>Mo</td>\n",
       "      <td>18</td>\n",
       "      <td>0</td>\n",
       "      <td>5</td>\n",
       "      <td>5</td>\n",
       "      <td>Hunedoara</td>\n",
       "      <td>71171</td>\n",
       "      <td>3254026000014</td>\n",
       "      <td>Hunedoara</td>\n",
       "      <td>71171</td>\n",
       "      <td>3254026000003</td>\n",
       "      <td>2020</td>\n",
       "      <td>10</td>\n",
       "      <td>25</td>\n",
       "      <td>2</td>\n",
       "    </tr>\n",
       "    <tr>\n",
       "      <th>277026</th>\n",
       "      <td>Mi</td>\n",
       "      <td>12</td>\n",
       "      <td>1</td>\n",
       "      <td>2</td>\n",
       "      <td>15</td>\n",
       "      <td>Bran</td>\n",
       "      <td>91157</td>\n",
       "      <td>3254028004001</td>\n",
       "      <td>Bran</td>\n",
       "      <td>91157</td>\n",
       "      <td>3254028001013</td>\n",
       "      <td>2020</td>\n",
       "      <td>10</td>\n",
       "      <td>30</td>\n",
       "      <td>2</td>\n",
       "    </tr>\n",
       "  </tbody>\n",
       "</table>\n",
       "<p>277027 rows × 15 columns</p>\n",
       "</div>"
      ],
      "text/plain": [
       "       weekday  daytime  isHoliday  distance  count startClusterName  \\\n",
       "0           Di        7          0         3     15        Hunedoara   \n",
       "1           Mi       17          0         0     10            Turda   \n",
       "2           Sa       11          0         3     10            Turda   \n",
       "3           Fr       13          0         0     15             Bran   \n",
       "4           Fr       18          0         7     10             Bran   \n",
       "...        ...      ...        ...       ...    ...              ...   \n",
       "277022      Mo        9          1         0     15             Bran   \n",
       "277023      Di       18          0         7     15             Bran   \n",
       "277024      Di        9          0         2     10             Bran   \n",
       "277025      Mo       18          0         5      5        Hunedoara   \n",
       "277026      Mi       12          1         2     15             Bran   \n",
       "\n",
       "        startClusterZip  startClusterID endClusterName  endClusterZip  \\\n",
       "0                 71171   3254026000002      Hunedoara          71171   \n",
       "1                 80982   3241013050002          Turda          80982   \n",
       "2                 80982   3241013050007          Turda          80982   \n",
       "3                 91157   3254028001012           Bran          91157   \n",
       "4                 91157   3254028001003          Turda          80982   \n",
       "...                 ...             ...            ...            ...   \n",
       "277022            91157   3254028001012           Bran          91157   \n",
       "277023            91157   3254028001013          Turda          80982   \n",
       "277024            91157   3254028001013           Bran          91157   \n",
       "277025            71171   3254026000014      Hunedoara          71171   \n",
       "277026            91157   3254028004001           Bran          91157   \n",
       "\n",
       "         endClusterID  year  month  total  high_distance  \n",
       "0       3254026000007  2021      3     45              2  \n",
       "1       3241013050008  2021      3      0              0  \n",
       "2       3241013030001  2021      3     30              2  \n",
       "3       3254028001004  2021      3      0              0  \n",
       "4       3241013070001  2021      3     70              2  \n",
       "...               ...   ...    ...    ...            ...  \n",
       "277022  3254028001003  2020     10      0              0  \n",
       "277023  3241013070001  2020     10    105              2  \n",
       "277024  3254028003001  2020     10     20              1  \n",
       "277025  3254026000003  2020     10     25              2  \n",
       "277026  3254028001013  2020     10     30              2  \n",
       "\n",
       "[277027 rows x 15 columns]"
      ]
     },
     "execution_count": 89,
     "metadata": {},
     "output_type": "execute_result"
    }
   ],
   "source": [
    "# space\n",
    "df"
   ]
  },
  {
   "cell_type": "markdown",
   "metadata": {},
   "source": [
    "In the data transformation, we want to perform an encoding into numerical values (even if we do not have ordinal attributes here). We use the LabelEncoder() for this. Apply this to user_agent_os and user_agent_brand as well and see how useful you find the result."
   ]
  },
  {
   "cell_type": "code",
   "execution_count": 98,
   "metadata": {},
   "outputs": [
    {
     "data": {
      "text/html": [
       "<div>\n",
       "<style scoped>\n",
       "    .dataframe tbody tr th:only-of-type {\n",
       "        vertical-align: middle;\n",
       "    }\n",
       "\n",
       "    .dataframe tbody tr th {\n",
       "        vertical-align: top;\n",
       "    }\n",
       "\n",
       "    .dataframe thead th {\n",
       "        text-align: right;\n",
       "    }\n",
       "</style>\n",
       "<table border=\"1\" class=\"dataframe\">\n",
       "  <thead>\n",
       "    <tr style=\"text-align: right;\">\n",
       "      <th></th>\n",
       "      <th>weekday</th>\n",
       "      <th>daytime</th>\n",
       "      <th>isHoliday</th>\n",
       "      <th>distance</th>\n",
       "      <th>count</th>\n",
       "      <th>startClusterName</th>\n",
       "      <th>startClusterZip</th>\n",
       "      <th>startClusterID</th>\n",
       "      <th>endClusterName</th>\n",
       "      <th>endClusterZip</th>\n",
       "      <th>endClusterID</th>\n",
       "      <th>year</th>\n",
       "      <th>month</th>\n",
       "      <th>total</th>\n",
       "      <th>high_distance</th>\n",
       "    </tr>\n",
       "  </thead>\n",
       "  <tbody>\n",
       "    <tr>\n",
       "      <th>0</th>\n",
       "      <td>0</td>\n",
       "      <td>7</td>\n",
       "      <td>0</td>\n",
       "      <td>3</td>\n",
       "      <td>15</td>\n",
       "      <td>1</td>\n",
       "      <td>71171</td>\n",
       "      <td>3254026000002</td>\n",
       "      <td>1</td>\n",
       "      <td>71171</td>\n",
       "      <td>3254026000007</td>\n",
       "      <td>2021</td>\n",
       "      <td>3</td>\n",
       "      <td>45</td>\n",
       "      <td>2</td>\n",
       "    </tr>\n",
       "    <tr>\n",
       "      <th>1</th>\n",
       "      <td>4</td>\n",
       "      <td>17</td>\n",
       "      <td>0</td>\n",
       "      <td>0</td>\n",
       "      <td>10</td>\n",
       "      <td>2</td>\n",
       "      <td>80982</td>\n",
       "      <td>3241013050002</td>\n",
       "      <td>2</td>\n",
       "      <td>80982</td>\n",
       "      <td>3241013050008</td>\n",
       "      <td>2021</td>\n",
       "      <td>3</td>\n",
       "      <td>0</td>\n",
       "      <td>0</td>\n",
       "    </tr>\n",
       "    <tr>\n",
       "      <th>2</th>\n",
       "      <td>7</td>\n",
       "      <td>11</td>\n",
       "      <td>0</td>\n",
       "      <td>3</td>\n",
       "      <td>10</td>\n",
       "      <td>2</td>\n",
       "      <td>80982</td>\n",
       "      <td>3241013050007</td>\n",
       "      <td>2</td>\n",
       "      <td>80982</td>\n",
       "      <td>3241013030001</td>\n",
       "      <td>2021</td>\n",
       "      <td>3</td>\n",
       "      <td>30</td>\n",
       "      <td>2</td>\n",
       "    </tr>\n",
       "    <tr>\n",
       "      <th>3</th>\n",
       "      <td>3</td>\n",
       "      <td>13</td>\n",
       "      <td>0</td>\n",
       "      <td>0</td>\n",
       "      <td>15</td>\n",
       "      <td>0</td>\n",
       "      <td>91157</td>\n",
       "      <td>3254028001012</td>\n",
       "      <td>0</td>\n",
       "      <td>91157</td>\n",
       "      <td>3254028001004</td>\n",
       "      <td>2021</td>\n",
       "      <td>3</td>\n",
       "      <td>0</td>\n",
       "      <td>0</td>\n",
       "    </tr>\n",
       "    <tr>\n",
       "      <th>4</th>\n",
       "      <td>3</td>\n",
       "      <td>18</td>\n",
       "      <td>0</td>\n",
       "      <td>7</td>\n",
       "      <td>10</td>\n",
       "      <td>0</td>\n",
       "      <td>91157</td>\n",
       "      <td>3254028001003</td>\n",
       "      <td>2</td>\n",
       "      <td>80982</td>\n",
       "      <td>3241013070001</td>\n",
       "      <td>2021</td>\n",
       "      <td>3</td>\n",
       "      <td>70</td>\n",
       "      <td>2</td>\n",
       "    </tr>\n",
       "    <tr>\n",
       "      <th>...</th>\n",
       "      <td>...</td>\n",
       "      <td>...</td>\n",
       "      <td>...</td>\n",
       "      <td>...</td>\n",
       "      <td>...</td>\n",
       "      <td>...</td>\n",
       "      <td>...</td>\n",
       "      <td>...</td>\n",
       "      <td>...</td>\n",
       "      <td>...</td>\n",
       "      <td>...</td>\n",
       "      <td>...</td>\n",
       "      <td>...</td>\n",
       "      <td>...</td>\n",
       "      <td>...</td>\n",
       "    </tr>\n",
       "    <tr>\n",
       "      <th>277022</th>\n",
       "      <td>5</td>\n",
       "      <td>9</td>\n",
       "      <td>1</td>\n",
       "      <td>0</td>\n",
       "      <td>15</td>\n",
       "      <td>0</td>\n",
       "      <td>91157</td>\n",
       "      <td>3254028001012</td>\n",
       "      <td>0</td>\n",
       "      <td>91157</td>\n",
       "      <td>3254028001003</td>\n",
       "      <td>2020</td>\n",
       "      <td>10</td>\n",
       "      <td>0</td>\n",
       "      <td>0</td>\n",
       "    </tr>\n",
       "    <tr>\n",
       "      <th>277023</th>\n",
       "      <td>0</td>\n",
       "      <td>18</td>\n",
       "      <td>0</td>\n",
       "      <td>7</td>\n",
       "      <td>15</td>\n",
       "      <td>0</td>\n",
       "      <td>91157</td>\n",
       "      <td>3254028001013</td>\n",
       "      <td>2</td>\n",
       "      <td>80982</td>\n",
       "      <td>3241013070001</td>\n",
       "      <td>2020</td>\n",
       "      <td>10</td>\n",
       "      <td>105</td>\n",
       "      <td>2</td>\n",
       "    </tr>\n",
       "    <tr>\n",
       "      <th>277024</th>\n",
       "      <td>0</td>\n",
       "      <td>9</td>\n",
       "      <td>0</td>\n",
       "      <td>2</td>\n",
       "      <td>10</td>\n",
       "      <td>0</td>\n",
       "      <td>91157</td>\n",
       "      <td>3254028001013</td>\n",
       "      <td>0</td>\n",
       "      <td>91157</td>\n",
       "      <td>3254028003001</td>\n",
       "      <td>2020</td>\n",
       "      <td>10</td>\n",
       "      <td>20</td>\n",
       "      <td>1</td>\n",
       "    </tr>\n",
       "    <tr>\n",
       "      <th>277025</th>\n",
       "      <td>5</td>\n",
       "      <td>18</td>\n",
       "      <td>0</td>\n",
       "      <td>5</td>\n",
       "      <td>5</td>\n",
       "      <td>1</td>\n",
       "      <td>71171</td>\n",
       "      <td>3254026000014</td>\n",
       "      <td>1</td>\n",
       "      <td>71171</td>\n",
       "      <td>3254026000003</td>\n",
       "      <td>2020</td>\n",
       "      <td>10</td>\n",
       "      <td>25</td>\n",
       "      <td>2</td>\n",
       "    </tr>\n",
       "    <tr>\n",
       "      <th>277026</th>\n",
       "      <td>4</td>\n",
       "      <td>12</td>\n",
       "      <td>1</td>\n",
       "      <td>2</td>\n",
       "      <td>15</td>\n",
       "      <td>0</td>\n",
       "      <td>91157</td>\n",
       "      <td>3254028004001</td>\n",
       "      <td>0</td>\n",
       "      <td>91157</td>\n",
       "      <td>3254028001013</td>\n",
       "      <td>2020</td>\n",
       "      <td>10</td>\n",
       "      <td>30</td>\n",
       "      <td>2</td>\n",
       "    </tr>\n",
       "  </tbody>\n",
       "</table>\n",
       "<p>277027 rows × 15 columns</p>\n",
       "</div>"
      ],
      "text/plain": [
       "        weekday  daytime  isHoliday  distance  count  startClusterName  \\\n",
       "0             0        7          0         3     15                 1   \n",
       "1             4       17          0         0     10                 2   \n",
       "2             7       11          0         3     10                 2   \n",
       "3             3       13          0         0     15                 0   \n",
       "4             3       18          0         7     10                 0   \n",
       "...         ...      ...        ...       ...    ...               ...   \n",
       "277022        5        9          1         0     15                 0   \n",
       "277023        0       18          0         7     15                 0   \n",
       "277024        0        9          0         2     10                 0   \n",
       "277025        5       18          0         5      5                 1   \n",
       "277026        4       12          1         2     15                 0   \n",
       "\n",
       "        startClusterZip  startClusterID  endClusterName  endClusterZip  \\\n",
       "0                 71171   3254026000002               1          71171   \n",
       "1                 80982   3241013050002               2          80982   \n",
       "2                 80982   3241013050007               2          80982   \n",
       "3                 91157   3254028001012               0          91157   \n",
       "4                 91157   3254028001003               2          80982   \n",
       "...                 ...             ...             ...            ...   \n",
       "277022            91157   3254028001012               0          91157   \n",
       "277023            91157   3254028001013               2          80982   \n",
       "277024            91157   3254028001013               0          91157   \n",
       "277025            71171   3254026000014               1          71171   \n",
       "277026            91157   3254028004001               0          91157   \n",
       "\n",
       "         endClusterID  year  month  total  high_distance  \n",
       "0       3254026000007  2021      3     45              2  \n",
       "1       3241013050008  2021      3      0              0  \n",
       "2       3241013030001  2021      3     30              2  \n",
       "3       3254028001004  2021      3      0              0  \n",
       "4       3241013070001  2021      3     70              2  \n",
       "...               ...   ...    ...    ...            ...  \n",
       "277022  3254028001003  2020     10      0              0  \n",
       "277023  3241013070001  2020     10    105              2  \n",
       "277024  3254028003001  2020     10     20              1  \n",
       "277025  3254026000003  2020     10     25              2  \n",
       "277026  3254028001013  2020     10     30              2  \n",
       "\n",
       "[277027 rows x 15 columns]"
      ]
     },
     "execution_count": 98,
     "metadata": {},
     "output_type": "execute_result"
    }
   ],
   "source": [
    "from sklearn import preprocessing\n",
    "labelenc = preprocessing.LabelEncoder()\n",
    "\n",
    "dfPrepared = df.copy()\n",
    "\n",
    "labelenc.fit(dfPrepared.weekday)\n",
    "dfPrepared['weekday'] = labelenc.transform(dfPrepared.weekday)\n",
    "labelenc.fit(dfPrepared.startClusterName)\n",
    "dfPrepared['startClusterName'] = labelenc.transform(dfPrepared.startClusterName)\n",
    "labelenc.fit(dfPrepared.endClusterName)\n",
    "dfPrepared['endClusterName'] = labelenc.transform(dfPrepared.endClusterName)\n",
    "dfPrepared.to_csv('prepared_data2.csv', index=False)\n",
    "\n",
    "dfPrepared"
   ]
  },
  {
   "cell_type": "code",
   "execution_count": 91,
   "metadata": {},
   "outputs": [
    {
     "data": {
      "text/plain": [
       "array([3254026000002, 3241013050002, 3241013050007, 3254028001012,\n",
       "       3254028001003, 3254028001008, 3254026000001, 3254026000004,\n",
       "       3254026000015, 3254028001002, 3241013050009, 3241013050001,\n",
       "       3254028001015, 3254028002001, 3254026000014, 3254026000006,\n",
       "       3254026000010, 3254026000008, 3254028001013, 3254026000007,\n",
       "       3254026000005, 3241013080001, 3254028001018, 3254028001006,\n",
       "       3254028001001, 3241013070001, 3254028001004, 3241013050008,\n",
       "       3254028007001, 3241013020002, 3254026000012, 3254028001019,\n",
       "       3254026000003, 3254028001009, 3241013060001, 3254028004001,\n",
       "       3241013050006, 3254028001017, 3241013020001, 3254028001005,\n",
       "       3254026000016, 3254028003001, 3254026000009, 3241013010001,\n",
       "       3254026000013, 3241013040001, 3241013030001, 3254028001014,\n",
       "       3254028005001, 3254028006001])"
      ]
     },
     "execution_count": 91,
     "metadata": {},
     "output_type": "execute_result"
    }
   ],
   "source": [
    "dfPrepared['startClusterID'].unique()"
   ]
  },
  {
   "cell_type": "markdown",
   "metadata": {},
   "source": [
    "## 4.4 Splitting into training & test data\n",
    "The target attribute is separated from the data frame. Training and test data are split in a ratio of 70:30. Using the \"stratify\" option, the distribution of the target attribute is identical to that in the source data."
   ]
  },
  {
   "cell_type": "code",
   "execution_count": 92,
   "metadata": {
    "scrolled": true
   },
   "outputs": [],
   "source": [
    "from sklearn.model_selection import train_test_split\n",
    "\n",
    "x = dfPrepared.drop(['high_distance'], axis = 1)\n",
    "y = dfPrepared['high_distance']\n",
    "\n",
    "x_train, x_test, y_train, y_test = train_test_split(x, y,\n",
    "                                    random_state = 101, stratify = y, test_size = 0.2)"
   ]
  },
  {
   "cell_type": "markdown",
   "metadata": {},
   "source": [
    "## 4.5 Decision Tree model\n",
    "For example, a decision tree is trained with the split data set and then evaluated on the test data. "
   ]
  },
  {
   "cell_type": "code",
   "execution_count": 93,
   "metadata": {},
   "outputs": [],
   "source": [
    "from sklearn.tree import DecisionTreeClassifier\n",
    "\n",
    "dt_model = DecisionTreeClassifier(random_state = 10)\n",
    "dt_model.fit(x_train, y_train)\n",
    "\n",
    "y_pred = dt_model.predict(x_test)\n"
   ]
  },
  {
   "cell_type": "markdown",
   "metadata": {},
   "source": [
    "## 4.6 Evaluation of the model\n",
    "This is followed by the evaluation of the model on the test data."
   ]
  },
  {
   "cell_type": "code",
   "execution_count": 94,
   "metadata": {},
   "outputs": [
    {
     "name": "stdout",
     "output_type": "stream",
     "text": [
      "              precision    recall  f1-score   support\n",
      "\n",
      "           0       1.00      1.00      1.00     18880\n",
      "           1       1.00      1.00      1.00     12128\n",
      "           2       1.00      1.00      1.00     24398\n",
      "\n",
      "    accuracy                           1.00     55406\n",
      "   macro avg       1.00      1.00      1.00     55406\n",
      "weighted avg       1.00      1.00      1.00     55406\n",
      "\n"
     ]
    }
   ],
   "source": [
    "from sklearn.metrics import classification_report\n",
    "\n",
    "print(classification_report(y_test, y_pred))"
   ]
  },
  {
   "cell_type": "markdown",
   "metadata": {},
   "source": [
    "The absolute distribution is shown in the form of a confusion matrix."
   ]
  },
  {
   "cell_type": "code",
   "execution_count": 80,
   "metadata": {},
   "outputs": [
    {
     "name": "stdout",
     "output_type": "stream",
     "text": [
      "[[18880     0     0]\n",
      " [    0 12128     0]\n",
      " [    0     0 22090]]\n"
     ]
    }
   ],
   "source": [
    "from sklearn.metrics import confusion_matrix\n",
    "\n",
    "print(confusion_matrix(y_test, y_pred))"
   ]
  },
  {
   "cell_type": "markdown",
   "metadata": {},
   "source": [
    "How would you rate the quality of the model?"
   ]
  },
  {
   "cell_type": "markdown",
   "metadata": {},
   "source": [
    "# 4.6.1 Error Rate"
   ]
  },
  {
   "cell_type": "markdown",
   "metadata": {},
   "source": [
    "Now we want to calculate the error rate of our classifier. You can simply calculate it using the confusion matrix (we simply add up the misclassified ones and divide by n) or with y_pred and y_test."
   ]
  },
  {
   "cell_type": "code",
   "execution_count": 46,
   "metadata": {},
   "outputs": [
    {
     "name": "stdout",
     "output_type": "stream",
     "text": [
      "Error rate: 0.00%\n"
     ]
    }
   ],
   "source": [
    "# simple logic but more lines of code\n",
    "from sklearn.metrics import confusion_matrix\n",
    "\n",
    "# Calculate the confusion matrix\n",
    "cm = confusion_matrix(y_test, y_pred)\n",
    "\n",
    "# False positives are generally the value in the first row, second column of the confusion matrix\n",
    "false_positives = cm[0, 1]\n",
    "\n",
    "# False negatives are generally the value in the second row, first column of the confusion matrix\n",
    "false_negatives = cm[1, 0]\n",
    "\n",
    "# Add up false positives and false negatives\n",
    "total_errors = false_positives + false_negatives\n",
    "\n",
    "# Calculate the total number of predictions\n",
    "total_predictions = cm.sum()\n",
    "\n",
    "# Calculate the error rate\n",
    "error_rate = (total_errors / total_predictions) * 100\n",
    "\n",
    "print(f\"Error rate: {error_rate:.2f}%\")"
   ]
  },
  {
   "cell_type": "code",
   "execution_count": 47,
   "metadata": {},
   "outputs": [
    {
     "name": "stdout",
     "output_type": "stream",
     "text": [
      "Error Rate: 0.00%\n"
     ]
    }
   ],
   "source": [
    "# also possible, less lines of code\n",
    "# Calculate the number of incorrect predictions\n",
    "incorrect_predictions = (y_pred != y_test).sum()\n",
    "\n",
    "# Calculate the total number of predictions\n",
    "total_predictions = y_test.shape[0]\n",
    "\n",
    "# Calculate the error rate\n",
    "error_rate = (incorrect_predictions / total_predictions) * 100\n",
    "\n",
    "print(f\"Error Rate: {error_rate:.2f}%\")"
   ]
  },
  {
   "cell_type": "markdown",
   "metadata": {},
   "source": [
    "# 4.6.2 derive information from the confusion matrix"
   ]
  },
  {
   "cell_type": "markdown",
   "metadata": {},
   "source": [
    "We do have the classification report, but I personally find it sometimes cumbersome to read and perhaps we only want to know a certain key figure. simply replace the variables a-i"
   ]
  },
  {
   "cell_type": "code",
   "execution_count": 48,
   "metadata": {},
   "outputs": [
    {
     "name": "stdout",
     "output_type": "stream",
     "text": [
      "1.0\n",
      "0.0\n",
      "1.0\n",
      "0.0\n"
     ]
    }
   ],
   "source": [
    "# simple logic but more lines of code\n",
    "from sklearn.metrics import confusion_matrix\n",
    "\n",
    "# Calculate the confusion matrix\n",
    "cm = confusion_matrix(y_test, y_pred)\n",
    "\n",
    "# False positives are generally the value in the first row, second column of the confusion matrix\n",
    "false_positives = cm[0, 1]\n",
    "\n",
    "# False negatives are generally the value in the second row, first column of the confusion matrix\n",
    "false_negatives = cm[1, 0]\n",
    "\n",
    "# true negatives are generally the value in the first row, first column of the confusion matrix\n",
    "true_negatives = cm[0, 0]\n",
    "\n",
    "# true positives are generally the value in the second row, second column of the confusion matrix\n",
    "true_positives = cm[1, 1]\n",
    "\n",
    "# calculate the key figures now. just look at the formulae.\n",
    "\n",
    "#Accuracy\n",
    "Accuracy = (true_positives + true_negatives)/ (cm.sum())\n",
    "print (Accuracy)\n",
    "\n",
    "#Missclassification Rate (Accuracy + Missclassification Rate = 1)\n",
    "Missclassification_Rate = 1 - Accuracy\n",
    "print (Missclassification_Rate)\n",
    "\n",
    "# True positive Rate\n",
    "TruePositive_Rate = true_positives /(true_positives + false_negatives)\n",
    "print (TruePositive_Rate)\n",
    "\n",
    "# True negative Rate\n",
    "TrueNegative_Rate = false_positives /(false_positives + true_negatives)\n",
    "print (TrueNegative_Rate)"
   ]
  },
  {
   "cell_type": "markdown",
   "metadata": {},
   "source": [
    "# 4.6.3 ROC Curve"
   ]
  },
  {
   "cell_type": "markdown",
   "metadata": {},
   "source": [
    "This is how the ROC Curve of an perfect classifier looks like. ignore the code."
   ]
  },
  {
   "cell_type": "code",
   "execution_count": 49,
   "metadata": {},
   "outputs": [
    {
     "data": {
      "image/png": "[encoded data removed]",
      "text/plain": [
       "<Figure size 640x480 with 1 Axes>"
      ]
     },
     "metadata": {},
     "output_type": "display_data"
    }
   ],
   "source": [
    "import matplotlib.pyplot as plt\n",
    "from sklearn.metrics import roc_curve, auc\n",
    "\n",
    "# Simulate perfect classifier scores\n",
    "# We assume scores are perfect, such that all positives are ranked higher than all negatives\n",
    "y_true = [0, 0, 1, 1]  # Actual classes\n",
    "y_scores = [0, 0.1, 0.9, 1]  # Predicted scores\n",
    "\n",
    "# Compute the ROC curve\n",
    "fpr, tpr, thresholds = roc_curve(y_true, y_scores)\n",
    "roc_auc = auc(fpr, tpr)\n",
    "\n",
    "# Plotting the ROC curve\n",
    "plt.figure()\n",
    "plt.plot(fpr, tpr, color='darkorange', lw=2, label='Perfect ROC curve (area = %0.2f)' % roc_auc)\n",
    "plt.plot([0, 1], [0, 1], color='navy', lw=2, linestyle='--')\n",
    "plt.xlim([0.0, 1.0])\n",
    "plt.ylim([0.0, 1.05])\n",
    "plt.xlabel('False Positive Rate')\n",
    "plt.ylabel('True Positive Rate')\n",
    "plt.title('Receiver Operating Characteristic')\n",
    "plt.legend(loc=\"lower right\")\n",
    "plt.show()"
   ]
  },
  {
   "cell_type": "markdown",
   "metadata": {},
   "source": [
    "### the better the classifier, the stronger the curve in the upper left corner"
   ]
  },
  {
   "cell_type": "markdown",
   "metadata": {},
   "source": [
    "### let's look at our roc curve now"
   ]
  },
  {
   "cell_type": "code",
   "execution_count": 50,
   "metadata": {},
   "outputs": [
    {
     "data": {
      "image/png": "[encoded data removed]",
      "text/plain": [
       "<Figure size 640x480 with 1 Axes>"
      ]
     },
     "metadata": {},
     "output_type": "display_data"
    }
   ],
   "source": [
    "import matplotlib.pyplot as plt\n",
    "from sklearn.metrics import roc_curve, auc\n",
    "\n",
    "# First, you need to predict the probabilities instead of the class labels\n",
    "y_scores = dt_model.predict_proba(x_test)[:, 1]  # get the probabilities of the positive class\n",
    "\n",
    "# Compute the ROC curve and the AUC (Area Under Curve)\n",
    "fpr, tpr, thresholds = roc_curve(y_test, y_scores)\n",
    "roc_auc = auc(fpr, tpr)\n",
    "\n",
    "# Plotting the ROC curve\n",
    "plt.figure()\n",
    "plt.plot(fpr, tpr, color='darkorange', lw=2, label='ROC curve (area = %0.2f)' % roc_auc)\n",
    "plt.plot([0, 1], [0, 1], color='navy', lw=2, linestyle='--')\n",
    "plt.xlim([0.0, 1.0])\n",
    "plt.ylim([0.0, 1.05])\n",
    "plt.xlabel('False Positive Rate')\n",
    "plt.ylabel('True Positive Rate')\n",
    "plt.title('Receiver Operating Characteristic')\n",
    "plt.legend(loc=\"lower right\")\n",
    "plt.show()"
   ]
  },
  {
   "cell_type": "markdown",
   "metadata": {},
   "source": [
    "## 4.7 k-fold Cross-Validation\n",
    "Step 5 is repeated with a k-fold cross validation with k = 10. Previously, the score only referred to one test data set. Cross-validation generates 10 scores through 10 iterations. The mean value of the scores is then displayed."
   ]
  },
  {
   "cell_type": "code",
   "execution_count": 51,
   "metadata": {},
   "outputs": [
    {
     "data": {
      "text/plain": [
       "1.0"
      ]
     },
     "execution_count": 51,
     "metadata": {},
     "output_type": "execute_result"
    }
   ],
   "source": [
    "from sklearn.model_selection import cross_validate\n",
    "\n",
    "scores = cross_validate(estimator = dt_model, X = x, y = y, cv = 10, n_jobs = 4,\n",
    "                        return_estimator = True, return_train_score = True)\n",
    "\n",
    "dfScores = pd.DataFrame.from_dict(scores)\n",
    "dfScores['test_score'].mean()"
   ]
  },
  {
   "cell_type": "markdown",
   "metadata": {},
   "source": [
    "Now compare the cross-validation score with the one above. What does the difference tell you? Display the individual scores."
   ]
  },
  {
   "cell_type": "code",
   "execution_count": null,
   "metadata": {},
   "outputs": [],
   "source": [
    "# space"
   ]
  },
  {
   "cell_type": "markdown",
   "metadata": {},
   "source": [
    "### Why should you not test the leave-one-out variant?"
   ]
  },
  {
   "cell_type": "code",
   "execution_count": null,
   "metadata": {},
   "outputs": [],
   "source": [
    "# space"
   ]
  },
  {
   "cell_type": "markdown",
   "metadata": {},
   "source": [
    "# Additional Excercise: let's evaluate a regression\n",
    "I have only created an exemplary regression here. you can ignore the code."
   ]
  },
  {
   "cell_type": "code",
   "execution_count": 52,
   "metadata": {},
   "outputs": [
    {
     "data": {
      "image/png": "[encoded data removed]",
      "text/plain": [
       "<Figure size 640x480 with 1 Axes>"
      ]
     },
     "metadata": {},
     "output_type": "display_data"
    }
   ],
   "source": [
    "import numpy as np\n",
    "import matplotlib.pyplot as plt\n",
    "from sklearn.model_selection import train_test_split\n",
    "from sklearn.linear_model import LinearRegression\n",
    "\n",
    "np.random.seed(0)\n",
    "X = 2.5 * np.random.randn(100) + 1.5   \n",
    "res = 0.5 * np.random.randn(100)       \n",
    "y = 2 + 0.3 * X + res                 \n",
    "\n",
    "X_train, X_test, y_train, y_test = train_test_split(X.reshape(-1,1), y, test_size=0.2, random_state=0)\n",
    "\n",
    "model = LinearRegression()\n",
    "model.fit(X_train, y_train)\n",
    "\n",
    "line_x = np.linspace(min(X_train), max(X_train), 100)\n",
    "line_y = model.intercept_ + model.coef_ * line_x\n",
    "\n",
    "plt.scatter(X_train, y_train, color='blue', label='Trainingsdaten')\n",
    "plt.scatter(X_test, y_test, color='green', label='Testdaten')\n",
    "plt.plot(line_x, line_y, color='red', label='Regressionslinie')\n",
    "plt.title('Lineare Regression')\n",
    "plt.xlabel('X')\n",
    "plt.ylabel('y')\n",
    "plt.legend()\n",
    "plt.show()\n"
   ]
  },
  {
   "cell_type": "markdown",
   "metadata": {},
   "source": [
    "### we do not derive the key figures here from other figures, but calculate them directly with python libraries "
   ]
  },
  {
   "cell_type": "code",
   "execution_count": 53,
   "metadata": {},
   "outputs": [
    {
     "name": "stdout",
     "output_type": "stream",
     "text": [
      "Mean Squared Error: 0.245222733362597\n"
     ]
    }
   ],
   "source": [
    "from sklearn.metrics import mean_squared_error\n",
    "\n",
    "# Make predictions on the test data\n",
    "y_pred = model.predict(X_test)\n",
    "\n",
    "# calculate Mean Squared Error (MSE) \n",
    "mse = mean_squared_error(y_test, y_pred)\n",
    "print(\"Mean Squared Error:\", mse)"
   ]
  },
  {
   "cell_type": "markdown",
   "metadata": {},
   "source": [
    "I think the RMSE is even cooler because the RMSE is in the same unit as the data points. you can simply take the root of the MSE."
   ]
  },
  {
   "cell_type": "code",
   "execution_count": 54,
   "metadata": {},
   "outputs": [
    {
     "name": "stdout",
     "output_type": "stream",
     "text": [
      "Root Mean Squared Error: 0.4951996903902475\n"
     ]
    }
   ],
   "source": [
    "import numpy as np\n",
    "\n",
    "rmse = np.sqrt(mse)\n",
    "print(\"Root Mean Squared Error:\", rmse)"
   ]
  },
  {
   "cell_type": "code",
   "execution_count": 55,
   "metadata": {},
   "outputs": [
    {
     "name": "stdout",
     "output_type": "stream",
     "text": [
      "Mean Absolute Percentage Error: 0.1742962792727952\n"
     ]
    }
   ],
   "source": [
    "from sklearn.metrics import mean_absolute_percentage_error\n",
    "\n",
    "#calculate Mean Absolute Percentage Error (MAPE) \n",
    "mape = mean_absolute_percentage_error(y_test, y_pred)\n",
    "print(\"Mean Absolute Percentage Error:\", mape)"
   ]
  },
  {
   "cell_type": "code",
   "execution_count": 56,
   "metadata": {},
   "outputs": [
    {
     "name": "stdout",
     "output_type": "stream",
     "text": [
      "R^2 Score: 0.6280065468471038\n"
     ]
    }
   ],
   "source": [
    "from sklearn.metrics import r2_score\n",
    "# calculate R^2 Score \n",
    "r2 = r2_score(y_test, y_pred)\n",
    "print(\"R^2 Score:\", r2)"
   ]
  },
  {
   "cell_type": "code",
   "execution_count": null,
   "metadata": {},
   "outputs": [],
   "source": []
  }
 ],
 "metadata": {
  "kernelspec": {
   "display_name": "Python 3 (ipykernel)",
   "language": "python",
   "name": "python3"
  },
  "language_info": {
   "codemirror_mode": {
    "name": "ipython",
    "version": 3
   },
   "file_extension": ".py",
   "mimetype": "text/x-python",
   "name": "python",
   "nbconvert_exporter": "python",
   "pygments_lexer": "ipython3",
   "version": "3.11.9"
  }
 },
 "nbformat": 4,
 "nbformat_minor": 4
}
